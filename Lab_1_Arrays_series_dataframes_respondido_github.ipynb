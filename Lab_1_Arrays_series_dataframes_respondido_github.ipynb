{
  "cells": [
    {
      "cell_type": "markdown",
      "metadata": {
        "id": "6FQj2Oh1BpHq"
      },
      "source": [
        "---\n",
        "<img src=\"https://ead.ufes.br/pluginfile.php/188418/course/summary/Banner%20IA%20e%20CD.png\" style=\"float: right;\">\n",
        "\n",
        "# Laboratório 1: Matrizes, Series e DataFrames\n",
        "\n",
        "\n",
        "Bem-vindo ao Laboratório 1!  Objetivo desta aula é familiarizar com  as ferramentas discutidas na Aula 03 - Análise Exploratória de dados.\n",
        "\n",
        "Não se apegue aqui com os detalhes da linguagem, você verá Python na próxima disciplina.\n",
        "\n",
        "**Não use loops `for` em nenhuma pergunta deste laboratório.** Se você não sabe o que é um loop `for`, não se preocupe: Isso será ensinado na próxima disciplina. Mas se você sabe o que eles são e está se perguntando por que não é correto usá-los, é porque os loops em Python são lentos e os loops em arrays e DataFrames geralmente devem ser evitados, já que temos funções nativas de bibliotecas como `numpy` que são muito mais rápidas.\n",
        "\n",
        "**Objetivos**\n",
        "\n",
        "Aprender como carregar dados de um arquivo CSV, manipulação de arrays e matrizes usando o `Numpy` ver na prática dados tabulares como matrizes, que com a biblioteca `pandas` são tratadas como dataframes.\n",
        "\n",
        "\n",
        "**Resultados Esperados**\n",
        "1. Compreender o que é uma matriz\n",
        "1. Conhecer as principais bibliotecas\n",
        "1. Ver as principais funcionalidades da biblioteca `NumPy`\n",
        "1. Compreender o que é um `Serie` e um `Dataframe` do `Pandas`\n",
        "\n",
        "\n",
        "\n",
        "Mais exemplos de manipulação de dataframes em https://notes.dsc10.com/02-data_sets/querying.html#examples\n",
        "\n"
      ]
    },
    {
      "cell_type": "markdown",
      "metadata": {
        "id": "lkf_5E1vNm99"
      },
      "source": [
        "### Dica: atalhos de teclado\n",
        "\n",
        "Existem vários atalhos de teclado integrados aos Notebooks projetados para ajudar você a economizar tempo. Para vê-los, pressione a tecla H do teclado (desde que você não esteja editando ativamente uma célula).\n",
        "\n",
        "Atalhos particularmente úteis:\n",
        "\n",
        "| Ação | Atalho de teclado |\n",
        "| --- | --- |\n",
        "| Executar célula + pular para a próxima célula | CTRL +  ENTER |\n",
        "| Executar tudo | CTRL + F9 |\n",
        "| Executar tudo abaixo da célula selecionado | CTRL + F10 |\n",
        "| Criar nova célula acima/abaixo | A/B |\n",
        "| Excluir célula | CTRL + M + D |"
      ]
    },
    {
      "cell_type": "code",
      "execution_count": 1,
      "metadata": {
        "id": "5H6DNswkBpHs"
      },
      "outputs": [],
      "source": [
        "import numpy as np\n",
        "import pandas as pd"
      ]
    },
    {
      "cell_type": "markdown",
      "metadata": {
        "id": "5ZagzL_kBpHt"
      },
      "source": [
        "Além disso, iremos baixar alguns dados que usaremos ao longo desse notebook. Não se preocupe em entender a célula a seguir, mas basicamente o que estamos fazendo é:\n",
        "\n",
        "1. Usaremos `wget` que é um comando para baixarmos coisas da internet.\n",
        "2. Usaremos `unzip` para \"dezipar\" o arquivo `data.zip`, contendo uma pasta com os nossos dados.\n",
        "3. Removeremos `data.zip` com o comando `rm` para não ficarmos com arquivos desnecessários.\n",
        "\n",
        "> Para executarmos comandos de terminal no Jupyter Notebook, iniciamos as linhas com `!`.\n",
        "\n",
        "Você pode ver os arquivos que foram baixados no símbolo diretório (na esquerda) diretório data. Se tudo funcionou corretamente,  a estrutura estará assim:\n",
        "\n",
        "-  data\n",
        " - imdb.csv\n",
        " - more_restaurantes_bills.csv\n",
        " - world_population.csv\n",
        " - world_population_2022.csv\n",
        "\n",
        "\n"
      ]
    },
    {
      "cell_type": "code",
      "execution_count": 2,
      "metadata": {
        "id": "kLQh45pfBpHu",
        "colab": {
          "base_uri": "https://localhost:8080/"
        },
        "outputId": "7ac0996f-a8fe-4178-e9fb-8852c67462e2"
      },
      "outputs": [
        {
          "output_type": "stream",
          "name": "stdout",
          "text": [
            "--2024-09-07 21:05:07--  http://www.inf.ufes.br/~vinicius.mota/Intro-IA-CD/01-dataframes/data.zip\n",
            "Resolving www.inf.ufes.br (www.inf.ufes.br)... 200.137.66.17\n",
            "Connecting to www.inf.ufes.br (www.inf.ufes.br)|200.137.66.17|:80... connected.\n",
            "HTTP request sent, awaiting response... 200 OK\n",
            "Length: 207630 (203K) [application/zip]\n",
            "Saving to: ‘./data.zip’\n",
            "\n",
            "data.zip            100%[===================>] 202.76K   223KB/s    in 0.9s    \n",
            "\n",
            "2024-09-07 21:05:10 (223 KB/s) - ‘./data.zip’ saved [207630/207630]\n",
            "\n",
            "Archive:  data.zip\n",
            "   creating: data/\n",
            "  inflating: data/imdb.csv           \n",
            "  inflating: data/more_restaurant_bills.csv  \n",
            "  inflating: data/world_population.csv  \n",
            "  inflating: data/world_population_2022.csv  \n"
          ]
        }
      ],
      "source": [
        "!wget http://www.inf.ufes.br/~vinicius.mota/Intro-IA-CD/01-dataframes/data.zip -P ./\n",
        "!unzip data.zip\n",
        "!rm data.zip"
      ]
    },
    {
      "cell_type": "markdown",
      "metadata": {
        "id": "0PPt3MjLBpHu"
      },
      "source": [
        "# 1. Matrizes\n",
        "\n",
        "Os computadores são mais úteis quando você pode usar uma pequena quantidade de código para *fazer a mesma ação* para *muitas coisas diferentes*.\n",
        "\n",
        "Por exemplo, no tempo que você leva para calcular a gorjeta de 18% na conta de um restaurante, um laptop pode calcular gorjetas de 18% para cada conta de restaurante paga por cada ser humano na Terra naquele dia. (Isto é, se você for muito rápido em fazer contas de cabeça!)\n",
        "\n",
        "**Matrizes** são como colocamos muitos valores em um só lugar para que possamos operar neles como um grupo. Por exemplo, se `bilhoes_de_numeros` for uma matriz de números, a expressão\n",
        "\n",
        "```python\n",
        "0.18 * bilhoes_de_numeros\n",
        "```\n",
        "\n",
        "fornece uma nova matriz de números que é o resultado da multiplicação de cada número em `bilhoes_de_numeros` por 0,18 (18%). As matrizes não estão limitadas a números; também podemos colocar todas as palavras de um livro em uma série de strings.\n",
        "\n",
        "Concretamente, uma matriz é uma **coleção de valores do mesmo tipo**, como uma coluna em uma planilha (pense no Planilhas Google ou no Microsoft Excel).\n",
        "\n",
        "<img src=\"http://www.inf.ufes.br/~vinicius.mota/Intro-IA-CD/01-dataframes/sheet_array.png\" width=600>"
      ]
    },
    {
      "cell_type": "markdown",
      "metadata": {
        "id": "s8AZTVddBpHv"
      },
      "source": [
        "## 1.1. Fazendo matrizes\n",
        "Você mesmo pode digitar os dados que vão em um array, mas normalmente não é assim que criaremos arrays. Normalmente, criamos arrays carregando-os de uma fonte externa, como um arquivo de dados.\n",
        "\n",
        "Porém, primeiro vamos aprender como fazer isso da maneira mais difícil. Para começar, podemos fazer uma **lista** de números colocando-os entre colchetes e separando-os por vírgulas:"
      ]
    },
    {
      "cell_type": "code",
      "execution_count": 3,
      "metadata": {
        "scrolled": true,
        "id": "G2bdLOcmBpHv",
        "colab": {
          "base_uri": "https://localhost:8080/"
        },
        "outputId": "7ef92f11-dec2-46a0-c381-b16021c12c6a"
      },
      "outputs": [
        {
          "output_type": "execute_result",
          "data": {
            "text/plain": [
              "[14, -2.26, 0.15]"
            ]
          },
          "metadata": {},
          "execution_count": 3
        }
      ],
      "source": [
        "minha_lista = [14, -2.26, 0.15]\n",
        "minha_lista"
      ]
    },
    {
      "cell_type": "markdown",
      "metadata": {
        "id": "heLJPvWuBpHw"
      },
      "source": [
        "Assim como `int`, `float` e `str`, a `list` é um tipo de dados fornecido pelo Python. As listas são muito flexíveis e fáceis de trabalhar, mas são *lentas* 🐢."
      ]
    },
    {
      "cell_type": "markdown",
      "metadata": {
        "id": "__NUUFwSBpHw"
      },
      "source": [
        "Como cientistas de dados, frequentemente trabalharemos com milhões ou até bilhões de números. Para isso, precisamos de algo mais rápido que uma `lista`. Em vez de listas, usaremos *arrays*.\n",
        "\n",
        "Arrays são fornecidos por um pacote chamado [NumPy](http://www.numpy.org/) (pronuncia-se \"NUM-pai\"). O pacote é chamado `numpy`, mas é padrão abreviá-lo para `np`. Você pode fazer isso com:\n",
        "\n",
        "```python\n",
        "import numpy as np\n",
        "```\n",
        "\n",
        "Cientistas de dados, bem como engenheiros e cientistas de todos os tipos, usam `numpy` com frequência, e você verá bastante disso se for especialista em ciência de dados."
      ]
    },
    {
      "cell_type": "code",
      "execution_count": 4,
      "metadata": {
        "id": "xErshkpCBpHx"
      },
      "outputs": [],
      "source": [
        "import numpy as np"
      ]
    },
    {
      "cell_type": "markdown",
      "metadata": {
        "id": "s-RXa7onBpHy"
      },
      "source": [
        "Agora, para criar um array, chame a função `np.array` com uma lista de números. Execute esta célula para ver um exemplo:"
      ]
    },
    {
      "cell_type": "code",
      "execution_count": 5,
      "metadata": {
        "scrolled": true,
        "id": "nExL4g0dBpHy",
        "colab": {
          "base_uri": "https://localhost:8080/"
        },
        "outputId": "a5eb4bf6-33e4-4e82-b585-ec0739c4fab4"
      },
      "outputs": [
        {
          "output_type": "execute_result",
          "data": {
            "text/plain": [
              "array([14.  , -2.26,  0.15])"
            ]
          },
          "metadata": {},
          "execution_count": 5
        }
      ],
      "source": [
        "np.array([14, -2.26, 0.15])"
      ]
    },
    {
      "cell_type": "markdown",
      "metadata": {
        "id": "F_cA7c0lBpHy"
      },
      "source": [
        "Observe que você precisa dos colchetes aqui. Se você tentasse executar o código a seguir, o Python acharia ruim porque você o esqueceu:\n",
        "\n",
        "```python\n",
        "np.array(14, -2.26, 0.15)\n",
        "```\n"
      ]
    },
    {
      "cell_type": "markdown",
      "metadata": {
        "id": "sOAHERVsBpHz"
      },
      "source": [
        "Os próprios arrays também são valores, assim como números e strings. Isso significa que você pode atribuir nomes a eles ou usá-los como argumentos para funções.\n",
        "\n",
        "**Questão 1.1.1.** Faça um array contendo os números 2, 4 e 6, nessa ordem. Nomeie-o como `numeros_pares`."
      ]
    },
    {
      "cell_type": "code",
      "execution_count": 6,
      "metadata": {
        "id": "32A9WkdNBpHz",
        "colab": {
          "base_uri": "https://localhost:8080/"
        },
        "outputId": "1a203f38-3292-4b51-f5e7-67490fdc8ccf"
      },
      "outputs": [
        {
          "output_type": "stream",
          "name": "stdout",
          "text": [
            "numeros_pares [2, 4, 6]\n"
          ]
        }
      ],
      "source": [
        "numeros_pares = ([2, 4, 6])\n",
        "print(f'numeros_pares',numeros_pares)"
      ]
    },
    {
      "cell_type": "markdown",
      "metadata": {
        "id": "t_7lWzKABpH0"
      },
      "source": [
        "**Questão 1.1.2.** Faça um array contendo as cinco strings `\"Hello\"`, `\",\"`, `\" \"`, `\"world\"` e `\"!\"`. (O terceiro é um espaço único entre aspas.) Nomeie-o como `componentes_hello_world`.\n",
        "\n",
        "*Nota:* Se você imprimir `componentes_hello_world`, você notará algumas informações extras além de seu conteúdo: `dtype='<U5'`. Essa é apenas a maneira extremamente estranha do NumPy de dizer que as coisas no array são strings. Caso você esteja interessado, o `U` significa que esta string está codificada em [unicode](https://en.wikipedia.org/wiki/Unicode), e o `<5` significa que todas as strings no array têm 5 caracteres ou menos."
      ]
    },
    {
      "cell_type": "code",
      "execution_count": 7,
      "metadata": {
        "id": "QKlPfx5oBpH0",
        "colab": {
          "base_uri": "https://localhost:8080/"
        },
        "outputId": "b01c5baa-7d5f-478c-caf6-fa3dc896f673"
      },
      "outputs": [
        {
          "output_type": "stream",
          "name": "stdout",
          "text": [
            "componentes_hello_world ['Hello', ',', ' ', 'world', '!']\n"
          ]
        }
      ],
      "source": [
        "componentes_hello_world = ([\"Hello\", \",\", \" \", \"world\",\"!\"])\n",
        "print(f'componentes_hello_world',componentes_hello_world)"
      ]
    },
    {
      "cell_type": "markdown",
      "metadata": {
        "id": "p0wsKBMKBpH0"
      },
      "source": [
        "Muitas vezes, em ciência de dados, queremos trabalhar com muitos números espaçados uniformemente dentro de algum intervalo. NumPy fornece uma função especial para isso chamada `arange`.\n",
        " A expressão `np.arange(comeco, fim, espaco)`\n",
        "\n",
        " produz um array com todos os números começando em `comeco`, contando de  `espaco` em `espaco`, parando **antes** de `fim` ser alcançado.\n",
        "\n",
        "Por exemplo, o valor de `np.arange(1, 8, 2)` é uma matriz com os elementos `1, 3, 5 e 7` - começa em 1 e vai contando de 2 em 2, terminando até chegar no último valor menor que 8. Em outros palavras, ele cria o mesmo array que `np.array([1, 3, 5, 7])`.\n",
        "\n",
        "`np.arange(4, 9, 1)` é um array com os elementos `4, 5, 6, 7 e 8`, não contendo o 9 porque `np.arange` para *antes* do valor de parada ser atingido.\n",
        "\n",
        "**Pergunta 1.1.3.** Use `np.arange` para criar um array com todos os múltiplos de 99 de 0 até (**e incluindo**) 9999. (Portanto, seus elementos são 0, 99, 198, 297, etc.)"
      ]
    },
    {
      "cell_type": "code",
      "execution_count": 8,
      "metadata": {
        "id": "Tk3mvxn3BpH0",
        "colab": {
          "base_uri": "https://localhost:8080/"
        },
        "outputId": "2785d5e1-321e-4a36-9b13-d2964f740972"
      },
      "outputs": [
        {
          "output_type": "stream",
          "name": "stdout",
          "text": [
            "multiplos_de_99 [   0   99  198  297  396  495  594  693  792  891  990 1089 1188 1287\n",
            " 1386 1485 1584 1683 1782 1881 1980 2079 2178 2277 2376 2475 2574 2673\n",
            " 2772 2871 2970 3069 3168 3267 3366 3465 3564 3663 3762 3861 3960 4059\n",
            " 4158 4257 4356 4455 4554 4653 4752 4851 4950 5049 5148 5247 5346 5445\n",
            " 5544 5643 5742 5841 5940 6039 6138 6237 6336 6435 6534 6633 6732 6831\n",
            " 6930 7029 7128 7227 7326 7425 7524 7623 7722 7821 7920 8019 8118 8217\n",
            " 8316 8415 8514 8613 8712 8811 8910 9009 9108 9207 9306 9405 9504 9603\n",
            " 9702 9801 9900 9999]\n"
          ]
        }
      ],
      "source": [
        "import numpy as np\n",
        "\n",
        "multiplos_de_99 = np.arange(0, 10000, 99)\n",
        "print(f'multiplos_de_99', multiplos_de_99)"
      ]
    },
    {
      "cell_type": "code",
      "source": [
        "#@title solução\n",
        "multiplos_de_99 = np.arange(0, 10000, 99)\n",
        "multiplos_de_99"
      ],
      "metadata": {
        "id": "PyePhiBZB6sL",
        "outputId": "80d31d32-5034-492a-bb71-626ba4e10157",
        "colab": {
          "base_uri": "https://localhost:8080/"
        }
      },
      "execution_count": 9,
      "outputs": [
        {
          "output_type": "execute_result",
          "data": {
            "text/plain": [
              "array([   0,   99,  198,  297,  396,  495,  594,  693,  792,  891,  990,\n",
              "       1089, 1188, 1287, 1386, 1485, 1584, 1683, 1782, 1881, 1980, 2079,\n",
              "       2178, 2277, 2376, 2475, 2574, 2673, 2772, 2871, 2970, 3069, 3168,\n",
              "       3267, 3366, 3465, 3564, 3663, 3762, 3861, 3960, 4059, 4158, 4257,\n",
              "       4356, 4455, 4554, 4653, 4752, 4851, 4950, 5049, 5148, 5247, 5346,\n",
              "       5445, 5544, 5643, 5742, 5841, 5940, 6039, 6138, 6237, 6336, 6435,\n",
              "       6534, 6633, 6732, 6831, 6930, 7029, 7128, 7227, 7326, 7425, 7524,\n",
              "       7623, 7722, 7821, 7920, 8019, 8118, 8217, 8316, 8415, 8514, 8613,\n",
              "       8712, 8811, 8910, 9009, 9108, 9207, 9306, 9405, 9504, 9603, 9702,\n",
              "       9801, 9900, 9999])"
            ]
          },
          "metadata": {},
          "execution_count": 9
        }
      ]
    },
    {
      "cell_type": "markdown",
      "metadata": {
        "id": "l50PR2BvBpH1"
      },
      "source": [
        "## 1.2. Trabalhando com elementos únicos de arrays (\"indexação\")\n",
        "Vamos trabalhar com um conjunto de dados mais interessante. A próxima célula cria uma matriz chamada `populacao` que inclui populações mundiais estimadas em cada ano de **1950** a **2022**. (As estimativas vêm da seguinte [base de dados internacional](https://www.census.gov/data-tools/demo/idb/#/country?COUNTRY_YEAR=2022&COUNTRY_YR_ANIM=2022), mantida pelo US Census Bureau.)\n",
        "\n",
        "Em vez de digitar os dados manualmente, nós os carregamos de um arquivo em seu computador chamado `world_population_2022.csv`.\n",
        "\n",
        "`CSV` ou Comma  separated values são arquivos tabulares onde cada linha representa uma amostra e cada coluna um atributo da amostra (similar a um arquivo de planilha excel)."
      ]
    },
    {
      "cell_type": "code",
      "execution_count": 10,
      "metadata": {
        "id": "TMi5GDDLBpH1",
        "colab": {
          "base_uri": "https://localhost:8080/"
        },
        "outputId": "5ba21546-a9f4-4eae-bb56-f398edd9ef82"
      },
      "outputs": [
        {
          "output_type": "execute_result",
          "data": {
            "text/plain": [
              "array([2557619597, 2594942227, 2636777090, 2682060684, 2730237675,\n",
              "       2782111389, 2835315327, 2891368627, 2948159570, 3000742521,\n",
              "       3043031253, 3084053711, 3140239653, 3210037409, 3281477826,\n",
              "       3350773176, 3421097064, 3490825940, 3562887008, 3637819236,\n",
              "       3713457589, 3791172327, 3867519813, 3943132388, 4017779234,\n",
              "       4089387557, 4159536915, 4230430893, 4301282222, 4374940345,\n",
              "       4445975606, 4527418598, 4610620221, 4694937687, 4777055423,\n",
              "       4862317393, 4949951891, 5040273543, 5131575729, 5222662682,\n",
              "       5315511894, 5403253915, 5490481497, 5568231516, 5650178207,\n",
              "       5733211108, 5815333785, 5895837672, 5975189305, 6053955779,\n",
              "       6132455985, 6211328357, 6290282107, 6369186797, 6448262425,\n",
              "       6527056809, 6607396274, 6689442159, 6773319540, 6857160919,\n",
              "       6939761510, 7022084781, 7105001721, 7188528811, 7271598780,\n",
              "       7353476064, 7435151387, 7516769535, 7597066210, 7676686052,\n",
              "       7756873419, 7831718605, 7905336896])"
            ]
          },
          "metadata": {},
          "execution_count": 10
        }
      ],
      "source": [
        "# Não se preocupe sobre o que está acontecendo nessa célula por enquanto\n",
        "populacao = pd.read_csv(\"data/world_population_2022.csv\").get(\"Population\").values\n",
        "populacao"
      ]
    },
    {
      "cell_type": "markdown",
      "metadata": {
        "id": "rdk0222VBpH1"
      },
      "source": [
        "Veja como obtemos o primeiro elemento de `populacao`, que é a população mundial no primeiro ano do conjunto de dados, 1950."
      ]
    },
    {
      "cell_type": "code",
      "execution_count": 11,
      "metadata": {
        "id": "5OcJ0DhrBpH2",
        "colab": {
          "base_uri": "https://localhost:8080/"
        },
        "outputId": "d89d70a2-4873-4921-bcb3-8a3e0ae05f0c"
      },
      "outputs": [
        {
          "output_type": "execute_result",
          "data": {
            "text/plain": [
              "2557619597"
            ]
          },
          "metadata": {},
          "execution_count": 11
        }
      ],
      "source": [
        "populacao[0]"
      ]
    },
    {
      "cell_type": "markdown",
      "metadata": {
        "id": "APPl-L_sBpH2"
      },
      "source": [
        "Observe que usamos colchetes aqui. Os colchetes sinalizam que estamos *acessando* um elemento do array. Colchetes em Python são como subscritos em matemática (igual $x_1$, $x_2$, ...).\n",
        "\n",
        "O valor dessa expressão é o número 2557619597 (cerca de 2,5 bilhões), porque é a primeira coisa na matriz `populacao`.\n",
        "\n",
        "Observe que escrevemos `populacao[0]`, não `populacao[1]`, para obter o primeiro elemento. Esta é uma convenção estranha na ciência da computação. 0 é chamado de *índice* do primeiro item. Seguindo essa lógica, então 3, por exemplo, é o índice do 4º item.\n",
        "\n",
        "Aqui estão mais alguns exemplos. Nos exemplos, demos nomes às coisas que obtemos de `populacao`. Leia e execute cada célula."
      ]
    },
    {
      "cell_type": "code",
      "execution_count": 12,
      "metadata": {
        "id": "F6Ab7DweBpH2",
        "colab": {
          "base_uri": "https://localhost:8080/"
        },
        "outputId": "c2ca001b-19f0-4880-8db8-0f3d73f0cd87"
      },
      "outputs": [
        {
          "output_type": "execute_result",
          "data": {
            "text/plain": [
              "2636777090"
            ]
          },
          "metadata": {},
          "execution_count": 12
        }
      ],
      "source": [
        "# O terceiro elemento do array é a população em 1952.\n",
        "populacao_1952 = populacao[2]\n",
        "populacao_1952"
      ]
    },
    {
      "cell_type": "code",
      "execution_count": 13,
      "metadata": {
        "id": "C3pYB9D4BpH2",
        "colab": {
          "base_uri": "https://localhost:8080/"
        },
        "outputId": "425ef351-4d57-48da-c90b-01db9a8a3240"
      },
      "outputs": [
        {
          "output_type": "execute_result",
          "data": {
            "text/plain": [
              "3140239653"
            ]
          },
          "metadata": {},
          "execution_count": 13
        }
      ],
      "source": [
        "# O décimo terceiro elemento do array é a população em 1962 (que é 1950 + 12).\n",
        "populacao_1962 = populacao[12]\n",
        "populacao_1962"
      ]
    },
    {
      "cell_type": "code",
      "execution_count": 14,
      "metadata": {
        "id": "FjpkzRpqBpH3",
        "colab": {
          "base_uri": "https://localhost:8080/"
        },
        "outputId": "70855d6c-b3c5-4714-c3fd-ff46119df132"
      },
      "outputs": [
        {
          "output_type": "execute_result",
          "data": {
            "text/plain": [
              "7905336896"
            ]
          },
          "metadata": {},
          "execution_count": 14
        }
      ],
      "source": [
        "# O 73º elemento do array é a população em 2022.\n",
        "populacao_2022 = populacao[72]\n",
        "populacao_2022"
      ]
    },
    {
      "cell_type": "code",
      "execution_count": 15,
      "metadata": {
        "tags": [
          "raises-exception"
        ],
        "id": "4oJO6kLABpH3"
      },
      "outputs": [],
      "source": [
        "# O array possui apenas 73 elementos, então isso não funciona.\n",
        "#populacao_2023 = populacao[73]\n",
        "#populacao_2023\n",
        "\n",
        "# 🚨 Depois de executar esta célula, coloque um # antes de cada linha acima\n",
        "# para garantir que ela não seja executada novamente."
      ]
    },
    {
      "cell_type": "markdown",
      "metadata": {
        "id": "_EfcuQIABpH3"
      },
      "source": [
        "**Questão 1.2.1.** Defina `populacao_1998` para a população mundial em 1998, obtendo o elemento apropriado de `populacao`."
      ]
    },
    {
      "cell_type": "code",
      "execution_count": 17,
      "metadata": {
        "id": "DgS_Tp2DBpH3",
        "outputId": "994ee9ef-ee94-4ae2-ac3f-8fa7888ea3b6",
        "colab": {
          "base_uri": "https://localhost:8080/"
        }
      },
      "outputs": [
        {
          "output_type": "stream",
          "name": "stdout",
          "text": [
            "populacao_1998 5975189305\n"
          ]
        }
      ],
      "source": [
        "populacao_1998 = populacao[48]\n",
        "print(f'populacao_1998', populacao_1998)"
      ]
    },
    {
      "cell_type": "code",
      "source": [
        "#@title Solução\n",
        "# 1998 - 1950  = 48\n",
        "populacao_1998 = populacao[48]\n",
        "populacao_1998"
      ],
      "metadata": {
        "id": "gdqRUmnvDJRn"
      },
      "execution_count": null,
      "outputs": []
    },
    {
      "cell_type": "markdown",
      "metadata": {
        "id": "UQ4LVLjeBpIB"
      },
      "source": [
        "# 2. DataFrames"
      ]
    },
    {
      "cell_type": "markdown",
      "metadata": {
        "id": "wP6OyQUOBpIB"
      },
      "source": [
        "## 2.1. Introdução\n",
        "\n",
        "Para uma coleção de coisas no mundo, um array é útil para descrever um único atributo de cada coisa. As tabelas ampliam essa ideia descrevendo vários atributos para cada elemento de uma coleção.\n",
        "\n",
        "Na célula abaixo temos dois arrays. O primeiro contém a população mundial em cada ano (conforme estimado pelo US Census Bureau), e o segundo contém os próprios anos (em ordem, de modo que os primeiros elementos na população e as matrizes de anos correspondam)."
      ]
    },
    {
      "cell_type": "code",
      "execution_count": null,
      "metadata": {
        "id": "-QbMRkV2BpIB"
      },
      "outputs": [],
      "source": [
        "anos = np.arange(1950, 2022+1)\n",
        "quantidade_populacional = pd.read_csv(\"data/world_population_2022.csv\").get(\"Population\").values\n",
        "\n",
        "print(\"Coluna de população:\", quantidade_populacional)\n",
        "print(\"Coluna dos anos:\", anos)"
      ]
    },
    {
      "cell_type": "markdown",
      "metadata": {
        "id": "CuY0ClNEBpIB"
      },
      "source": [
        "Suponha que queiramos responder a esta pergunta:\n",
        "\n",
        "> Quando é que a população mundial ultrapassou os 7 mil milhões?\n",
        "\n",
        "Você poderia tecnicamente responder a essa pergunta apenas olhando para as matrizes, mas é um pouco complicado, pois seria necessário contar a posição onde a população ultrapassou pela primeira vez os 7 bilhões e, em seguida, encontrar o elemento correspondente na matriz de anos. Em casos como estes, pode ser mais fácil colocar os dados em uma tabela."
      ]
    },
    {
      "cell_type": "markdown",
      "metadata": {
        "id": "cUp6z8ddBpIC"
      },
      "source": [
        "Assim como `numpy` fornece arrays, um pacote popular chamado `pandas` fornece **DataFrames**, que é o nome em `pandas` para **tabelas**. `pandas` é *a* ferramenta para fazer ciência de dados em Python.\n",
        "\n",
        "Você pode importar `pandas` usando o seguinte código:"
      ]
    },
    {
      "cell_type": "code",
      "execution_count": null,
      "metadata": {
        "id": "tP1oxI2_BpIC"
      },
      "outputs": [],
      "source": [
        "import pandas as pd"
      ]
    },
    {
      "cell_type": "markdown",
      "metadata": {
        "id": "himRXSbHBpIC"
      },
      "source": [
        "A célula abaixo:\n",
        "\n",
        "- cria um DataFrame vazio usando a expressão `pd.DataFrame()`,\n",
        "- atribui duas colunas ao DataFrame chamando `assign`,\n",
        "- atribui o DataFrame resultante ao nome `populacao_df` e, finalmente\n",
        "- exibe `populacao_df` para que possamos ver o DataFrame que criamos.\n",
        "\n",
        "`\"Populacao\"` e `\"Ano\"` são rótulos de coluna que escolhemos. Poderíamos ter escolhido qualquer coisa, mas é uma boa ideia escolher nomes que sejam descritivos e não muito longos."
      ]
    },
    {
      "cell_type": "code",
      "execution_count": null,
      "metadata": {
        "id": "LEdf8YJsBpID"
      },
      "outputs": [],
      "source": [
        "populacao_df = pd.DataFrame().assign(\n",
        "    Populacao=quantidade_populacional,\n",
        "    Ano=anos\n",
        ")\n",
        "\n",
        "populacao_df"
      ]
    },
    {
      "cell_type": "markdown",
      "metadata": {
        "id": "y_cDDRQGBpID"
      },
      "source": [
        "Agora os dados estão todos juntos em um único DataFrame! É muito mais fácil analisar esses dados. Se você precisa saber qual era a população em 2011, por exemplo, você pode saber com um simples olhar. Revisitaremos este DataFrame mais tarde."
      ]
    },
    {
      "cell_type": "markdown",
      "metadata": {
        "id": "xiUFZvluBpID"
      },
      "source": [
        "**Questão 2.1.1.** Na célula abaixo, criamos 2 arrays. Usando as etapas acima, atribua `top_10_filmes` a um DataFrame que possui duas colunas chamadas `Avaliacao` e `Nome`, que contêm `top_10_avaliacoes` e `top_10_nomes` respectivamente."
      ]
    },
    {
      "cell_type": "code",
      "execution_count": null,
      "metadata": {
        "id": "qPR9OpSwBpID"
      },
      "outputs": [],
      "source": [
        "top_10_avaliacoes = np.array([9.2, 9.2, 9., 8.9, 8.9, 8.9, 8.9, 8.9, 8.9, 8.8])\n",
        "top_10_nomes = np.array([\n",
        "        'The Shawshank Redemption (1994)',\n",
        "        'The Godfather (1972)',\n",
        "        'The Godfather: Part II (1974)',\n",
        "        'Pulp Fiction (1994)',\n",
        "        \"Schindler's List (1993)\",\n",
        "        'The Lord of the Rings: The Return of the King (2003)',\n",
        "        '12 Angry Men (1957)',\n",
        "        'The Dark Knight (2008)',\n",
        "        'Il buono, il brutto, il cattivo (1966)',\n",
        "        'The Lord of the Rings: The Fellowship of the Ring (2001)'\n",
        "])"
      ]
    },
    {
      "cell_type": "code",
      "execution_count": null,
      "metadata": {
        "id": "1g_dPXsiBpID"
      },
      "outputs": [],
      "source": [
        "import pandas as pd\n",
        "import numpy as np\n",
        "top_10_avaliacoes = np.array([9.2, 9.2, 9., 8.9, 8.9, 8.9, 8.9, 8.9, 8.9, 8.8])\n",
        "top_10_nomes = np.array([\n",
        "        'The Shawshank Redemption (1994)',\n",
        "        'The Godfather (1972)',\n",
        "        'The Godfather: Part II (1974)',\n",
        "        'Pulp Fiction (1994)',\n",
        "        \"Schindler's List (1993)\",\n",
        "        'The Lord of the Rings: The Return of the King (2003)',\n",
        "        '12 Angry Men (1957)',\n",
        "        'The Dark Knight (2008)',\n",
        "        'Il buono, il brutto, il cattivo (1966)',\n",
        "        'The Lord of the Rings: The Fellowship of the Ring (2001)'\n",
        "])\n",
        "top_10_filmes = pd.DataFrame().assign(\n",
        "    Nome=top_10_nomes,\n",
        "    Avaliacao=top_10_avaliacoes\n",
        ")\n",
        "top_10_filmes"
      ]
    },
    {
      "cell_type": "code",
      "source": [
        "#@title Solução\n",
        "top_10_filmes = pd.DataFrame().assign(\n",
        "    Nome=top_10_nomes,\n",
        "    Avaliacao=top_10_avaliacoes\n",
        ")\n",
        "top_10_filmes"
      ],
      "metadata": {
        "cellView": "form",
        "id": "gGwSUbSBHRHX"
      },
      "execution_count": null,
      "outputs": []
    },
    {
      "cell_type": "markdown",
      "metadata": {
        "id": "47FiutKfBpIE"
      },
      "source": [
        "Suponha que você queira adicionar suas próprias classificações a este DataFrame. A célula abaixo contém sua avaliação de cada filme:"
      ]
    },
    {
      "cell_type": "code",
      "execution_count": null,
      "metadata": {
        "id": "ZzVOF3mSBpIE"
      },
      "outputs": [],
      "source": [
        "minhas_avaliacoes = [8, 2, 1, 9, 7, 10, 6, 4, 3, 5]"
      ]
    },
    {
      "cell_type": "markdown",
      "metadata": {
        "id": "zSAz6I-JBpIE"
      },
      "source": [
        "**Pergunta 2.1.2** Você também pode usar o método `assign` para adicionar uma coluna a um DataFrame já existente. Crie um novo DataFrame chamado `com_minhas_avaliacoes` adicionando uma coluna chamada `MinhaAvaliacao` ao DataFrame em `top_10_filmes`."
      ]
    },
    {
      "cell_type": "code",
      "execution_count": null,
      "metadata": {
        "id": "0bq2hksvBpIE"
      },
      "outputs": [],
      "source": [
        "import pandas as pd\n",
        "import numpy as np\n",
        "top_10_avaliacoes = np.array([9.2, 9.2, 9., 8.9, 8.9, 8.9, 8.9, 8.9, 8.9, 8.8])\n",
        "top_10_nomes = np.array([\n",
        "        'The Shawshank Redemption (1994)',\n",
        "        'The Godfather (1972)',\n",
        "        'The Godfather: Part II (1974)',\n",
        "        'Pulp Fiction (1994)',\n",
        "        \"Schindler's List (1993)\",\n",
        "        'The Lord of the Rings: The Return of the King (2003)',\n",
        "        '12 Angry Men (1957)',\n",
        "        'The Dark Knight (2008)',\n",
        "        'Il buono, il brutto, il cattivo (1966)',\n",
        "        'The Lord of the Rings: The Fellowship of the Ring (2001)'\n",
        "])\n",
        "com_minhas_avaliacoes = np.array([8, 2, 1, 9, 7, 10, 6, 4, 3, 5])\n",
        "MinhaAvaliacao = pd.DataFrame().assign(\n",
        "    Nome=top_10_nomes,\n",
        "    Avaliacao=top_10_avaliacoes,\n",
        "    MinhaAvaliacao=com_minhas_avaliacoes\n",
        ")\n",
        "MinhaAvaliacao"
      ]
    },
    {
      "cell_type": "code",
      "source": [
        "#@title Solução\n",
        "com_minhas_avaliacoes = top_10_filmes.assign(MinhaAvaliacao=minhas_avaliacoes)\n",
        "com_minhas_avaliacoes"
      ],
      "metadata": {
        "id": "UYu86650HlOm"
      },
      "execution_count": null,
      "outputs": []
    },
    {
      "cell_type": "markdown",
      "metadata": {
        "id": "RT8noCj6BpIE"
      },
      "source": [
        "## 2.2. Índices\n",
        "\n",
        "Você deve ter notado que o DataFrame de populações contém o que parece ser uma coluna extra e sem rótulo à esquerda com os números de 0 a 65. **Isto não é uma coluna, é o que chamamos de *índice***. O índice contém os rótulos das linhas. Enquanto as colunas deste DataFrame são rotuladas como `\"Populacao\"` e `\"Ano\"`, as linhas são rotuladas como 0, 1, ..., 65.\n",
        "\n",
        "Por padrão, `pandas` não sabe como rotular as linhas, então apenas as numera (começando com 0). É claro que, neste caso, faz mais sentido usar o ano como rótulo da linha. Podemos fazer isso dizendo ao `pandas` para definir a coluna `\"Ano\"` como índice:"
      ]
    },
    {
      "cell_type": "code",
      "execution_count": null,
      "metadata": {
        "id": "52F8sb4kBpIF"
      },
      "outputs": [],
      "source": [
        "populacao_por_ano = populacao_df.set_index('Ano')\n",
        "populacao_por_ano"
      ]
    },
    {
      "cell_type": "markdown",
      "metadata": {
        "id": "dBgp9jecBpIF"
      },
      "source": [
        "Como veremos, isso faz mais do que deixar o DataFrame mais bonito – é muito útil também."
      ]
    },
    {
      "cell_type": "markdown",
      "metadata": {
        "id": "MyGrc0RwBpIF"
      },
      "source": [
        "**Pergunta 2.2.1** Crie um novo DataFrame chamado `top_10_filmes_por_nome` pegando o DataFrame que você criou acima, `top_10_filmes`, e definindo o índice como a coluna `Nome`."
      ]
    },
    {
      "cell_type": "code",
      "execution_count": null,
      "metadata": {
        "id": "3OSCi8MBBpIF"
      },
      "outputs": [],
      "source": [
        "import pandas as pd\n",
        "import numpy as np\n",
        "top_10_avaliacoes = np.array([9.2, 9.2, 9., 8.9, 8.9, 8.9, 8.9, 8.9, 8.9, 8.8])\n",
        "top_10_nomes = np.array([\n",
        "        'The Shawshank Redemption (1994)',\n",
        "        'The Godfather (1972)',\n",
        "        'The Godfather: Part II (1974)',\n",
        "        'Pulp Fiction (1994)',\n",
        "        \"Schindler's List (1993)\",\n",
        "        'The Lord of the Rings: The Return of the King (2003)',\n",
        "        '12 Angry Men (1957)',\n",
        "        'The Dark Knight (2008)',\n",
        "        'Il buono, il brutto, il cattivo (1966)',\n",
        "        'The Lord of the Rings: The Fellowship of the Ring (2001)'\n",
        "])\n",
        "top_10_filmes = pd.DataFrame().assign(\n",
        "    Nome=top_10_nomes,\n",
        "    Avaliacao=top_10_avaliacoes\n",
        ")\n",
        "top_10_filmes_por_nome = top_10_filmes.set_index('Nome')\n",
        "top_10_filmes_por_nome"
      ]
    },
    {
      "cell_type": "code",
      "source": [
        "#@title Solução\n",
        "top_10_filmes_por_nome = top_10_filmes.set_index('Nome')\n",
        "top_10_filmes_por_nome"
      ],
      "metadata": {
        "cellView": "form",
        "id": "06QojzxcIFCP"
      },
      "execution_count": null,
      "outputs": []
    },
    {
      "cell_type": "markdown",
      "metadata": {
        "id": "DZcn8VEdBpIF"
      },
      "source": [
        "Você pode obter um array de nomes de linhas usando `.index`. Por exemplo, o array de nomes de linhas do DataFrame `populacao_por_ano` é:"
      ]
    },
    {
      "cell_type": "code",
      "execution_count": null,
      "metadata": {
        "id": "R6ZOt1gKBpIF"
      },
      "outputs": [],
      "source": [
        "populacao_por_ano.index"
      ]
    },
    {
      "cell_type": "markdown",
      "metadata": {
        "id": "3xEX8OMWBpIG"
      },
      "source": [
        "## 2.3 Lendo um DataFrame de um arquivo\n",
        "Na maioria dos casos, não teremos o trabalho de digitar todos os dados manualmente. Em vez disso, podemos usar funções fornecidas por `pandas` para ler dados de arquivos externos.\n",
        "\n",
        "A função `pd.read_csv()` pega um argumento, um caminho para um arquivo de dados (uma string) e retorna um DataFrame. Existem muitos formatos de arquivos de dados, mas CSV (*comma separated values*, ou \"valores separados por vírgula\") é o mais comum.\n",
        "\n",
        "**dataframe** O arquivo `data/imdb.csv` contém informações sobre os 250 filmes mais bem avaliados no IMDb. Carregue-o como um DataFrame chamado `imdb`."
      ]
    },
    {
      "cell_type": "code",
      "execution_count": null,
      "metadata": {
        "id": "GiDQF1FvBpIH"
      },
      "outputs": [],
      "source": [
        "imdb =pd.read_csv('data/imdb.csv')\n",
        "imdb"
      ]
    },
    {
      "cell_type": "markdown",
      "metadata": {
        "id": "wcXqjFpCBpIH"
      },
      "source": [
        "Observe os `...` no meio do DataFrame. Isso significa que muitas linhas foram omitidas. Este DataFrame é grande o suficiente para que apenas algumas de suas linhas sejam exibidas, mas as outras ainda estão lá. São 250 filmes no total.\n",
        "\n",
        "De onde veio o `imdb.csv`? Se você entrar no diretório `data/`, deverá ver um arquivo chamado `imdb.csv`.\n",
        "\n",
        "Abra o arquivo `imdb.csv` nessa pasta e observe o formato. O que você percebe? A terminação do nome do arquivo `.csv` indica que este arquivo está no formato [CSV (comma-separated value)](http://edoceo.com/utilitas/csv-file-format)."
      ]
    },
    {
      "cell_type": "markdown",
      "metadata": {
        "id": "CgWkYAiJBpIH"
      },
      "source": [
        "**Pergunta 2.3.2.** Este é um conjunto de dados de filmes, portanto faz sentido usar o título do filme como rótulo da linha. Crie um novo DataFrame chamado `imdb_por_nome` que usa o título do filme como índice."
      ]
    },
    {
      "cell_type": "code",
      "execution_count": null,
      "metadata": {
        "id": "kOuBH9CQBpIH"
      },
      "outputs": [],
      "source": [
        "import pandas as pd\n",
        "import numpy as np\n",
        "imdb = pd.read_csv('/usr/data/imdb.csv')\n",
        "imdb_por_nome = imdb.set_index('Title')\n",
        "imdb_por_nome"
      ]
    },
    {
      "cell_type": "code",
      "source": [
        "#@title Solução\n",
        "imdb_por_nome = imdb.set_index('Title')\n",
        "imdb_por_nome"
      ],
      "metadata": {
        "id": "KqPOP8PgIhyW"
      },
      "execution_count": null,
      "outputs": []
    },
    {
      "cell_type": "markdown",
      "metadata": {
        "id": "XnVZFp2lBpIH"
      },
      "source": [
        "## 2.4. Series\n",
        "\n"
      ]
    },
    {
      "cell_type": "markdown",
      "metadata": {
        "id": "LkXj-pTeBpII"
      },
      "source": [
        "Suponha que estejamos interessados ​​principalmente nas classificações de filmes. Para extrair apenas esta coluna do DataFrame, usamos o método `.get`:"
      ]
    },
    {
      "cell_type": "code",
      "execution_count": null,
      "metadata": {
        "id": "xVeJU1jHBpII"
      },
      "outputs": [],
      "source": [
        "avaliacoes = imdb_por_nome.get('Rating')\n",
        "avaliacoes"
      ]
    },
    {
      "cell_type": "markdown",
      "metadata": {
        "id": "jhTwAGBZBpII"
      },
      "source": [
        "Observe como não apenas as classificações do filme foram retornadas, mas também o nome do filme! Isto ocorre precisamente porque definimos o título do filme como o índice! Por exemplo, se tivéssemos solicitado a coluna `\"Rating\"` do DataFrame original, `imdb`, veríamos:"
      ]
    },
    {
      "cell_type": "code",
      "execution_count": null,
      "metadata": {
        "id": "7kUEs_XUBpII"
      },
      "outputs": [],
      "source": [
        "imdb.get('Rating')"
      ]
    },
    {
      "cell_type": "markdown",
      "metadata": {
        "id": "AYwzYa20BpII"
      },
      "source": [
        "Esta é uma forma pela qual os índices são muito úteis – eles fornecem rótulos significativos para os dados."
      ]
    },
    {
      "cell_type": "markdown",
      "metadata": {
        "id": "CHF2NQ9_BpIJ"
      },
      "source": [
        "À primeira vista, pode parecer que pedir uma coluna usando `.get` retorna um DataFrame com uma coluna, mas isso não está certo. Em vez disso, ele retorna um tipo especial de coisa chamado **Series**:"
      ]
    },
    {
      "cell_type": "code",
      "execution_count": null,
      "metadata": {
        "id": "6dMpsP4_BpIJ"
      },
      "outputs": [],
      "source": [
        "type(imdb_por_nome.get('Rating'))"
      ]
    },
    {
      "cell_type": "markdown",
      "metadata": {
        "id": "yJGEugg4BpIJ"
      },
      "source": [
        "Você pode pensar em uma `Series` como um array com um índice. Enquanto as matrizes são sequências simples de números sem rótulos, `Series` pode ter rótulos. Isso geralmente é muito útil.\n",
        "\n",
        "`avaliacoes` agora é uma `Series` que contém a coluna de classificações de filmes. Suponha que estejamos interessados ​​na avaliação de um filme específico: _Alien_. Para fazer isso, usaremos o \"*acessador*\" `.loc` que extrai um valor da Série em um *local* específico:"
      ]
    },
    {
      "cell_type": "code",
      "execution_count": null,
      "metadata": {
        "id": "DWHTRLPBBpIJ"
      },
      "outputs": [],
      "source": [
        "avaliacoes.loc[\"Alien\"]"
      ]
    },
    {
      "cell_type": "markdown",
      "metadata": {
        "id": "toZl4DBOBpIJ"
      },
      "source": [
        "Há algumas coisas a serem observadas aqui. Primeiro, esses são colchetes em torno de `\"Alien\"`. Isso ocorre porque `.loc` não é um método, mas um \"*acessador*\". Os colchetes sinalizam que iremos extrair um elemento da `Série`. Segundo, passamos o rótulo como uma string."
      ]
    },
    {
      "cell_type": "markdown",
      "metadata": {
        "id": "205dKbtFBpIJ"
      },
      "source": [
        "**Pergunta 2.4.1.** Encontre a avaliação de _3 Idiotas_ (*3 Idiots*)."
      ]
    },
    {
      "cell_type": "code",
      "execution_count": null,
      "metadata": {
        "id": "D384m5QvBpIJ"
      },
      "outputs": [],
      "source": [
        "avaliacao_de_tres_idiotas = avaliacoes.loc['3 Idiots']\n",
        "avaliacao_de_tres_idiotas"
      ]
    },
    {
      "cell_type": "code",
      "source": [
        "#@title Solução\n",
        "avaliacao_de_tres_idiotas = avaliacoes.loc['3 Idiots']\n",
        "avaliacao_de_tres_idiotas\n"
      ],
      "metadata": {
        "id": "reW5p91MQzN8"
      },
      "execution_count": null,
      "outputs": []
    },
    {
      "cell_type": "markdown",
      "metadata": {
        "id": "uGYpObNiBpIK"
      },
      "source": [
        "Agora suponha que quiséssemos saber o ano em que _Alien_ foi lançado. Poderíamos fazer isso obtendo primeiro a coluna dos anos:"
      ]
    },
    {
      "cell_type": "code",
      "execution_count": null,
      "metadata": {
        "id": "lk2-vZgaBpIK"
      },
      "outputs": [],
      "source": [
        "anos = imdb_por_nome.get('Year')\n",
        "anos"
      ]
    },
    {
      "cell_type": "markdown",
      "metadata": {
        "id": "oTTWJZEzBpIL"
      },
      "source": [
        "E então usando `.loc` para obter a entrada correta:"
      ]
    },
    {
      "cell_type": "code",
      "execution_count": null,
      "metadata": {
        "id": "F_oLNtSXBpIL"
      },
      "outputs": [],
      "source": [
        "anos.loc['Alien']"
      ]
    },
    {
      "cell_type": "markdown",
      "metadata": {
        "id": "R0rka4DvBpIM"
      },
      "source": [
        "Também poderíamos fazer isso em uma única etapa *encadeando* as operações:"
      ]
    },
    {
      "cell_type": "code",
      "execution_count": null,
      "metadata": {
        "id": "qfY7_2uiBpIM"
      },
      "outputs": [],
      "source": [
        "imdb_por_nome.get('Year').loc['Alien']"
      ]
    },
    {
      "cell_type": "markdown",
      "metadata": {
        "id": "RWIopXBBBpIM"
      },
      "source": [
        "Isso funciona porque o Python primeiro avalia `imdb_por_nome.get('Year')` como uma `Series`. Em seguida, avalia `.loc['Alien']` para retornar o ano.\n",
        "\n",
        "O encadeamento é usado com bastante frequência e pode ser útil. Apenas certifique-se de não encadear muitas coisas que tornem seu código difícil de ler. Você sempre pode salvar um resultado intermediário em uma variável."
      ]
    },
    {
      "cell_type": "markdown",
      "metadata": {
        "id": "iZmORYqXBpIM"
      },
      "source": [
        "# 3. Analisando conjuntos de dados\n",
        "\n",
        "Com apenas alguns métodos DataFrame, podemos responder algumas questões interessantes sobre o conjunto de dados IMDb.\n",
        "\n",
        "Se quisermos apenas as avaliações dos filmes, podemos usar `.get`:"
      ]
    },
    {
      "cell_type": "code",
      "execution_count": null,
      "metadata": {
        "id": "LEa7B6QpBpIN"
      },
      "outputs": [],
      "source": [
        "avaliacoes = imdb_por_nome.get(\"Rating\")\n",
        "avaliacoes"
      ]
    },
    {
      "cell_type": "markdown",
      "metadata": {
        "id": "QuRB7BCbBpIN"
      },
      "source": [
        "Lembre-se de que `avaliacoes` é uma série. Objetos de série possuem alguns métodos úteis."
      ]
    },
    {
      "cell_type": "markdown",
      "metadata": {
        "id": "DLEMqE9bBpIN"
      },
      "source": [
        "**Pergunta 3.1.** Encontre a maior avaliação no conjunto de dados.\n",
        "\n",
        "*Dica:* Digite `avaliacoes.` e pressione Tab para ver uma lista dos métodos disponíveis. Existe algum que parece útil?"
      ]
    },
    {
      "cell_type": "code",
      "execution_count": null,
      "metadata": {
        "id": "xfLizYIWBpIN"
      },
      "outputs": [],
      "source": [
        "maior_avaliacao = avaliacoes.max()\n",
        "maior_avaliacao"
      ]
    },
    {
      "cell_type": "code",
      "source": [
        "#@title Solução\n",
        "maior_avaliacao = avaliacoes.max()\n",
        "maior_avaliacao"
      ],
      "metadata": {
        "cellView": "form",
        "id": "142Asvv-RTvV"
      },
      "execution_count": null,
      "outputs": []
    },
    {
      "cell_type": "markdown",
      "metadata": {
        "id": "WaCTsqUvBpIO"
      },
      "source": [
        "Você provavelmente quer saber o *nome* do filme de maior avaliação que encontrou anteriormente! Para fazer isso, podemos ordenar toda a série usando o método `.sort_values`:"
      ]
    },
    {
      "cell_type": "code",
      "execution_count": null,
      "metadata": {
        "id": "ypVmPvQ9BpIO"
      },
      "outputs": [],
      "source": [
        "avaliacoes.sort_values()"
      ]
    },
    {
      "cell_type": "markdown",
      "metadata": {
        "id": "H_GIhECZBpIO"
      },
      "source": [
        "Portanto, na verdade, existem dois filmes com maior audiência no conjunto de dados: *Um Sonho de Liberdade* e *O Poderoso Chefão*.\n",
        "\n",
        "Observe que estamos ordenando pelas avaliações, e não pelos rótulos! Além disso, o rótulo segue a ordenação conforme a sua avaliação. Isto é exatamente o que queremos.\n",
        "\n",
        "Quando utilizamos o método `sort_values`, a `Series` resultante tem os dados ordenados em ordem crescente, do menor ao maior. Este é o comportamento padrão de `sort_values`, mas podemos mudar isso. Se quiséssemos os filmes com melhor avaliação no topo, precisaríamos especificar que a avaliação não deveria ser em ordem crescente com um *argumento keyword* (\"palavra-chave\") opcional:\n"
      ]
    },
    {
      "cell_type": "code",
      "execution_count": null,
      "metadata": {
        "scrolled": true,
        "id": "34qNo1LSBpIO"
      },
      "outputs": [],
      "source": [
        "avaliacoes.sort_values(ascending=False)"
      ]
    },
    {
      "cell_type": "markdown",
      "metadata": {
        "id": "T4CvN70-BpIO"
      },
      "source": [
        "Se definirmos o argumento `ascending` como `True`, obteremos o mesmo resultado como se não o definissemos. Isso é o que queremos dizer quando dizemos que o comportamento padrão de `sort_values` é classificar em ordem crescente. Confirme se as próximas duas células fornecem a mesma saída."
      ]
    },
    {
      "cell_type": "code",
      "execution_count": null,
      "metadata": {
        "scrolled": true,
        "id": "-TBuXRCfBpIO"
      },
      "outputs": [],
      "source": [
        "avaliacoes.sort_values(ascending=True)"
      ]
    },
    {
      "cell_type": "code",
      "execution_count": null,
      "metadata": {
        "id": "TpU32FinBpIO"
      },
      "outputs": [],
      "source": [
        "avaliacoes.sort_values()"
      ]
    },
    {
      "cell_type": "markdown",
      "metadata": {
        "id": "GVr-5aIqBpIP"
      },
      "source": [
        "Não só podemos ordenar séries, mas também ordenar DataFrames inteiros. Quando fazemos isso, temos que especificar a coluna pela qual iremos ordenar:"
      ]
    },
    {
      "cell_type": "code",
      "execution_count": null,
      "metadata": {
        "id": "R5OpHBRqBpIP"
      },
      "outputs": [],
      "source": [
        "imdb_por_nome.sort_values('Rating')"
      ]
    },
    {
      "cell_type": "markdown",
      "metadata": {
        "id": "qdXNpgHfBpIP"
      },
      "source": [
        "Da mesma forma, podemos especificar que a ordenação deve estar em ordem decrescente:"
      ]
    },
    {
      "cell_type": "code",
      "execution_count": null,
      "metadata": {
        "id": "lS2isAFSBpIP"
      },
      "outputs": [],
      "source": [
        "imdb_por_nome.sort_values('Rating', ascending=False)"
      ]
    },
    {
      "cell_type": "markdown",
      "metadata": {
        "id": "2irI7wJHBpIP"
      },
      "source": [
        "Alguns detalhes sobre a ordenação de um DataFrame:\n",
        "\n",
        "1. O primeiro argumento para `sort_values` é o nome de uma coluna pela qual iremos ordenar.\n",
        "2. Se a coluna contiver strings, `sort` ordenará em ordem alfabética; se a coluna tiver números, ela será ordenada numericamente.\n",
        "3. `imdb_por_nome.sort_values(\"Rating\")` retorna um novo DataFrame; o DataFrame `imdb_por_nome` não é modificado. Por exemplo, se chamarmos `imdb_por_nome.sort(\"Rating\")`, então executar `imdb_por_nome` por si só ainda retornaria o DataFrame não ordenado. Para salvar o resultado, você deve atribuí-lo a uma nova variável.\n",
        "4. As linhas sempre permanecem juntas quando um DataFrame é ordenado. Não faria sentido ordenar apenas uma coluna e deixar as outras colunas em paz. Por exemplo, neste caso, se ordenássemos apenas a coluna `\"Rating\"`, todos os filmes terminariam com avaliações erradas.\n",
        "\n",
        "**Pergunta 3.2.** Crie uma versão de `imdb_por_nome` que seja ordenada cronologicamente, com os filmes mais antigos primeiro. Chame-o de `imdb_ordenado`."
      ]
    },
    {
      "cell_type": "code",
      "execution_count": null,
      "metadata": {
        "id": "XKks2AjkBpIP"
      },
      "outputs": [],
      "source": [
        "imdb_ordenado = imdb_por_nome.sort_values('Year')\n",
        "imdb_ordenado"
      ]
    },
    {
      "cell_type": "code",
      "source": [
        "#@title Solução\n",
        "imdb_ordenado = imdb_por_nome.sort_values('Year')\n",
        "imdb_ordenado"
      ],
      "metadata": {
        "cellView": "form",
        "id": "tHuodtmqRl1V"
      },
      "execution_count": null,
      "outputs": []
    },
    {
      "cell_type": "markdown",
      "metadata": {
        "id": "iSX9CvSrBpIQ"
      },
      "source": [
        "**Pergunta 3.3.** Qual é o título do filme mais antigo no conjunto de dados? Você poderia simplesmente procurar isso na saída da célula anterior. Em vez disso, escreva o código Python para descobrir.\n",
        "\n",
        "* **Dica:** Lembre-se de que o índice é um array."
      ]
    },
    {
      "cell_type": "code",
      "execution_count": null,
      "metadata": {
        "id": "UsWirEkbBpIQ"
      },
      "outputs": [],
      "source": [
        "titulo_do_filme_mais_antigo = imdb_ordenado.index[0]\n",
        "titulo_do_filme_mais_antigo"
      ]
    },
    {
      "cell_type": "code",
      "source": [
        "#@title Solução\n",
        "titulo_do_filme_mais_antigo = imdb_ordenado.index[0]\n",
        "titulo_do_filme_mais_antigo"
      ],
      "metadata": {
        "id": "VPJdeHGzRs2X"
      },
      "execution_count": null,
      "outputs": []
    },
    {
      "cell_type": "markdown",
      "metadata": {
        "id": "F5oiFqVXBpIQ"
      },
      "source": [
        "Suponha que queiramos obter a avaliação do filme mais antigo no DataFrame. Uma maneira de fazer isso é primeiro encontrar o rótulo de índice do filme mais antigo (o que já fizemos). Em seguida, extraímos a coluna `\"Rating\"` e usamos `.loc` para encontrar a avaliação do filme mais antigo."
      ]
    },
    {
      "cell_type": "code",
      "execution_count": null,
      "metadata": {
        "id": "PZ80AtVaBpIQ"
      },
      "outputs": [],
      "source": [
        "imdb_ordenado.get('Rating').loc[titulo_do_filme_mais_antigo]"
      ]
    },
    {
      "cell_type": "markdown",
      "metadata": {
        "id": "16Iz1mYXBpIQ"
      },
      "source": [
        "Porém, existe uma maneira mais rápida. Uma série não possui apenas um acessador `.loc`, mas também um acessador `.iloc`. Enquanto `.loc` procura coisas por *rótulo*, `.iloc` procura elementos por *posição inteira*.\n",
        "\n",
        "Vamos lembrar o que está na coluna `\"Rating\"`:"
      ]
    },
    {
      "cell_type": "code",
      "execution_count": null,
      "metadata": {
        "id": "cCVwIArlBpIR"
      },
      "outputs": [],
      "source": [
        "imdb_ordenado.get('Rating')"
      ]
    },
    {
      "cell_type": "markdown",
      "metadata": {
        "id": "Ot_HWdeMBpIR"
      },
      "source": [
        "Se quisermos a avaliação da primeira linha, podemos usar `.iloc[0]`:"
      ]
    },
    {
      "cell_type": "code",
      "execution_count": null,
      "metadata": {
        "id": "oYR7GNmQBpIR"
      },
      "outputs": [],
      "source": [
        "imdb_ordenado.get('Rating').iloc[0]"
      ]
    },
    {
      "cell_type": "markdown",
      "metadata": {
        "id": "SloZ-ZjmBpIR"
      },
      "source": [
        "Isso retorna exatamente a mesma coisa que `imdb_ordenado.get('Rating').loc['The Kid']`; essas são duas maneiras de fazer a mesma coisa. Normalmente é mais conveniente acessar um elemento por seu rótulo do que por sua posição inteira, mas é bom saber `.loc` e `.iloc`."
      ]
    },
    {
      "cell_type": "markdown",
      "metadata": {
        "id": "e02zB9enBpIS"
      },
      "source": [
        "# 4. Encontrar partes de um conjunto de dados\n",
        "\n",
        "Suponha que você esteja interessado em filmes da década de 1950. Ordenar o DataFrame por ano não ajuda, porque a década de 1950 está no meio do conjunto de dados. Em vez disso, usaremos um recurso de Series que nos permite comparar facilmente cada elemento em uma coluna com um valor específico.\n",
        "\n",
        "Primeiro lembre-se que podemos usar `.get` para extrair uma única coluna. O resultado não é um DataFrame, mas sim uma Series:"
      ]
    },
    {
      "cell_type": "code",
      "execution_count": null,
      "metadata": {
        "id": "okydG9oxBpIS"
      },
      "outputs": [],
      "source": [
        "imdb_por_nome.get('Decade')"
      ]
    },
    {
      "cell_type": "markdown",
      "metadata": {
        "id": "Y6q2eEubBpIS"
      },
      "source": [
        "Queremos verificar se cada filme foi lançado na década de 1950. Python nos dá uma maneira de verificar se duas coisas são iguais com `==` (lembre-se que `=` já está sendo usado para outro propósito: atribui valores a variáveis nomes):"
      ]
    },
    {
      "cell_type": "code",
      "execution_count": null,
      "metadata": {
        "id": "AgmTWRsTBpIT"
      },
      "outputs": [],
      "source": [
        "imdb_por_nome.get('Decade') == 1950"
      ]
    },
    {
      "cell_type": "markdown",
      "metadata": {
        "id": "tEG1_RmgBpIT"
      },
      "source": [
        "Vemos que o resultado é uma nova série que tem `Verdadeiro` apenas onde a década foi 1950, e `Falso` em todos os outros lugares. Dizemos que a Series resultante é uma Series de *Booleanos*, ou uma *Series Booleana*."
      ]
    },
    {
      "cell_type": "markdown",
      "metadata": {
        "id": "vfxT9RglBpIT"
      },
      "source": [
        "Vamos chamar esse resultado de `eh_de_1950s`. Seu nome pode ser lido como se fosse uma pergunta: “esse filme é da década de 1950”?"
      ]
    },
    {
      "cell_type": "code",
      "execution_count": null,
      "metadata": {
        "id": "Y3Aki-OnBpIT"
      },
      "outputs": [],
      "source": [
        "eh_de_1950s = imdb_por_nome.get('Decade') == 1950\n",
        "eh_de_1950s"
      ]
    },
    {
      "cell_type": "markdown",
      "metadata": {
        "id": "Dh2zBQUbBpIT"
      },
      "source": [
        "Cada linha é uma resposta a esta pergunta. *O Homem Elefante* é da década de 1950? `Falso`. *Tudo sobre Eva* é da década de 1950? `Verdadeiro`."
      ]
    },
    {
      "cell_type": "markdown",
      "metadata": {
        "id": "Fcd0EDfHBpIT"
      },
      "source": [
        "Podemos usar `eh_de_1950s` para selecionar apenas as linhas de `imdb_por_nome` para as quais a resposta é `Verdadeiro`. A sintaxe para isso é:"
      ]
    },
    {
      "cell_type": "code",
      "execution_count": null,
      "metadata": {
        "id": "mW219idOBpIU"
      },
      "outputs": [],
      "source": [
        "imdb_por_nome[eh_de_1950s]"
      ]
    },
    {
      "cell_type": "markdown",
      "metadata": {
        "id": "LiamaNUnBpIU"
      },
      "source": [
        "O que `imdb_por_nome[eh_de_1950s]` faz, precisamente, é percorrer `imdb_por_nome` linha por linha. Se a linha chamada *Singin' in the Rain* tiver o valor `True` em `eh_de_1950s`, essa linha será mantida. Se o valor for `False`, a linha será descartada. E assim por diante, para cada linha."
      ]
    },
    {
      "cell_type": "markdown",
      "metadata": {
        "id": "aQVoSU0YBpIU"
      },
      "source": [
        "Observe que poderíamos ter conseguido isso sem nunca criar a variável `eh_de_1950s`, simplesmente colocando o código que usamos para criar a Series booleana diretamente dentro de `[...]`. Este é um padrão típico que você usará muito!"
      ]
    },
    {
      "cell_type": "code",
      "execution_count": null,
      "metadata": {
        "id": "IUukT0QHBpIU"
      },
      "outputs": [],
      "source": [
        "imdb_por_nome[imdb_por_nome.get('Decade') == 1950]"
      ]
    },
    {
      "cell_type": "markdown",
      "metadata": {
        "id": "YXj0ZgtABpIU"
      },
      "source": [
        "Ajuda ler os colchetes como \"onde\". Portanto, o comando na célula acima diz para manter todas as linhas de `imdb_por_nome` *onde* a década é a década de 1950.\n",
        "\n",
        "Criar um novo DataFrame selecionando apenas certas linhas de um DataFrame existente que satisfaça alguma condição é chamado de *consulta*. A linha de código `imdb_por_nome[imdb_por_nome.get('Decade') == 1950]` é uma *consulta*."
      ]
    },
    {
      "cell_type": "markdown",
      "metadata": {
        "id": "oG8p6t1lBpIU"
      },
      "source": [
        "**Questão 4.1.** Crie um DataFrame chamado `noventa_e_oito` contendo os filmes lançados em 1998."
      ]
    },
    {
      "cell_type": "code",
      "execution_count": null,
      "metadata": {
        "id": "ze8jP8bOBpIU"
      },
      "outputs": [],
      "source": [
        "noventa_e_oito = imdb_por_nome[imdb_por_nome.get('Year') == 1998]\n",
        "noventa_e_oito"
      ]
    },
    {
      "cell_type": "code",
      "source": [
        "#@title Solução\n",
        "noventa_e_oito = imdb_por_nome[imdb_por_nome.get('Year') == 1998]\n",
        "noventa_e_oito"
      ],
      "metadata": {
        "cellView": "form",
        "id": "u4xxu8GTSS_V"
      },
      "execution_count": null,
      "outputs": []
    },
    {
      "cell_type": "markdown",
      "metadata": {
        "id": "8oxqkj-vBpIV"
      },
      "source": [
        "Até agora só descobrimos onde uma coluna é *exatamente* igual a um determinado valor. No entanto, existem muitos outros operadores de comparação que poderíamos usar. Aqui estão alguns:\n",
        "\n",
        "|Operador|Testes|\n",
        "|-|-|\n",
        "|`==`|a coisa da esquerda é igual à coisa da direita|\n",
        "|`!=`|a coisa à esquerda *não* é igual à coisa à direita|\n",
        "|`>`|a coisa à esquerda é maior que (e não igual) à coisa à direita|\n",
        "|`>=`|a coisa à esquerda é maior ou igual à coisa à direita|\n",
        "|`<`|a coisa à esquerda é menor que (e não igual) à coisa à direita|\n",
        "\n",
        "As [notas de curso](https://notes.dsc10.com/02-data_sets/querying.html#examples) do DSC10 tem mais exemplos."
      ]
    },
    {
      "cell_type": "markdown",
      "metadata": {
        "id": "wWi-B3X_BpIW"
      },
      "source": [
        "Qual é a maior avaliação de qualquer filme da década de 1990? Agora temos as ferramentas para responder a perguntas como essas. Dividindo em pedaços, encontramos primeiro todos os filmes da década de 1990:"
      ]
    },
    {
      "cell_type": "code",
      "execution_count": null,
      "metadata": {
        "id": "wjpwJOMDBpIW"
      },
      "outputs": [],
      "source": [
        "eh_de_1990s = imdb_por_nome.get('Decade') == 1990\n",
        "eh_de_1990s"
      ]
    },
    {
      "cell_type": "markdown",
      "metadata": {
        "id": "nfFbbhREBpIW"
      },
      "source": [
        "Em seguida, selecionamos apenas estes filmes em nosso DataFrame:"
      ]
    },
    {
      "cell_type": "code",
      "execution_count": null,
      "metadata": {
        "id": "ol8E8UpGBpIW"
      },
      "outputs": [],
      "source": [
        "de_1990s = imdb_por_nome[eh_de_1990s]\n",
        "de_1990s"
      ]
    },
    {
      "cell_type": "markdown",
      "metadata": {
        "id": "ZzoG24poBpIW"
      },
      "source": [
        "Encontramos então a maior avaliação apenas destes filmes:"
      ]
    },
    {
      "cell_type": "code",
      "execution_count": null,
      "metadata": {
        "id": "T0aTz80nBpIW"
      },
      "outputs": [],
      "source": [
        "de_1990s.get('Rating').max()"
      ]
    },
    {
      "cell_type": "markdown",
      "metadata": {
        "id": "-5LQFPZ3BpIW"
      },
      "source": [
        "Ou, se quiséssemos fazer tudo isso de forma mais concisa usando encadeamento:"
      ]
    },
    {
      "cell_type": "code",
      "execution_count": null,
      "metadata": {
        "id": "scJ_9kqaBpIW"
      },
      "outputs": [],
      "source": [
        "imdb_por_nome[imdb_por_nome.get('Decade') == 1990].get('Rating').max()"
      ]
    },
    {
      "cell_type": "markdown",
      "metadata": {
        "id": "JauYk9hUBpIY"
      },
      "source": [
        "A propriedade `shape` informa quantas linhas e colunas existem em um DataFrame. (Uma \"propriedade\" é similar a um método que não precisa ser chamado adicionando parênteses.)"
      ]
    },
    {
      "cell_type": "code",
      "execution_count": null,
      "metadata": {
        "id": "d7ftpXtIBpIY"
      },
      "outputs": [],
      "source": [
        "imdb_por_nome.shape"
      ]
    },
    {
      "cell_type": "markdown",
      "metadata": {
        "id": "tkqAKo-3BpIY"
      },
      "source": [
        "Como um array, você pode obter o primeiro elemento do `shape` usando `[0]` e o segundo elemento usando `[1]`. Por exemplo, o número de linhas em `imdb_por_nome` é:"
      ]
    },
    {
      "cell_type": "code",
      "execution_count": null,
      "metadata": {
        "id": "km4X3kQdBpIZ"
      },
      "outputs": [],
      "source": [
        "imdb_por_nome.shape[0]"
      ]
    },
    {
      "cell_type": "markdown",
      "metadata": {
        "id": "1eJJlqtwBpIZ"
      },
      "source": [
        "**Pergunta 4.5.** Finalmente, vamos revisitar o DataFrame `populacao_por_ano` do início do laboratório. Calcule o ano em que a população mundial ultrapassou pela primeira vez os 7 mil milhões."
      ]
    },
    {
      "cell_type": "code",
      "execution_count": null,
      "metadata": {
        "id": "OjYi12TzBpIZ"
      },
      "outputs": [],
      "source": [
        "ano_que_a_populacao_ultrapassou_7_bilhoes = populacao_por_ano[populacao_por_ano.get('Populacao') > 7000000000].index[0]\n",
        "ano_que_a_populacao_ultrapassou_7_bilhoes"
      ]
    },
    {
      "cell_type": "code",
      "source": [
        "#@title Solução\n",
        "\n",
        "ano_que_a_populacao_ultrapassou_7_bilhoes = populacao_por_ano[populacao_por_ano.get('Populacao') > 7000000000].index[0]\n",
        "ano_que_a_populacao_ultrapassou_7_bilhoes"
      ],
      "metadata": {
        "cellView": "form",
        "id": "k-FpPniQTT8v"
      },
      "execution_count": null,
      "outputs": []
    },
    {
      "cell_type": "markdown",
      "metadata": {
        "id": "4c-R9hwmBpIZ"
      },
      "source": [
        "# Linha de chegada\n",
        "\n",
        "Parabéns! Você concluiu o Laboratório 1.\n",
        "\n",
        "Para enviar sua tarefa:\n",
        "\n",
        "1. Selecione `Kernel -> Reiniciar e executar tudo` para garantir que você executou todas as células.\n",
        "2. Leia o caderno para ter certeza de que está tudo bem.\n",
        "4. Baixe seu notebook usando `Arquivo -> Baixar como -> Notebook (.ipynb)` e, em seguida, carregue seu notebook para o Moodle.\n",
        "\n",
        "<img src='http://www.inf.ufes.br/~vinicius.mota/Intro-IA-CD/banner_separador.png' style=\"float: right;\">\n"
      ]
    }
  ],
  "metadata": {
    "anaconda-cloud": {},
    "kernelspec": {
      "display_name": "Python 3 (ipykernel)",
      "language": "python",
      "name": "python3"
    },
    "language_info": {
      "codemirror_mode": {
        "name": "ipython",
        "version": 3
      },
      "file_extension": ".py",
      "mimetype": "text/x-python",
      "name": "python",
      "nbconvert_exporter": "python",
      "pygments_lexer": "ipython3",
      "version": "3.11.8"
    },
    "colab": {
      "provenance": []
    }
  },
  "nbformat": 4,
  "nbformat_minor": 0
}