{
  "nbformat": 4,
  "nbformat_minor": 0,
  "metadata": {
    "colab": {
      "provenance": []
    },
    "kernelspec": {
      "name": "python3",
      "display_name": "Python 3"
    },
    "language_info": {
      "name": "python"
    }
  },
  "cells": [
    {
      "cell_type": "markdown",
      "metadata": {
        "id": "R_l32WylNm96"
      },
      "source": [
        "---\n",
        "<img src=\"https://ead.ufes.br/pluginfile.php/188418/course/summary/Banner%20IA%20e%20CD.png\" style=\"float: right;\">\n",
        "\n",
        "\n",
        "#  Aprendizado Supervisionado\n",
        "\n",
        "Utiliza conjuntos de dados rotulados que fazem o treinamento de algoritmos para classificar dados ou prever resultados com precisão. O modelo utiliza rótulos de dados para avaliar a relevância de diferentes características e melhorar gradualmente o desempenho dos resultados esperados.\n",
        "\n",
        "O aprendizado supervisionado é classificado em duas categorias principais:\n",
        "\n",
        "- **Classificação**: Problemas de classificação empregam algoritmos para classificar dados em segmentos específicos. Alguns algoritmos de classificação comuns:\n",
        "   - regressão logística (l*ogistic regression*);\n",
        "   - k-vizinhos mais próximos (KNN);\n",
        "   - floresta aleatória (*Random-Forest*);\n",
        "   - Naïve Bayes,\n",
        "   - gradiente descendente estocástico\n",
        "   - árvores de decisão (*decision tree*).\n",
        "\n",
        "\n",
        "- **Regressão**: Este é um método estatístico de ML que utiliza algoritmos para avaliar a relação entre uma variável dependente e, um ou diversos fatores isolados. Com modelos de regressão, é possível fazer previsões de causa e efeito com base em múltiplos pontos de dados. Em uma empresa, por exemplo, isso pode incluir a projeção do crescimento da receita publicitária. Entre alguns algoritmos de regressão comuns estão a regressão ridge, lasso, regressão de redes neurais e regressão logística.\n",
        "\n",
        "\n",
        "\n",
        "\n",
        "**Objetivo**\n",
        "\n",
        "A intenção desse notebook é exemplificar um pipeline de um problema de **classificação**.\n",
        "\n",
        "Não se apegue aqui com os detalhes da linguagem, você verá Python na próxima disciplina.\n",
        "\n",
        "**Resultados Esperados**\n",
        "\n",
        "1. Conceitos aprendizado  supervisionado\n",
        "1. Primeiro contato com a scikit Learn\n",
        "1. Carregar um conjunto de dados padrão: a base de dados  *Diabetes*\n",
        "1. Separar os dados em conjunto de treino e teste (por enquanto não vamos usar validação)\n",
        "1. Treinar uma regressão linear\n",
        "1. Calcular as métricas de erro"
      ]
    },
    {
      "cell_type": "markdown",
      "source": [
        "# Exemplo de um problema de classificação\n",
        "A intenção desse notebook é exemplificar um pipeline de um problema de classificação. Ainda não se preocupe muito sobre o código. O intuito é observar os conceitos (por enquanto). Na próxima aula já vamos avançar com codificação.\n",
        "\n",
        "Em resumo, vamos fazer o seguinte:\n",
        "- Carregar a base de emails rotulados como  normais e Spam https://archive.ics.uci.edu/dataset/94/spambase\n",
        "- Separar os dados em conjunto de treino e teste (por enquanto não vamos usar validação)\n",
        "- Aplicar uma normalização (vamos aprender mais sobre isso em breve)\n",
        "- Treinar uma regressão logistica\n",
        "- Calcular acurácia no conjunto de treino\n",
        "- Calcular acurácia no conjunto de teste"
      ],
      "metadata": {
        "id": "6cFxoIet7HU9"
      }
    },
    {
      "cell_type": "markdown",
      "metadata": {
        "id": "V9sXGhZoWe6y"
      },
      "source": [
        "## Introdução"
      ]
    },
    {
      "cell_type": "markdown",
      "metadata": {
        "id": "Uc1pAjDIMLmI"
      },
      "source": [
        "Aprendizado supervisionado é uma área de aprendizado de máquina que tem o objetivo de **aprender** de dados rotulados.\n",
        "\n",
        "Hoje, daremos foco aos problemas de classificação:\n",
        "\n",
        "**Modelos de Classificação** visam aprender as características das amostras e suas respectivas classes (também chamada de rótulo/label/target) para que possa acertar a classe de uma amostra desconhecida.\n",
        "\n",
        "Veja o cheat-sheet da sci-kit learn de quando usar classificação!\n"
      ]
    },
    {
      "cell_type": "markdown",
      "source": [
        "# Scikit-Learn - Mapa de algoritmos disponíves\n",
        "\n",
        "[<img src=\"https://scikit-learn.org/1.3/_static/ml_map.png\" style=\"float: right;\">](https://scikit-learn.org/1.3/tutorial/machine_learning_map/index.html)\n"
      ],
      "metadata": {
        "id": "rwlyIP0IunYe"
      }
    },
    {
      "cell_type": "markdown",
      "source": [
        "## Importandos as bibliotecas\n",
        "Vamos usar basicamente a `sklearn`. No módulo 2 já vamos aprender mais sobre ela. Por enquanto, aceita que ela existe e observe apenas o pipeline."
      ],
      "metadata": {
        "id": "JDdrh9E2-DBn"
      }
    },
    {
      "cell_type": "code",
      "source": [
        "from sklearn.preprocessing import MinMaxScaler\n",
        "from sklearn.model_selection import train_test_split\n",
        "import pandas as pd\n",
        "import numpy as np"
      ],
      "metadata": {
        "id": "6-yoNGxH-Gkd"
      },
      "execution_count": 8,
      "outputs": []
    },
    {
      "cell_type": "markdown",
      "source": [
        "## Carregando os dados\n",
        "\n",
        "Essa base de dados contém informações de emails sumarizados. Em resumo,  têm-se:\n",
        "\n",
        "1. Class Distribution:\n",
        "\n",
        "\tSpam\t  1813  (39.4%)\n",
        "\n",
        "\tNon-Spam  2788  (60.6%)\n",
        "\n",
        "1. Última coluna indica se é um spam ou não\n",
        "\n",
        "  Atributo de classe nominal {0,1} indica se o e-mail foi considerado spam (1) ou não (0).\n",
        "\n",
        "1. Demais atributos relativos a frequencia de palavras e letras no email.\n",
        "\n",
        "A descrição completa das características dos emails pode ser vista em https://archive.ics.uci.edu/dataset/94/spambase"
      ],
      "metadata": {
        "id": "5xPaehr_99RS"
      }
    },
    {
      "cell_type": "code",
      "source": [
        "df = pd.read_csv('http://www.inf.ufes.br/~vinicius.mota/Intro-IA-CD/08-metricas/spambase.data', header=None)\n",
        "df.head()"
      ],
      "metadata": {
        "colab": {
          "base_uri": "https://localhost:8080/",
          "height": 236
        },
        "id": "S_jJQ5xq-el2",
        "outputId": "7d18e9d0-b02d-493e-b59d-97dd0bc1f8b9"
      },
      "execution_count": 9,
      "outputs": [
        {
          "output_type": "execute_result",
          "data": {
            "text/plain": [
              "     0     1     2    3     4     5     6     7     8     9   ...    48  \\\n",
              "0  0.00  0.64  0.64  0.0  0.32  0.00  0.00  0.00  0.00  0.00  ...  0.00   \n",
              "1  0.21  0.28  0.50  0.0  0.14  0.28  0.21  0.07  0.00  0.94  ...  0.00   \n",
              "2  0.06  0.00  0.71  0.0  1.23  0.19  0.19  0.12  0.64  0.25  ...  0.01   \n",
              "3  0.00  0.00  0.00  0.0  0.63  0.00  0.31  0.63  0.31  0.63  ...  0.00   \n",
              "4  0.00  0.00  0.00  0.0  0.63  0.00  0.31  0.63  0.31  0.63  ...  0.00   \n",
              "\n",
              "      49   50     51     52     53     54   55    56  57  \n",
              "0  0.000  0.0  0.778  0.000  0.000  3.756   61   278   1  \n",
              "1  0.132  0.0  0.372  0.180  0.048  5.114  101  1028   1  \n",
              "2  0.143  0.0  0.276  0.184  0.010  9.821  485  2259   1  \n",
              "3  0.137  0.0  0.137  0.000  0.000  3.537   40   191   1  \n",
              "4  0.135  0.0  0.135  0.000  0.000  3.537   40   191   1  \n",
              "\n",
              "[5 rows x 58 columns]"
            ],
            "text/html": [
              "\n",
              "  <div id=\"df-dfce1b81-07c6-4ed9-a0b6-ef6f11fe403c\" class=\"colab-df-container\">\n",
              "    <div>\n",
              "<style scoped>\n",
              "    .dataframe tbody tr th:only-of-type {\n",
              "        vertical-align: middle;\n",
              "    }\n",
              "\n",
              "    .dataframe tbody tr th {\n",
              "        vertical-align: top;\n",
              "    }\n",
              "\n",
              "    .dataframe thead th {\n",
              "        text-align: right;\n",
              "    }\n",
              "</style>\n",
              "<table border=\"1\" class=\"dataframe\">\n",
              "  <thead>\n",
              "    <tr style=\"text-align: right;\">\n",
              "      <th></th>\n",
              "      <th>0</th>\n",
              "      <th>1</th>\n",
              "      <th>2</th>\n",
              "      <th>3</th>\n",
              "      <th>4</th>\n",
              "      <th>5</th>\n",
              "      <th>6</th>\n",
              "      <th>7</th>\n",
              "      <th>8</th>\n",
              "      <th>9</th>\n",
              "      <th>...</th>\n",
              "      <th>48</th>\n",
              "      <th>49</th>\n",
              "      <th>50</th>\n",
              "      <th>51</th>\n",
              "      <th>52</th>\n",
              "      <th>53</th>\n",
              "      <th>54</th>\n",
              "      <th>55</th>\n",
              "      <th>56</th>\n",
              "      <th>57</th>\n",
              "    </tr>\n",
              "  </thead>\n",
              "  <tbody>\n",
              "    <tr>\n",
              "      <th>0</th>\n",
              "      <td>0.00</td>\n",
              "      <td>0.64</td>\n",
              "      <td>0.64</td>\n",
              "      <td>0.0</td>\n",
              "      <td>0.32</td>\n",
              "      <td>0.00</td>\n",
              "      <td>0.00</td>\n",
              "      <td>0.00</td>\n",
              "      <td>0.00</td>\n",
              "      <td>0.00</td>\n",
              "      <td>...</td>\n",
              "      <td>0.00</td>\n",
              "      <td>0.000</td>\n",
              "      <td>0.0</td>\n",
              "      <td>0.778</td>\n",
              "      <td>0.000</td>\n",
              "      <td>0.000</td>\n",
              "      <td>3.756</td>\n",
              "      <td>61</td>\n",
              "      <td>278</td>\n",
              "      <td>1</td>\n",
              "    </tr>\n",
              "    <tr>\n",
              "      <th>1</th>\n",
              "      <td>0.21</td>\n",
              "      <td>0.28</td>\n",
              "      <td>0.50</td>\n",
              "      <td>0.0</td>\n",
              "      <td>0.14</td>\n",
              "      <td>0.28</td>\n",
              "      <td>0.21</td>\n",
              "      <td>0.07</td>\n",
              "      <td>0.00</td>\n",
              "      <td>0.94</td>\n",
              "      <td>...</td>\n",
              "      <td>0.00</td>\n",
              "      <td>0.132</td>\n",
              "      <td>0.0</td>\n",
              "      <td>0.372</td>\n",
              "      <td>0.180</td>\n",
              "      <td>0.048</td>\n",
              "      <td>5.114</td>\n",
              "      <td>101</td>\n",
              "      <td>1028</td>\n",
              "      <td>1</td>\n",
              "    </tr>\n",
              "    <tr>\n",
              "      <th>2</th>\n",
              "      <td>0.06</td>\n",
              "      <td>0.00</td>\n",
              "      <td>0.71</td>\n",
              "      <td>0.0</td>\n",
              "      <td>1.23</td>\n",
              "      <td>0.19</td>\n",
              "      <td>0.19</td>\n",
              "      <td>0.12</td>\n",
              "      <td>0.64</td>\n",
              "      <td>0.25</td>\n",
              "      <td>...</td>\n",
              "      <td>0.01</td>\n",
              "      <td>0.143</td>\n",
              "      <td>0.0</td>\n",
              "      <td>0.276</td>\n",
              "      <td>0.184</td>\n",
              "      <td>0.010</td>\n",
              "      <td>9.821</td>\n",
              "      <td>485</td>\n",
              "      <td>2259</td>\n",
              "      <td>1</td>\n",
              "    </tr>\n",
              "    <tr>\n",
              "      <th>3</th>\n",
              "      <td>0.00</td>\n",
              "      <td>0.00</td>\n",
              "      <td>0.00</td>\n",
              "      <td>0.0</td>\n",
              "      <td>0.63</td>\n",
              "      <td>0.00</td>\n",
              "      <td>0.31</td>\n",
              "      <td>0.63</td>\n",
              "      <td>0.31</td>\n",
              "      <td>0.63</td>\n",
              "      <td>...</td>\n",
              "      <td>0.00</td>\n",
              "      <td>0.137</td>\n",
              "      <td>0.0</td>\n",
              "      <td>0.137</td>\n",
              "      <td>0.000</td>\n",
              "      <td>0.000</td>\n",
              "      <td>3.537</td>\n",
              "      <td>40</td>\n",
              "      <td>191</td>\n",
              "      <td>1</td>\n",
              "    </tr>\n",
              "    <tr>\n",
              "      <th>4</th>\n",
              "      <td>0.00</td>\n",
              "      <td>0.00</td>\n",
              "      <td>0.00</td>\n",
              "      <td>0.0</td>\n",
              "      <td>0.63</td>\n",
              "      <td>0.00</td>\n",
              "      <td>0.31</td>\n",
              "      <td>0.63</td>\n",
              "      <td>0.31</td>\n",
              "      <td>0.63</td>\n",
              "      <td>...</td>\n",
              "      <td>0.00</td>\n",
              "      <td>0.135</td>\n",
              "      <td>0.0</td>\n",
              "      <td>0.135</td>\n",
              "      <td>0.000</td>\n",
              "      <td>0.000</td>\n",
              "      <td>3.537</td>\n",
              "      <td>40</td>\n",
              "      <td>191</td>\n",
              "      <td>1</td>\n",
              "    </tr>\n",
              "  </tbody>\n",
              "</table>\n",
              "<p>5 rows × 58 columns</p>\n",
              "</div>\n",
              "    <div class=\"colab-df-buttons\">\n",
              "\n",
              "  <div class=\"colab-df-container\">\n",
              "    <button class=\"colab-df-convert\" onclick=\"convertToInteractive('df-dfce1b81-07c6-4ed9-a0b6-ef6f11fe403c')\"\n",
              "            title=\"Convert this dataframe to an interactive table.\"\n",
              "            style=\"display:none;\">\n",
              "\n",
              "  <svg xmlns=\"http://www.w3.org/2000/svg\" height=\"24px\" viewBox=\"0 -960 960 960\">\n",
              "    <path d=\"M120-120v-720h720v720H120Zm60-500h600v-160H180v160Zm220 220h160v-160H400v160Zm0 220h160v-160H400v160ZM180-400h160v-160H180v160Zm440 0h160v-160H620v160ZM180-180h160v-160H180v160Zm440 0h160v-160H620v160Z\"/>\n",
              "  </svg>\n",
              "    </button>\n",
              "\n",
              "  <style>\n",
              "    .colab-df-container {\n",
              "      display:flex;\n",
              "      gap: 12px;\n",
              "    }\n",
              "\n",
              "    .colab-df-convert {\n",
              "      background-color: #E8F0FE;\n",
              "      border: none;\n",
              "      border-radius: 50%;\n",
              "      cursor: pointer;\n",
              "      display: none;\n",
              "      fill: #1967D2;\n",
              "      height: 32px;\n",
              "      padding: 0 0 0 0;\n",
              "      width: 32px;\n",
              "    }\n",
              "\n",
              "    .colab-df-convert:hover {\n",
              "      background-color: #E2EBFA;\n",
              "      box-shadow: 0px 1px 2px rgba(60, 64, 67, 0.3), 0px 1px 3px 1px rgba(60, 64, 67, 0.15);\n",
              "      fill: #174EA6;\n",
              "    }\n",
              "\n",
              "    .colab-df-buttons div {\n",
              "      margin-bottom: 4px;\n",
              "    }\n",
              "\n",
              "    [theme=dark] .colab-df-convert {\n",
              "      background-color: #3B4455;\n",
              "      fill: #D2E3FC;\n",
              "    }\n",
              "\n",
              "    [theme=dark] .colab-df-convert:hover {\n",
              "      background-color: #434B5C;\n",
              "      box-shadow: 0px 1px 3px 1px rgba(0, 0, 0, 0.15);\n",
              "      filter: drop-shadow(0px 1px 2px rgba(0, 0, 0, 0.3));\n",
              "      fill: #FFFFFF;\n",
              "    }\n",
              "  </style>\n",
              "\n",
              "    <script>\n",
              "      const buttonEl =\n",
              "        document.querySelector('#df-dfce1b81-07c6-4ed9-a0b6-ef6f11fe403c button.colab-df-convert');\n",
              "      buttonEl.style.display =\n",
              "        google.colab.kernel.accessAllowed ? 'block' : 'none';\n",
              "\n",
              "      async function convertToInteractive(key) {\n",
              "        const element = document.querySelector('#df-dfce1b81-07c6-4ed9-a0b6-ef6f11fe403c');\n",
              "        const dataTable =\n",
              "          await google.colab.kernel.invokeFunction('convertToInteractive',\n",
              "                                                    [key], {});\n",
              "        if (!dataTable) return;\n",
              "\n",
              "        const docLinkHtml = 'Like what you see? Visit the ' +\n",
              "          '<a target=\"_blank\" href=https://colab.research.google.com/notebooks/data_table.ipynb>data table notebook</a>'\n",
              "          + ' to learn more about interactive tables.';\n",
              "        element.innerHTML = '';\n",
              "        dataTable['output_type'] = 'display_data';\n",
              "        await google.colab.output.renderOutput(dataTable, element);\n",
              "        const docLink = document.createElement('div');\n",
              "        docLink.innerHTML = docLinkHtml;\n",
              "        element.appendChild(docLink);\n",
              "      }\n",
              "    </script>\n",
              "  </div>\n",
              "\n",
              "\n",
              "<div id=\"df-1576cefa-e415-4e93-b2ac-d8612dd7e5f0\">\n",
              "  <button class=\"colab-df-quickchart\" onclick=\"quickchart('df-1576cefa-e415-4e93-b2ac-d8612dd7e5f0')\"\n",
              "            title=\"Suggest charts\"\n",
              "            style=\"display:none;\">\n",
              "\n",
              "<svg xmlns=\"http://www.w3.org/2000/svg\" height=\"24px\"viewBox=\"0 0 24 24\"\n",
              "     width=\"24px\">\n",
              "    <g>\n",
              "        <path d=\"M19 3H5c-1.1 0-2 .9-2 2v14c0 1.1.9 2 2 2h14c1.1 0 2-.9 2-2V5c0-1.1-.9-2-2-2zM9 17H7v-7h2v7zm4 0h-2V7h2v10zm4 0h-2v-4h2v4z\"/>\n",
              "    </g>\n",
              "</svg>\n",
              "  </button>\n",
              "\n",
              "<style>\n",
              "  .colab-df-quickchart {\n",
              "      --bg-color: #E8F0FE;\n",
              "      --fill-color: #1967D2;\n",
              "      --hover-bg-color: #E2EBFA;\n",
              "      --hover-fill-color: #174EA6;\n",
              "      --disabled-fill-color: #AAA;\n",
              "      --disabled-bg-color: #DDD;\n",
              "  }\n",
              "\n",
              "  [theme=dark] .colab-df-quickchart {\n",
              "      --bg-color: #3B4455;\n",
              "      --fill-color: #D2E3FC;\n",
              "      --hover-bg-color: #434B5C;\n",
              "      --hover-fill-color: #FFFFFF;\n",
              "      --disabled-bg-color: #3B4455;\n",
              "      --disabled-fill-color: #666;\n",
              "  }\n",
              "\n",
              "  .colab-df-quickchart {\n",
              "    background-color: var(--bg-color);\n",
              "    border: none;\n",
              "    border-radius: 50%;\n",
              "    cursor: pointer;\n",
              "    display: none;\n",
              "    fill: var(--fill-color);\n",
              "    height: 32px;\n",
              "    padding: 0;\n",
              "    width: 32px;\n",
              "  }\n",
              "\n",
              "  .colab-df-quickchart:hover {\n",
              "    background-color: var(--hover-bg-color);\n",
              "    box-shadow: 0 1px 2px rgba(60, 64, 67, 0.3), 0 1px 3px 1px rgba(60, 64, 67, 0.15);\n",
              "    fill: var(--button-hover-fill-color);\n",
              "  }\n",
              "\n",
              "  .colab-df-quickchart-complete:disabled,\n",
              "  .colab-df-quickchart-complete:disabled:hover {\n",
              "    background-color: var(--disabled-bg-color);\n",
              "    fill: var(--disabled-fill-color);\n",
              "    box-shadow: none;\n",
              "  }\n",
              "\n",
              "  .colab-df-spinner {\n",
              "    border: 2px solid var(--fill-color);\n",
              "    border-color: transparent;\n",
              "    border-bottom-color: var(--fill-color);\n",
              "    animation:\n",
              "      spin 1s steps(1) infinite;\n",
              "  }\n",
              "\n",
              "  @keyframes spin {\n",
              "    0% {\n",
              "      border-color: transparent;\n",
              "      border-bottom-color: var(--fill-color);\n",
              "      border-left-color: var(--fill-color);\n",
              "    }\n",
              "    20% {\n",
              "      border-color: transparent;\n",
              "      border-left-color: var(--fill-color);\n",
              "      border-top-color: var(--fill-color);\n",
              "    }\n",
              "    30% {\n",
              "      border-color: transparent;\n",
              "      border-left-color: var(--fill-color);\n",
              "      border-top-color: var(--fill-color);\n",
              "      border-right-color: var(--fill-color);\n",
              "    }\n",
              "    40% {\n",
              "      border-color: transparent;\n",
              "      border-right-color: var(--fill-color);\n",
              "      border-top-color: var(--fill-color);\n",
              "    }\n",
              "    60% {\n",
              "      border-color: transparent;\n",
              "      border-right-color: var(--fill-color);\n",
              "    }\n",
              "    80% {\n",
              "      border-color: transparent;\n",
              "      border-right-color: var(--fill-color);\n",
              "      border-bottom-color: var(--fill-color);\n",
              "    }\n",
              "    90% {\n",
              "      border-color: transparent;\n",
              "      border-bottom-color: var(--fill-color);\n",
              "    }\n",
              "  }\n",
              "</style>\n",
              "\n",
              "  <script>\n",
              "    async function quickchart(key) {\n",
              "      const quickchartButtonEl =\n",
              "        document.querySelector('#' + key + ' button');\n",
              "      quickchartButtonEl.disabled = true;  // To prevent multiple clicks.\n",
              "      quickchartButtonEl.classList.add('colab-df-spinner');\n",
              "      try {\n",
              "        const charts = await google.colab.kernel.invokeFunction(\n",
              "            'suggestCharts', [key], {});\n",
              "      } catch (error) {\n",
              "        console.error('Error during call to suggestCharts:', error);\n",
              "      }\n",
              "      quickchartButtonEl.classList.remove('colab-df-spinner');\n",
              "      quickchartButtonEl.classList.add('colab-df-quickchart-complete');\n",
              "    }\n",
              "    (() => {\n",
              "      let quickchartButtonEl =\n",
              "        document.querySelector('#df-1576cefa-e415-4e93-b2ac-d8612dd7e5f0 button');\n",
              "      quickchartButtonEl.style.display =\n",
              "        google.colab.kernel.accessAllowed ? 'block' : 'none';\n",
              "    })();\n",
              "  </script>\n",
              "</div>\n",
              "\n",
              "    </div>\n",
              "  </div>\n"
            ],
            "application/vnd.google.colaboratory.intrinsic+json": {
              "type": "dataframe",
              "variable_name": "df"
            }
          },
          "metadata": {},
          "execution_count": 9
        }
      ]
    },
    {
      "cell_type": "code",
      "source": [
        "df.info()"
      ],
      "metadata": {
        "colab": {
          "base_uri": "https://localhost:8080/"
        },
        "id": "YFtxsFRrAGyk",
        "outputId": "f862456d-1b1a-426e-d617-b1c7eb9a3a1c"
      },
      "execution_count": 10,
      "outputs": [
        {
          "output_type": "stream",
          "name": "stdout",
          "text": [
            "<class 'pandas.core.frame.DataFrame'>\n",
            "RangeIndex: 4601 entries, 0 to 4600\n",
            "Data columns (total 58 columns):\n",
            " #   Column  Non-Null Count  Dtype  \n",
            "---  ------  --------------  -----  \n",
            " 0   0       4601 non-null   float64\n",
            " 1   1       4601 non-null   float64\n",
            " 2   2       4601 non-null   float64\n",
            " 3   3       4601 non-null   float64\n",
            " 4   4       4601 non-null   float64\n",
            " 5   5       4601 non-null   float64\n",
            " 6   6       4601 non-null   float64\n",
            " 7   7       4601 non-null   float64\n",
            " 8   8       4601 non-null   float64\n",
            " 9   9       4601 non-null   float64\n",
            " 10  10      4601 non-null   float64\n",
            " 11  11      4601 non-null   float64\n",
            " 12  12      4601 non-null   float64\n",
            " 13  13      4601 non-null   float64\n",
            " 14  14      4601 non-null   float64\n",
            " 15  15      4601 non-null   float64\n",
            " 16  16      4601 non-null   float64\n",
            " 17  17      4601 non-null   float64\n",
            " 18  18      4601 non-null   float64\n",
            " 19  19      4601 non-null   float64\n",
            " 20  20      4601 non-null   float64\n",
            " 21  21      4601 non-null   float64\n",
            " 22  22      4601 non-null   float64\n",
            " 23  23      4601 non-null   float64\n",
            " 24  24      4601 non-null   float64\n",
            " 25  25      4601 non-null   float64\n",
            " 26  26      4601 non-null   float64\n",
            " 27  27      4601 non-null   float64\n",
            " 28  28      4601 non-null   float64\n",
            " 29  29      4601 non-null   float64\n",
            " 30  30      4601 non-null   float64\n",
            " 31  31      4601 non-null   float64\n",
            " 32  32      4601 non-null   float64\n",
            " 33  33      4601 non-null   float64\n",
            " 34  34      4601 non-null   float64\n",
            " 35  35      4601 non-null   float64\n",
            " 36  36      4601 non-null   float64\n",
            " 37  37      4601 non-null   float64\n",
            " 38  38      4601 non-null   float64\n",
            " 39  39      4601 non-null   float64\n",
            " 40  40      4601 non-null   float64\n",
            " 41  41      4601 non-null   float64\n",
            " 42  42      4601 non-null   float64\n",
            " 43  43      4601 non-null   float64\n",
            " 44  44      4601 non-null   float64\n",
            " 45  45      4601 non-null   float64\n",
            " 46  46      4601 non-null   float64\n",
            " 47  47      4601 non-null   float64\n",
            " 48  48      4601 non-null   float64\n",
            " 49  49      4601 non-null   float64\n",
            " 50  50      4601 non-null   float64\n",
            " 51  51      4601 non-null   float64\n",
            " 52  52      4601 non-null   float64\n",
            " 53  53      4601 non-null   float64\n",
            " 54  54      4601 non-null   float64\n",
            " 55  55      4601 non-null   int64  \n",
            " 56  56      4601 non-null   int64  \n",
            " 57  57      4601 non-null   int64  \n",
            "dtypes: float64(55), int64(3)\n",
            "memory usage: 2.0 MB\n"
          ]
        }
      ]
    },
    {
      "cell_type": "markdown",
      "source": [
        "## Separando os vetores de características e de rótulos"
      ],
      "metadata": {
        "id": "0sXlXe8CAf5j"
      }
    },
    {
      "cell_type": "code",
      "execution_count": 11,
      "metadata": {
        "id": "b2ILE8A04M7H"
      },
      "outputs": [],
      "source": [
        "X = df.iloc[:,:-1]\n",
        "y = df.iloc[:,-1]\n",
        "nome_labels =  np.array(['Not-Spam', 'Spam'])\n"
      ]
    },
    {
      "cell_type": "markdown",
      "source": [
        "## Pre-processamento dos dados\n",
        "- Dividir o dataset me treino e teste\n",
        "- Normalizar os dados usando `MinMaxScaler`"
      ],
      "metadata": {
        "id": "MffJ4lmz_Mo5"
      }
    },
    {
      "cell_type": "code",
      "source": [
        "from sklearn.model_selection import train_test_split\n",
        "X_treino, X_teste, y_treino, y_teste = train_test_split(X, y, test_size=0.25, shuffle=True, random_state=32)\n",
        "print(f\"Tamanho do conjunto de treino: {len(X_treino)}\")\n",
        "print(f\"Tamanho do conjunto de teste: {len(X_teste)}\")"
      ],
      "metadata": {
        "id": "FwXIgZbG_TQn",
        "colab": {
          "base_uri": "https://localhost:8080/"
        },
        "outputId": "8917badf-ef41-4a2e-e72f-0b737ffff7d4"
      },
      "execution_count": 12,
      "outputs": [
        {
          "output_type": "stream",
          "name": "stdout",
          "text": [
            "Tamanho do conjunto de treino: 3450\n",
            "Tamanho do conjunto de teste: 1151\n"
          ]
        }
      ]
    },
    {
      "cell_type": "markdown",
      "source": [
        "### Normalizando os dados"
      ],
      "metadata": {
        "id": "OiD3QxGH_an_"
      }
    },
    {
      "cell_type": "code",
      "source": [
        "from sklearn.preprocessing import MinMaxScaler\n",
        "normalizador = MinMaxScaler()\n",
        "normalizador.fit(X_treino)\n",
        "X_treino_norm = normalizador.transform(X_treino)\n",
        "X_teste_norm = normalizador.transform(X_teste)"
      ],
      "metadata": {
        "id": "YVornkMu_cpV"
      },
      "execution_count": 13,
      "outputs": []
    },
    {
      "cell_type": "markdown",
      "source": [
        "## Configurando e treinando um  modelo\n",
        "\n",
        "No código exemplo, importamos e configuramos uma regressão logística\n",
        "\n",
        "Para o exercício deste Colab, você irá alterar o modelo e executar novamente daqui em diante."
      ],
      "metadata": {
        "id": "bUFeKLtK_mw4"
      }
    },
    {
      "cell_type": "code",
      "source": [
        "#@title importando as bibibliotecas\n",
        "\n",
        "from sklearn.ensemble import AdaBoostClassifier, RandomForestClassifier\n",
        "from sklearn.gaussian_process import GaussianProcessClassifier\n",
        "from sklearn.gaussian_process.kernels import RBF\n",
        "from sklearn.inspection import DecisionBoundaryDisplay\n",
        "from sklearn.model_selection import train_test_split\n",
        "from sklearn.naive_bayes import GaussianNB\n",
        "from sklearn.neighbors import KNeighborsClassifier\n",
        "from sklearn.neural_network import MLPClassifier\n",
        "from sklearn.pipeline import make_pipeline\n",
        "from sklearn.preprocessing import StandardScaler\n",
        "from sklearn.svm import SVC\n",
        "from sklearn.tree import DecisionTreeClassifier\n",
        "from sklearn.linear_model import LogisticRegression"
      ],
      "metadata": {
        "id": "By90Xknox0ak"
      },
      "execution_count": 110,
      "outputs": []
    },
    {
      "cell_type": "markdown",
      "source": [
        "### Selecionando um modelo de aprendizado supervisionado"
      ],
      "metadata": {
        "id": "EPXtWRd6yHic"
      }
    },
    {
      "cell_type": "code",
      "source": [
        "modelo  =  MLPClassifier(alpha=1, max_iter=1000, random_state=42)"
      ],
      "metadata": {
        "id": "096hHHC8_fot"
      },
      "execution_count": 111,
      "outputs": []
    },
    {
      "cell_type": "code",
      "source": [
        "modelo.fit(X_treino_norm, y_treino)"
      ],
      "metadata": {
        "colab": {
          "base_uri": "https://localhost:8080/",
          "height": 75
        },
        "id": "BGXm2DBhlgc4",
        "outputId": "e4a35306-1f9f-4e5a-f631-ee4c63909d55"
      },
      "execution_count": 112,
      "outputs": [
        {
          "output_type": "execute_result",
          "data": {
            "text/plain": [
              "MLPClassifier(alpha=1, max_iter=1000, random_state=42)"
            ],
            "text/html": [
              "<style>#sk-container-id-8 {color: black;}#sk-container-id-8 pre{padding: 0;}#sk-container-id-8 div.sk-toggleable {background-color: white;}#sk-container-id-8 label.sk-toggleable__label {cursor: pointer;display: block;width: 100%;margin-bottom: 0;padding: 0.3em;box-sizing: border-box;text-align: center;}#sk-container-id-8 label.sk-toggleable__label-arrow:before {content: \"▸\";float: left;margin-right: 0.25em;color: #696969;}#sk-container-id-8 label.sk-toggleable__label-arrow:hover:before {color: black;}#sk-container-id-8 div.sk-estimator:hover label.sk-toggleable__label-arrow:before {color: black;}#sk-container-id-8 div.sk-toggleable__content {max-height: 0;max-width: 0;overflow: hidden;text-align: left;background-color: #f0f8ff;}#sk-container-id-8 div.sk-toggleable__content pre {margin: 0.2em;color: black;border-radius: 0.25em;background-color: #f0f8ff;}#sk-container-id-8 input.sk-toggleable__control:checked~div.sk-toggleable__content {max-height: 200px;max-width: 100%;overflow: auto;}#sk-container-id-8 input.sk-toggleable__control:checked~label.sk-toggleable__label-arrow:before {content: \"▾\";}#sk-container-id-8 div.sk-estimator input.sk-toggleable__control:checked~label.sk-toggleable__label {background-color: #d4ebff;}#sk-container-id-8 div.sk-label input.sk-toggleable__control:checked~label.sk-toggleable__label {background-color: #d4ebff;}#sk-container-id-8 input.sk-hidden--visually {border: 0;clip: rect(1px 1px 1px 1px);clip: rect(1px, 1px, 1px, 1px);height: 1px;margin: -1px;overflow: hidden;padding: 0;position: absolute;width: 1px;}#sk-container-id-8 div.sk-estimator {font-family: monospace;background-color: #f0f8ff;border: 1px dotted black;border-radius: 0.25em;box-sizing: border-box;margin-bottom: 0.5em;}#sk-container-id-8 div.sk-estimator:hover {background-color: #d4ebff;}#sk-container-id-8 div.sk-parallel-item::after {content: \"\";width: 100%;border-bottom: 1px solid gray;flex-grow: 1;}#sk-container-id-8 div.sk-label:hover label.sk-toggleable__label {background-color: #d4ebff;}#sk-container-id-8 div.sk-serial::before {content: \"\";position: absolute;border-left: 1px solid gray;box-sizing: border-box;top: 0;bottom: 0;left: 50%;z-index: 0;}#sk-container-id-8 div.sk-serial {display: flex;flex-direction: column;align-items: center;background-color: white;padding-right: 0.2em;padding-left: 0.2em;position: relative;}#sk-container-id-8 div.sk-item {position: relative;z-index: 1;}#sk-container-id-8 div.sk-parallel {display: flex;align-items: stretch;justify-content: center;background-color: white;position: relative;}#sk-container-id-8 div.sk-item::before, #sk-container-id-8 div.sk-parallel-item::before {content: \"\";position: absolute;border-left: 1px solid gray;box-sizing: border-box;top: 0;bottom: 0;left: 50%;z-index: -1;}#sk-container-id-8 div.sk-parallel-item {display: flex;flex-direction: column;z-index: 1;position: relative;background-color: white;}#sk-container-id-8 div.sk-parallel-item:first-child::after {align-self: flex-end;width: 50%;}#sk-container-id-8 div.sk-parallel-item:last-child::after {align-self: flex-start;width: 50%;}#sk-container-id-8 div.sk-parallel-item:only-child::after {width: 0;}#sk-container-id-8 div.sk-dashed-wrapped {border: 1px dashed gray;margin: 0 0.4em 0.5em 0.4em;box-sizing: border-box;padding-bottom: 0.4em;background-color: white;}#sk-container-id-8 div.sk-label label {font-family: monospace;font-weight: bold;display: inline-block;line-height: 1.2em;}#sk-container-id-8 div.sk-label-container {text-align: center;}#sk-container-id-8 div.sk-container {/* jupyter's `normalize.less` sets `[hidden] { display: none; }` but bootstrap.min.css set `[hidden] { display: none !important; }` so we also need the `!important` here to be able to override the default hidden behavior on the sphinx rendered scikit-learn.org. See: https://github.com/scikit-learn/scikit-learn/issues/21755 */display: inline-block !important;position: relative;}#sk-container-id-8 div.sk-text-repr-fallback {display: none;}</style><div id=\"sk-container-id-8\" class=\"sk-top-container\"><div class=\"sk-text-repr-fallback\"><pre>MLPClassifier(alpha=1, max_iter=1000, random_state=42)</pre><b>In a Jupyter environment, please rerun this cell to show the HTML representation or trust the notebook. <br />On GitHub, the HTML representation is unable to render, please try loading this page with nbviewer.org.</b></div><div class=\"sk-container\" hidden><div class=\"sk-item\"><div class=\"sk-estimator sk-toggleable\"><input class=\"sk-toggleable__control sk-hidden--visually\" id=\"sk-estimator-id-8\" type=\"checkbox\" checked><label for=\"sk-estimator-id-8\" class=\"sk-toggleable__label sk-toggleable__label-arrow\">MLPClassifier</label><div class=\"sk-toggleable__content\"><pre>MLPClassifier(alpha=1, max_iter=1000, random_state=42)</pre></div></div></div></div></div>"
            ]
          },
          "metadata": {},
          "execution_count": 112
        }
      ]
    },
    {
      "cell_type": "markdown",
      "source": [
        "### Calculando acurácia de treino e teste"
      ],
      "metadata": {
        "id": "kFzwCP1vAa3b"
      }
    },
    {
      "cell_type": "code",
      "source": [
        "print(f\"Acurácia de treinamento: {modelo.score(X_treino_norm, y_treino)}\")\n",
        "print(f\"Acurácia de teste: {modelo.score(X_teste_norm, y_teste)}\")"
      ],
      "metadata": {
        "id": "E0QycHAJAWG7",
        "colab": {
          "base_uri": "https://localhost:8080/"
        },
        "outputId": "ec424964-7336-46e4-b5d3-7a91ab974f68"
      },
      "execution_count": 113,
      "outputs": [
        {
          "output_type": "stream",
          "name": "stdout",
          "text": [
            "Acurácia de treinamento: 0.8973913043478261\n",
            "Acurácia de teste: 0.8861859252823632\n"
          ]
        }
      ]
    },
    {
      "cell_type": "markdown",
      "source": [
        "### Obtendo a classe de uma dada amostra\n",
        "\n",
        "Vamos escolher uma amostra aleatória e ver como o nosso classificador a classificou.\n",
        "\n",
        "No exemplo do código abaixo, escolhemos `k=10`, ou seja, a décima amostra do conjunto teste. Vericamos qual o rótulo desta amostra."
      ],
      "metadata": {
        "id": "UMgB_qKpAsH2"
      }
    },
    {
      "cell_type": "code",
      "source": [
        "k = 1\n",
        "amostra = X_teste.iloc[k]\n",
        "print(\"Amostra:\\n\", amostra)\n",
        "\n",
        "print(\"\\n---- Normalizando a amostra: ---\")\n",
        "amostra_norm = normalizador.transform([amostra])[0]\n",
        "print(amostra_norm)\n",
        "print(\"Rótulo:\", nome_labels[y_teste.iloc[k]])"
      ],
      "metadata": {
        "id": "dAgwpbvDA7wr",
        "colab": {
          "base_uri": "https://localhost:8080/"
        },
        "outputId": "beac8606-2a89-44ad-be50-13994ed2ed8d"
      },
      "execution_count": 114,
      "outputs": [
        {
          "output_type": "stream",
          "name": "stdout",
          "text": [
            "Amostra:\n",
            " 0       0.000\n",
            "1       0.000\n",
            "2       0.900\n",
            "3       0.000\n",
            "4       0.450\n",
            "5       0.000\n",
            "6       0.000\n",
            "7       0.000\n",
            "8       0.000\n",
            "9       0.000\n",
            "10      0.000\n",
            "11      0.900\n",
            "12      0.450\n",
            "13      0.000\n",
            "14      0.000\n",
            "15      0.450\n",
            "16      0.900\n",
            "17      0.000\n",
            "18      4.520\n",
            "19      0.000\n",
            "20      0.900\n",
            "21      0.000\n",
            "22      0.450\n",
            "23      0.000\n",
            "24      0.000\n",
            "25      0.000\n",
            "26      0.000\n",
            "27      0.000\n",
            "28      0.000\n",
            "29      0.000\n",
            "30      0.000\n",
            "31      0.000\n",
            "32      0.000\n",
            "33      0.000\n",
            "34      0.000\n",
            "35      0.000\n",
            "36      0.000\n",
            "37      0.000\n",
            "38      0.000\n",
            "39      0.000\n",
            "40      0.000\n",
            "41      0.000\n",
            "42      0.000\n",
            "43      0.000\n",
            "44      1.350\n",
            "45      0.000\n",
            "46      0.000\n",
            "47      0.000\n",
            "48      0.000\n",
            "49      0.000\n",
            "50      0.000\n",
            "51      2.115\n",
            "52      0.070\n",
            "53      0.000\n",
            "54      2.651\n",
            "55     14.000\n",
            "56    114.000\n",
            "Name: 615, dtype: float64\n",
            "\n",
            "---- Normalizando a amostra: ---\n",
            "[0.         0.         0.17647059 0.         0.04950495 0.\n",
            " 0.         0.         0.         0.         0.         0.09307135\n",
            " 0.08108108 0.         0.         0.0225     0.17578125 0.\n",
            " 0.24106667 0.         0.0810081  0.         0.09453782 0.\n",
            " 0.         0.         0.         0.         0.         0.\n",
            " 0.         0.         0.         0.         0.         0.\n",
            " 0.         0.         0.         0.         0.         0.\n",
            " 0.         0.         0.06302521 0.         0.         0.\n",
            " 0.         0.         0.         0.11055355 0.01320755 0.\n",
            " 0.00149887 0.00130156 0.01123149]\n",
            "Rótulo: Spam\n"
          ]
        }
      ]
    },
    {
      "cell_type": "markdown",
      "source": [
        "Agora vamos inserir  a mostra normalizada no nosso preditor:"
      ],
      "metadata": {
        "id": "baYneasdOjR8"
      }
    },
    {
      "cell_type": "code",
      "source": [
        "lab_pred = modelo.predict([amostra_norm])\n",
        "prob_pred = modelo.predict_proba([amostra_norm])\n",
        "print(\"Rótulo Real:\", nome_labels[y_teste.iloc[k]])\n",
        "print(\"Rótulo predito:\", nome_labels[lab_pred[0]])\n",
        "print(\"Probabilidade:\", prob_pred[0][1], \"%\")"
      ],
      "metadata": {
        "colab": {
          "base_uri": "https://localhost:8080/"
        },
        "id": "dj27NvrIOpiQ",
        "outputId": "97f67673-cc2c-423c-f956-33b0099d9ec2"
      },
      "execution_count": 115,
      "outputs": [
        {
          "output_type": "stream",
          "name": "stdout",
          "text": [
            "Rótulo Real: Spam\n",
            "Rótulo predito: Spam\n",
            "Probabilidade: 0.7659852851654443 %\n"
          ]
        }
      ]
    },
    {
      "cell_type": "markdown",
      "source": [
        "# Obtendo a matriz de confusão"
      ],
      "metadata": {
        "id": "_ux0Dr7QO5t5"
      }
    },
    {
      "cell_type": "code",
      "source": [
        "from sklearn.metrics import confusion_matrix\n",
        "pred_teste = modelo.predict(X_teste_norm)\n",
        "cm = confusion_matrix(y_teste, pred_teste)\n",
        "cm"
      ],
      "metadata": {
        "id": "JibWSfDOO4tk",
        "colab": {
          "base_uri": "https://localhost:8080/"
        },
        "outputId": "bce45e5a-595b-4984-8cd4-1ba9004617c6"
      },
      "execution_count": 116,
      "outputs": [
        {
          "output_type": "execute_result",
          "data": {
            "text/plain": [
              "array([[661,  44],\n",
              "       [ 87, 359]])"
            ]
          },
          "metadata": {},
          "execution_count": 116
        }
      ]
    },
    {
      "cell_type": "code",
      "source": [
        "from sklearn.metrics import ConfusionMatrixDisplay\n",
        "disp = ConfusionMatrixDisplay(confusion_matrix=cm, display_labels=nome_labels)\n",
        "disp.plot()"
      ],
      "metadata": {
        "id": "XO9ZxAdeSxTC",
        "colab": {
          "base_uri": "https://localhost:8080/",
          "height": 466
        },
        "outputId": "8726dcae-efed-463f-81cb-abd8d7fdad8a"
      },
      "execution_count": 117,
      "outputs": [
        {
          "output_type": "execute_result",
          "data": {
            "text/plain": [
              "<sklearn.metrics._plot.confusion_matrix.ConfusionMatrixDisplay at 0x79d49ff0df30>"
            ]
          },
          "metadata": {},
          "execution_count": 117
        },
        {
          "output_type": "display_data",
          "data": {
            "text/plain": [
              "<Figure size 640x480 with 2 Axes>"
            ],
            "image/png": "[encoded data removed]"
          },
          "metadata": {}
        }
      ]
    },
    {
      "cell_type": "markdown",
      "source": [
        "# Obtendo Acurácia, Precision, Recall e F1-score"
      ],
      "metadata": {
        "id": "1cP2F70VTggi"
      }
    },
    {
      "cell_type": "code",
      "source": [
        "tn, fp, fn, tp = cm.ravel()\n",
        "print(f\"TP: {tp}\\nTN: {tn}\\nFP: {fp}\\nFN: {fn}\")"
      ],
      "metadata": {
        "id": "pbRUuWskTmjR",
        "colab": {
          "base_uri": "https://localhost:8080/"
        },
        "outputId": "1ffcb2a4-5b11-4df9-ad49-d6758f75c679"
      },
      "execution_count": 118,
      "outputs": [
        {
          "output_type": "stream",
          "name": "stdout",
          "text": [
            "TP: 359\n",
            "TN: 661\n",
            "FP: 44\n",
            "FN: 87\n"
          ]
        }
      ]
    },
    {
      "cell_type": "code",
      "source": [
        "acc = (tp + tn) / (tp + tn + fp + fn)\n",
        "print(f\"Acuracia: {100 * acc:.2f}%\")"
      ],
      "metadata": {
        "id": "mSXDsz-rUzy-",
        "colab": {
          "base_uri": "https://localhost:8080/"
        },
        "outputId": "e3c6e2e3-c8db-41db-b92f-f895b5692b17"
      },
      "execution_count": 119,
      "outputs": [
        {
          "output_type": "stream",
          "name": "stdout",
          "text": [
            "Acuracia: 88.62%\n"
          ]
        }
      ]
    },
    {
      "cell_type": "code",
      "source": [
        "precision = tp / (tp + fp)\n",
        "print(f\"Precision: {100 * precision:.2f}%\")"
      ],
      "metadata": {
        "id": "STNLLDJTVOTS",
        "colab": {
          "base_uri": "https://localhost:8080/"
        },
        "outputId": "c729815c-361b-453f-a482-8a21ff858a9a"
      },
      "execution_count": 120,
      "outputs": [
        {
          "output_type": "stream",
          "name": "stdout",
          "text": [
            "Precision: 89.08%\n"
          ]
        }
      ]
    },
    {
      "cell_type": "code",
      "source": [
        "recall = tp / (tp + fn)\n",
        "print(f\"Recall: {100 * recall:.2f}%\")"
      ],
      "metadata": {
        "id": "5f_6IksmVZlR",
        "colab": {
          "base_uri": "https://localhost:8080/"
        },
        "outputId": "ea56d203-b8e1-474d-92e2-2a3f640c9ae9"
      },
      "execution_count": 121,
      "outputs": [
        {
          "output_type": "stream",
          "name": "stdout",
          "text": [
            "Recall: 80.49%\n"
          ]
        }
      ]
    },
    {
      "cell_type": "code",
      "source": [
        "f1 = 2 * (precision * recall)/(precision + recall)\n",
        "print(f\"F1-score: {100 * f1:.2f}%\")"
      ],
      "metadata": {
        "id": "6Ow44UuGVhsW",
        "colab": {
          "base_uri": "https://localhost:8080/"
        },
        "outputId": "a14caa0e-3bc7-405b-938f-53e4b14d21e7"
      },
      "execution_count": 122,
      "outputs": [
        {
          "output_type": "stream",
          "name": "stdout",
          "text": [
            "F1-score: 84.57%\n"
          ]
        }
      ]
    },
    {
      "cell_type": "markdown",
      "source": [
        "### ... ou simplesmente, podemos chamar as funções já prontas"
      ],
      "metadata": {
        "id": "c0bTxKGJWxhZ"
      }
    },
    {
      "cell_type": "code",
      "source": [
        "from sklearn.metrics import precision_score, recall_score, f1_score, accuracy_score\n",
        "print(f\"Acuracia: {100 * accuracy_score(y_teste, pred_teste):.2f}%\")\n",
        "print(f\"Precision: {100 * precision_score(y_teste, pred_teste):.2f}%\")\n",
        "print(f\"Recall: {100 * recall_score(y_teste, pred_teste):.2f}%\")\n",
        "print(f\"F1-score: {100 * f1_score(y_teste, pred_teste):.2f}%\")"
      ],
      "metadata": {
        "id": "TthGVN0dVvNY",
        "colab": {
          "base_uri": "https://localhost:8080/"
        },
        "outputId": "f7bd672f-ae74-4ac6-a2d7-86ed14433aec"
      },
      "execution_count": 123,
      "outputs": [
        {
          "output_type": "stream",
          "name": "stdout",
          "text": [
            "Acuracia: 88.62%\n",
            "Precision: 89.08%\n",
            "Recall: 80.49%\n",
            "F1-score: 84.57%\n"
          ]
        }
      ]
    },
    {
      "cell_type": "markdown",
      "source": [
        " # Calculando a Curva ROC e obtendo a AUC"
      ],
      "metadata": {
        "id": "tXbfUH4WDkVA"
      }
    },
    {
      "cell_type": "code",
      "source": [
        "#@title Gerando os thresholds\n",
        "from sklearn.metrics import roc_curve, auc\n",
        "\n",
        "lab_preds = modelo.predict(X_teste_norm)  #Alterando os thresholds\n",
        "prob_preds = modelo.predict_proba(X_teste_norm)\n",
        "\n",
        "fpr, tpr, thresholds = roc_curve(y_teste, prob_preds[:,1])\n",
        "roc_auc = auc(fpr, tpr)\n",
        "for k in range(len(fpr)):\n",
        "  print(f\"Threshold = {thresholds[k]} | FPR = {fpr[k]:.2f} | TPR = {tpr[k]:.2f}\")\n",
        "\n",
        "print(f\"\\nAUC = {roc_auc}\")"
      ],
      "metadata": {
        "colab": {
          "base_uri": "https://localhost:8080/"
        },
        "id": "URRWkrO7ETS4",
        "outputId": "c217f39f-728f-48d0-bccc-81f9f9cbfe6a",
        "cellView": "form"
      },
      "execution_count": 124,
      "outputs": [
        {
          "output_type": "stream",
          "name": "stdout",
          "text": [
            "Threshold = inf | FPR = 0.00 | TPR = 0.00\n",
            "Threshold = 0.993605708266584 | FPR = 0.00 | TPR = 0.00\n",
            "Threshold = 0.9903847249211285 | FPR = 0.00 | TPR = 0.01\n",
            "Threshold = 0.9859554283748639 | FPR = 0.00 | TPR = 0.01\n",
            "Threshold = 0.9367590233236043 | FPR = 0.00 | TPR = 0.15\n",
            "Threshold = 0.9364007925200477 | FPR = 0.00 | TPR = 0.16\n",
            "Threshold = 0.9274999836109514 | FPR = 0.00 | TPR = 0.19\n",
            "Threshold = 0.9274394614215488 | FPR = 0.00 | TPR = 0.19\n",
            "Threshold = 0.9129535012186052 | FPR = 0.00 | TPR = 0.23\n",
            "Threshold = 0.9125693280789936 | FPR = 0.00 | TPR = 0.23\n",
            "Threshold = 0.880583557302353 | FPR = 0.00 | TPR = 0.31\n",
            "Threshold = 0.8800866358195375 | FPR = 0.00 | TPR = 0.31\n",
            "Threshold = 0.8778586917791423 | FPR = 0.00 | TPR = 0.31\n",
            "Threshold = 0.8774992327149087 | FPR = 0.01 | TPR = 0.31\n",
            "Threshold = 0.872767213505578 | FPR = 0.01 | TPR = 0.33\n",
            "Threshold = 0.872508811093269 | FPR = 0.01 | TPR = 0.33\n",
            "Threshold = 0.862710759204316 | FPR = 0.01 | TPR = 0.35\n",
            "Threshold = 0.8626504226082952 | FPR = 0.01 | TPR = 0.35\n",
            "Threshold = 0.854692063268303 | FPR = 0.01 | TPR = 0.36\n",
            "Threshold = 0.8544121767266366 | FPR = 0.01 | TPR = 0.36\n",
            "Threshold = 0.8461830162475706 | FPR = 0.01 | TPR = 0.37\n",
            "Threshold = 0.8455100186674156 | FPR = 0.01 | TPR = 0.37\n",
            "Threshold = 0.8204089331917334 | FPR = 0.01 | TPR = 0.40\n",
            "Threshold = 0.8201182207587905 | FPR = 0.01 | TPR = 0.40\n",
            "Threshold = 0.8182859586056987 | FPR = 0.01 | TPR = 0.41\n",
            "Threshold = 0.8177514100437413 | FPR = 0.01 | TPR = 0.41\n",
            "Threshold = 0.7970284759891557 | FPR = 0.01 | TPR = 0.45\n",
            "Threshold = 0.7943710520520095 | FPR = 0.02 | TPR = 0.45\n",
            "Threshold = 0.79262605630259 | FPR = 0.02 | TPR = 0.45\n",
            "Threshold = 0.7907986946694666 | FPR = 0.02 | TPR = 0.45\n",
            "Threshold = 0.7768198910840035 | FPR = 0.02 | TPR = 0.47\n",
            "Threshold = 0.7759347851390561 | FPR = 0.02 | TPR = 0.47\n",
            "Threshold = 0.774821941552579 | FPR = 0.02 | TPR = 0.47\n",
            "Threshold = 0.7739654354885399 | FPR = 0.02 | TPR = 0.48\n",
            "Threshold = 0.7709668888988721 | FPR = 0.02 | TPR = 0.48\n",
            "Threshold = 0.7709234467287651 | FPR = 0.02 | TPR = 0.48\n",
            "Threshold = 0.7677962353838184 | FPR = 0.02 | TPR = 0.50\n",
            "Threshold = 0.7672385364721616 | FPR = 0.03 | TPR = 0.50\n",
            "Threshold = 0.7632443644938525 | FPR = 0.03 | TPR = 0.50\n",
            "Threshold = 0.760996370689235 | FPR = 0.03 | TPR = 0.50\n",
            "Threshold = 0.7594044065071363 | FPR = 0.03 | TPR = 0.51\n",
            "Threshold = 0.7573005331521389 | FPR = 0.03 | TPR = 0.51\n",
            "Threshold = 0.7534148769452598 | FPR = 0.03 | TPR = 0.51\n",
            "Threshold = 0.7506722290438018 | FPR = 0.03 | TPR = 0.51\n",
            "Threshold = 0.7463174295302696 | FPR = 0.03 | TPR = 0.52\n",
            "Threshold = 0.7415180236524977 | FPR = 0.03 | TPR = 0.52\n",
            "Threshold = 0.7344010505261003 | FPR = 0.03 | TPR = 0.52\n",
            "Threshold = 0.7339983087430966 | FPR = 0.04 | TPR = 0.52\n",
            "Threshold = 0.7310490671874703 | FPR = 0.04 | TPR = 0.53\n",
            "Threshold = 0.7247179538891467 | FPR = 0.04 | TPR = 0.53\n",
            "Threshold = 0.7222350776301147 | FPR = 0.04 | TPR = 0.54\n",
            "Threshold = 0.7213744815058813 | FPR = 0.04 | TPR = 0.54\n",
            "Threshold = 0.7206818605765513 | FPR = 0.04 | TPR = 0.54\n",
            "Threshold = 0.7202576922458076 | FPR = 0.04 | TPR = 0.54\n",
            "Threshold = 0.6886173900794503 | FPR = 0.04 | TPR = 0.57\n",
            "Threshold = 0.687115094500811 | FPR = 0.04 | TPR = 0.57\n",
            "Threshold = 0.6667033723908433 | FPR = 0.04 | TPR = 0.60\n",
            "Threshold = 0.6654734520547189 | FPR = 0.04 | TPR = 0.60\n",
            "Threshold = 0.6584994008621555 | FPR = 0.04 | TPR = 0.61\n",
            "Threshold = 0.6567676810655351 | FPR = 0.04 | TPR = 0.61\n",
            "Threshold = 0.6473669007554632 | FPR = 0.04 | TPR = 0.62\n",
            "Threshold = 0.6456010596277822 | FPR = 0.05 | TPR = 0.62\n",
            "Threshold = 0.641229655866319 | FPR = 0.05 | TPR = 0.63\n",
            "Threshold = 0.6405666450467451 | FPR = 0.05 | TPR = 0.63\n",
            "Threshold = 0.6393399610268239 | FPR = 0.05 | TPR = 0.63\n",
            "Threshold = 0.6380938069079538 | FPR = 0.05 | TPR = 0.63\n",
            "Threshold = 0.6188826981331943 | FPR = 0.05 | TPR = 0.65\n",
            "Threshold = 0.6159705765479978 | FPR = 0.05 | TPR = 0.65\n",
            "Threshold = 0.610405996253658 | FPR = 0.05 | TPR = 0.67\n",
            "Threshold = 0.6101880063974787 | FPR = 0.05 | TPR = 0.67\n",
            "Threshold = 0.5995389493107949 | FPR = 0.05 | TPR = 0.69\n",
            "Threshold = 0.5979212778244414 | FPR = 0.05 | TPR = 0.69\n",
            "Threshold = 0.5644206302102092 | FPR = 0.05 | TPR = 0.72\n",
            "Threshold = 0.5639682560000951 | FPR = 0.05 | TPR = 0.72\n",
            "Threshold = 0.5601731080954448 | FPR = 0.05 | TPR = 0.73\n",
            "Threshold = 0.5597680026721893 | FPR = 0.05 | TPR = 0.73\n",
            "Threshold = 0.5595447556579346 | FPR = 0.05 | TPR = 0.73\n",
            "Threshold = 0.5588609794808618 | FPR = 0.06 | TPR = 0.73\n",
            "Threshold = 0.5566406866503077 | FPR = 0.06 | TPR = 0.74\n",
            "Threshold = 0.5534769338654856 | FPR = 0.06 | TPR = 0.74\n",
            "Threshold = 0.5360748905364112 | FPR = 0.06 | TPR = 0.76\n",
            "Threshold = 0.5319245638808836 | FPR = 0.06 | TPR = 0.76\n",
            "Threshold = 0.5066629576785727 | FPR = 0.06 | TPR = 0.80\n",
            "Threshold = 0.5054619141616905 | FPR = 0.06 | TPR = 0.80\n",
            "Threshold = 0.49912081075734976 | FPR = 0.06 | TPR = 0.81\n",
            "Threshold = 0.4981905949285879 | FPR = 0.06 | TPR = 0.81\n",
            "Threshold = 0.4769452855149827 | FPR = 0.06 | TPR = 0.83\n",
            "Threshold = 0.4707842460196529 | FPR = 0.07 | TPR = 0.83\n",
            "Threshold = 0.46229666760722543 | FPR = 0.07 | TPR = 0.83\n",
            "Threshold = 0.4606268935758103 | FPR = 0.07 | TPR = 0.83\n",
            "Threshold = 0.4601185506585282 | FPR = 0.07 | TPR = 0.84\n",
            "Threshold = 0.45867676839263416 | FPR = 0.07 | TPR = 0.84\n",
            "Threshold = 0.45824002749175696 | FPR = 0.07 | TPR = 0.84\n",
            "Threshold = 0.4539661366166398 | FPR = 0.07 | TPR = 0.84\n",
            "Threshold = 0.4458397493373227 | FPR = 0.07 | TPR = 0.85\n",
            "Threshold = 0.44557603224454007 | FPR = 0.07 | TPR = 0.85\n",
            "Threshold = 0.4310308408268556 | FPR = 0.07 | TPR = 0.87\n",
            "Threshold = 0.4307691022276628 | FPR = 0.07 | TPR = 0.87\n",
            "Threshold = 0.42874252573415883 | FPR = 0.07 | TPR = 0.87\n",
            "Threshold = 0.42855536192023247 | FPR = 0.08 | TPR = 0.87\n",
            "Threshold = 0.4243792500985884 | FPR = 0.08 | TPR = 0.87\n",
            "Threshold = 0.4227109642699281 | FPR = 0.08 | TPR = 0.87\n",
            "Threshold = 0.41922215632657467 | FPR = 0.08 | TPR = 0.88\n",
            "Threshold = 0.4178985915077257 | FPR = 0.08 | TPR = 0.88\n",
            "Threshold = 0.41598913491597883 | FPR = 0.08 | TPR = 0.88\n",
            "Threshold = 0.4138680451290907 | FPR = 0.08 | TPR = 0.88\n",
            "Threshold = 0.41217254625291894 | FPR = 0.08 | TPR = 0.88\n",
            "Threshold = 0.41023281929415406 | FPR = 0.08 | TPR = 0.88\n",
            "Threshold = 0.40977183206228296 | FPR = 0.08 | TPR = 0.89\n",
            "Threshold = 0.40870049353884946 | FPR = 0.09 | TPR = 0.89\n",
            "Threshold = 0.4085222629561952 | FPR = 0.09 | TPR = 0.89\n",
            "Threshold = 0.40658338485995665 | FPR = 0.09 | TPR = 0.89\n",
            "Threshold = 0.40410743365067253 | FPR = 0.09 | TPR = 0.89\n",
            "Threshold = 0.4041003333862879 | FPR = 0.09 | TPR = 0.89\n",
            "Threshold = 0.40348294545399627 | FPR = 0.09 | TPR = 0.89\n",
            "Threshold = 0.3929107036121062 | FPR = 0.10 | TPR = 0.89\n",
            "Threshold = 0.3839842267634107 | FPR = 0.10 | TPR = 0.90\n",
            "Threshold = 0.38031019514249664 | FPR = 0.10 | TPR = 0.90\n",
            "Threshold = 0.3791160427085003 | FPR = 0.10 | TPR = 0.90\n",
            "Threshold = 0.3660330365129851 | FPR = 0.11 | TPR = 0.90\n",
            "Threshold = 0.36338787782841486 | FPR = 0.11 | TPR = 0.91\n",
            "Threshold = 0.3612147674413434 | FPR = 0.11 | TPR = 0.91\n",
            "Threshold = 0.35904315269280107 | FPR = 0.11 | TPR = 0.91\n",
            "Threshold = 0.35807665169440933 | FPR = 0.12 | TPR = 0.91\n",
            "Threshold = 0.3574309747599645 | FPR = 0.12 | TPR = 0.91\n",
            "Threshold = 0.3560777092632797 | FPR = 0.12 | TPR = 0.91\n",
            "Threshold = 0.35532650982898883 | FPR = 0.12 | TPR = 0.91\n",
            "Threshold = 0.3552996684147217 | FPR = 0.12 | TPR = 0.91\n",
            "Threshold = 0.35197569827930797 | FPR = 0.12 | TPR = 0.92\n",
            "Threshold = 0.3426364614684607 | FPR = 0.13 | TPR = 0.92\n",
            "Threshold = 0.34172779731244646 | FPR = 0.13 | TPR = 0.92\n",
            "Threshold = 0.33448916386405275 | FPR = 0.14 | TPR = 0.92\n",
            "Threshold = 0.3344562542485741 | FPR = 0.14 | TPR = 0.92\n",
            "Threshold = 0.3140881927315668 | FPR = 0.16 | TPR = 0.92\n",
            "Threshold = 0.30872320796296077 | FPR = 0.16 | TPR = 0.93\n",
            "Threshold = 0.3049711553824261 | FPR = 0.17 | TPR = 0.93\n",
            "Threshold = 0.3039678388325253 | FPR = 0.17 | TPR = 0.93\n",
            "Threshold = 0.29826376229633655 | FPR = 0.18 | TPR = 0.93\n",
            "Threshold = 0.29734464672391214 | FPR = 0.18 | TPR = 0.93\n",
            "Threshold = 0.2848696747562217 | FPR = 0.20 | TPR = 0.93\n",
            "Threshold = 0.284600267005594 | FPR = 0.20 | TPR = 0.93\n",
            "Threshold = 0.2743876213136463 | FPR = 0.22 | TPR = 0.93\n",
            "Threshold = 0.2733043525438914 | FPR = 0.22 | TPR = 0.94\n",
            "Threshold = 0.2732145425955974 | FPR = 0.22 | TPR = 0.94\n",
            "Threshold = 0.2731503971892999 | FPR = 0.22 | TPR = 0.94\n",
            "Threshold = 0.27296631877619587 | FPR = 0.23 | TPR = 0.94\n",
            "Threshold = 0.2727306156382566 | FPR = 0.23 | TPR = 0.94\n",
            "Threshold = 0.26918232428386485 | FPR = 0.23 | TPR = 0.94\n",
            "Threshold = 0.2681724907511732 | FPR = 0.23 | TPR = 0.94\n",
            "Threshold = 0.2676760875379777 | FPR = 0.24 | TPR = 0.94\n",
            "Threshold = 0.2671156077096979 | FPR = 0.24 | TPR = 0.95\n",
            "Threshold = 0.2573233929148623 | FPR = 0.26 | TPR = 0.95\n",
            "Threshold = 0.2563726263336374 | FPR = 0.26 | TPR = 0.95\n",
            "Threshold = 0.25032384998377805 | FPR = 0.28 | TPR = 0.95\n",
            "Threshold = 0.25005991614240103 | FPR = 0.28 | TPR = 0.95\n",
            "Threshold = 0.2497210646047018 | FPR = 0.29 | TPR = 0.95\n",
            "Threshold = 0.24928287629445195 | FPR = 0.29 | TPR = 0.95\n",
            "Threshold = 0.24203762810189908 | FPR = 0.30 | TPR = 0.95\n",
            "Threshold = 0.24191281636357026 | FPR = 0.30 | TPR = 0.96\n",
            "Threshold = 0.2366923432774818 | FPR = 0.31 | TPR = 0.96\n",
            "Threshold = 0.23635065018583065 | FPR = 0.31 | TPR = 0.96\n",
            "Threshold = 0.2265814985828024 | FPR = 0.33 | TPR = 0.96\n",
            "Threshold = 0.22634576608406812 | FPR = 0.33 | TPR = 0.96\n",
            "Threshold = 0.22631271273948014 | FPR = 0.33 | TPR = 0.96\n",
            "Threshold = 0.22419766803780244 | FPR = 0.33 | TPR = 0.96\n",
            "Threshold = 0.21939092620216752 | FPR = 0.35 | TPR = 0.96\n",
            "Threshold = 0.21883389456813035 | FPR = 0.35 | TPR = 0.97\n",
            "Threshold = 0.21766105647668202 | FPR = 0.35 | TPR = 0.97\n",
            "Threshold = 0.2170324966895126 | FPR = 0.35 | TPR = 0.97\n",
            "Threshold = 0.21196150616350526 | FPR = 0.36 | TPR = 0.97\n",
            "Threshold = 0.21194606391527437 | FPR = 0.36 | TPR = 0.97\n",
            "Threshold = 0.2110627926197221 | FPR = 0.36 | TPR = 0.97\n",
            "Threshold = 0.21033678550779658 | FPR = 0.36 | TPR = 0.98\n",
            "Threshold = 0.18995974686336092 | FPR = 0.41 | TPR = 0.98\n",
            "Threshold = 0.18924691286049758 | FPR = 0.41 | TPR = 0.98\n",
            "Threshold = 0.18501784605948698 | FPR = 0.42 | TPR = 0.98\n",
            "Threshold = 0.18500570659020912 | FPR = 0.42 | TPR = 0.98\n",
            "Threshold = 0.18432045872915748 | FPR = 0.44 | TPR = 0.98\n",
            "Threshold = 0.18422835153567235 | FPR = 0.44 | TPR = 0.98\n",
            "Threshold = 0.1840343829159827 | FPR = 0.45 | TPR = 0.98\n",
            "Threshold = 0.1839729558152534 | FPR = 0.46 | TPR = 0.98\n",
            "Threshold = 0.18391154459646006 | FPR = 0.46 | TPR = 0.98\n",
            "Threshold = 0.18385282799357228 | FPR = 0.47 | TPR = 0.98\n",
            "Threshold = 0.18378876980059425 | FPR = 0.47 | TPR = 0.98\n",
            "Threshold = 0.17386355430971917 | FPR = 0.50 | TPR = 0.98\n",
            "Threshold = 0.1731581221742586 | FPR = 0.50 | TPR = 0.98\n",
            "Threshold = 0.17256206644786842 | FPR = 0.50 | TPR = 0.98\n",
            "Threshold = 0.17248553468660618 | FPR = 0.50 | TPR = 0.99\n",
            "Threshold = 0.17085311459422378 | FPR = 0.51 | TPR = 0.99\n",
            "Threshold = 0.1705949509986442 | FPR = 0.51 | TPR = 0.99\n",
            "Threshold = 0.16600936742459949 | FPR = 0.51 | TPR = 0.99\n",
            "Threshold = 0.16589505212980987 | FPR = 0.51 | TPR = 0.99\n",
            "Threshold = 0.15712343626408806 | FPR = 0.55 | TPR = 0.99\n",
            "Threshold = 0.15640114973397404 | FPR = 0.55 | TPR = 0.99\n",
            "Threshold = 0.15147920063362025 | FPR = 0.56 | TPR = 0.99\n",
            "Threshold = 0.1503398487020967 | FPR = 0.56 | TPR = 0.99\n",
            "Threshold = 0.14780576629715506 | FPR = 0.57 | TPR = 0.99\n",
            "Threshold = 0.14735656206661424 | FPR = 0.57 | TPR = 1.00\n",
            "Threshold = 0.1362580602927922 | FPR = 0.60 | TPR = 1.00\n",
            "Threshold = 0.1356390479303848 | FPR = 0.60 | TPR = 1.00\n",
            "Threshold = 0.08805064112641886 | FPR = 0.71 | TPR = 1.00\n",
            "Threshold = 0.08781621988498693 | FPR = 0.71 | TPR = 1.00\n",
            "Threshold = 0.06682148437499515 | FPR = 0.77 | TPR = 1.00\n",
            "Threshold = 0.06616314841664256 | FPR = 0.77 | TPR = 1.00\n",
            "Threshold = 0.029632683342575124 | FPR = 0.87 | TPR = 1.00\n",
            "Threshold = 0.028290735744223538 | FPR = 0.87 | TPR = 1.00\n",
            "Threshold = 0.026490142430830855 | FPR = 0.88 | TPR = 1.00\n",
            "Threshold = 0.02527846768590997 | FPR = 0.88 | TPR = 1.00\n",
            "Threshold = 0.01653001385519635 | FPR = 0.91 | TPR = 1.00\n",
            "Threshold = 0.01652336428215425 | FPR = 0.93 | TPR = 1.00\n",
            "Threshold = 0.016511749124655816 | FPR = 0.93 | TPR = 1.00\n",
            "Threshold = 0.013408102304041849 | FPR = 0.94 | TPR = 1.00\n",
            "Threshold = 0.013398505339353613 | FPR = 0.94 | TPR = 1.00\n",
            "Threshold = 0.00350321915271486 | FPR = 0.97 | TPR = 1.00\n",
            "Threshold = 0.0034513621970979126 | FPR = 0.98 | TPR = 1.00\n",
            "Threshold = 0.00011615346354884719 | FPR = 1.00 | TPR = 1.00\n",
            "Threshold = 8.670243120099998e-05 | FPR = 1.00 | TPR = 1.00\n",
            "\n",
            "AUC = 0.9454091530706359\n"
          ]
        }
      ]
    },
    {
      "cell_type": "code",
      "source": [
        "import matplotlib.pyplot as plt\n",
        "plt.plot(fpr, tpr, label=f\"ROC (AUC = {roc_auc:.4f}\")\n",
        "plt.plot([0, 1], [0, 1], color=\"k\", linestyle=\"--\")\n",
        "plt.xlim([-0.01, 1.0])\n",
        "plt.ylim([0.0, 1.05])\n",
        "plt.xlabel(\"Taxa de Falso Positivo\")\n",
        "plt.ylabel(\"Taxa de Verdadeiro Positivo\")\n",
        "plt.legend(loc=\"lower right\")\n",
        "plt.show()"
      ],
      "metadata": {
        "colab": {
          "base_uri": "https://localhost:8080/",
          "height": 449
        },
        "id": "HpXj6BePFUlS",
        "outputId": "e8d5612d-2542-4f26-99d0-cadc13817fe8"
      },
      "execution_count": 125,
      "outputs": [
        {
          "output_type": "display_data",
          "data": {
            "text/plain": [
              "<Figure size 640x480 with 1 Axes>"
            ],
            "image/png": "[encoded data removed]"
          },
          "metadata": {}
        }
      ]
    },
    {
      "cell_type": "markdown",
      "source": [
        "#Exercícios  \n",
        "\n",
        "O objetivo deste exercício é ilustrar a natureza dos limites de decisão de diferentes classificadores. No entanto, lembre-se que o melhor classificador para este problema não necessariamente será o melhor para outros problemas.\n",
        "\n",
        "Agora que você já sabe avaliar as métricas de problemas de classificação. Altere o modelo de regressão logística  para avaliar outros modelos.\n",
        "\n",
        "\n",
        "Para isto,  no bloco \"***Selecionando o modelo de aprendizado supervisionado***\", substitua as linhas de código do modelo por cada um dos modelos abaixo. Para cada modelo, execute o Notebook novamente  e anote as métricas para discutir o desempenho dos modelos.\n",
        "\n",
        "Dica:  `CTRL +F10` executa tudo apenas do bloco alterado para baixo.\n",
        "\n",
        "Modelos:\n",
        "\n",
        "1.  Naive Bayes\n",
        "\n",
        "   ```\n",
        "    modelo =  GaussianNB()\n",
        "   ```\n",
        "\n",
        "1. KNN\n",
        "\n",
        "  ```\n",
        "  modelo  = KNeighborsClassifier(3)\n",
        "  ```\n",
        "\n",
        "1. Árvore de decisão\n",
        "\n",
        "  ```\n",
        "  modelo  =  DecisionTreeClassifier(max_depth=5, random_state=42)\n",
        "  ```\n",
        "\n",
        "\n",
        "1. Árvore aleatória\n",
        "\n",
        "  ```\n",
        "  modelo  = RandomForestClassifier(\n",
        "        max_depth=5, n_estimators=10, max_features=1, random_state=42\n",
        "    )\n",
        "  ```\n",
        "\n",
        "1. SVM\n",
        "\n",
        "  ```\n",
        "  modelo  =  SVC(kernel=\"linear\", C=0.025, random_state=42)\n",
        "  ```\n",
        "\n",
        "1. Rede neural MLP\n",
        "\n",
        "  ```\n",
        "  modelo  =  MLPClassifier(alpha=1, max_iter=1000, random_state=42)\n",
        "  ```\n",
        "\n",
        "\n",
        "Observação importante: Este exercício apresenta vários modelos que ainda serão explicados em detalhes em outras disciplinas!!! O foco deve ser em comparar as métricas destes modelos.\n"
      ],
      "metadata": {
        "id": "Td487sOqmqoa"
      }
    },
    {
      "cell_type": "markdown",
      "source": [
        "##Entrega:\n",
        "\n",
        " Você deverá preencher a tabela abaixo, salvar o notebook e submetê-lo no Moodle:\n",
        "\n",
        "1.  Uma tabela descritiva contendo os modelos e as métricas, por exemplo:\n",
        "\n",
        "| Modelo               | Acurácia | Precision | Recall | F1-Score | AUC   |\n",
        "| -------------        |----------|-----------|--------|----------|-------|\n",
        "| Regressão Logística  | 97.20%   | 96.63%    |98.85%  | 97.73%   | 0.9961|\n",
        "| Naive Bayes   | 80.54%   | 67.45%    | 96.19% | 79.30%   | 0.9111|\n",
        "| KNN   | 88.18%   | 86.90%    | 81.84% | 84.30%   | 0.9253|\n",
        "| Árvore de decisão   | 89.92%   | 91.25%    | 81,84% | 86.29%   | 0.9152|\n",
        "| Árvore Aleatória   | 84.01%   | 90.43%    | 65.70% | 76.10%   | 0.9313|\n",
        "| SVM   | 77.24%   | 89.32%    | 46.86% | 61.47%   | 0.9082|\n",
        "| Rede Neural MLP   | 88.62%   | 89.08%    | 80.49% | 84.57%   | 0.9454|\n",
        "\n",
        "\n",
        "\n",
        "\n"
      ],
      "metadata": {
        "id": "Sjkwgq2dE1XW"
      }
    },
    {
      "cell_type": "markdown",
      "source": [
        "2.  Uma discussão curta sobre os resultados para cada uma das métricas.  Quais foram os melhores algoritmos. Em quais métricas cada algoritmo se destacou.  Para o problema de detecção de Spam, qual seria o algoritmo recomendável, considerando esta base de dados.\n",
        "\n",
        "Análise dos Resultados e Recomendações para Detecção de Spam\n",
        "Resumo dos Resultados:\n",
        "\n",
        "A tabela apresenta o desempenho de diversos algoritmos de classificação na tarefa de detecção de spam.\n",
        "Cada métrica nos fornece uma perspectiva diferente sobre a qualidade do modelo:\n",
        "\n",
        "Acurácia: Proporção de classificações corretas.\n",
        "Precisão: Proporção de positivos previstos que são realmente positivos.\n",
        "Recall: Proporção de positivos reais que são corretamente classificados como positivos.\n",
        "F1-Score: Média harmônica de precisão e recall, oferecendo um bom equilíbrio entre os dois.\n",
        "AUC: Área sob a curva ROC, que indica o poder de discriminação do classificador.\n",
        "\n",
        "Destaques de Cada Algoritmo:\n",
        "\n",
        "Regressão Logística: Apresentou o melhor desempenho, com alta acurácia, precisão, recall e F1-Score. A AUC também é alta,\n",
        "indicando boa capacidade de discriminação.\n",
        "Naive Bayes: Obteve um recall muito alto, o que significa que ele é bom em identificar a maioria dos spams.\n",
        "No entanto, a precisão é relativamente baixa, sugerindo que ele pode classificar muitos e-mails legítimos como spam.\n",
        "KNN: Apresentou um bom equilíbrio entre precisão e recall, com um F1-Score sólido.\n",
        "Árvore de Decisão: Semelhante ao KNN, com um bom desempenho geral.\n",
        "Árvore Aleatória: Alta precisão, mas recall relativamente baixo, indicando que pode perder alguns spams.\n",
        "SVM: Baixo recall, o que significa que muitos spams podem ser classificados como não spam.\n",
        "Rede Neural MLP: Desempenho sólido, com um bom equilíbrio entre precisão e recall.\n",
        "\n",
        "Algoritmo Recomendado para Detecção de Spam:\n",
        "\n",
        "Regressão Logística parece ser o algoritmo mais adequado para este conjunto de dados, considerando o bom desempenho em todas as métricas.\n",
        "Sua alta precisão e recall indicam que ele é capaz de identificar a maioria dos spams sem gerar muitos falsos positivos. Além disso, a alta\n",
        "AUC sugere que ele tem boa capacidade de discriminar entre spams e não spams.\n",
        "\n",
        "Considerações Adicionais:\n",
        "\n",
        "Desequilíbrio de classes: Se a base de dados tiver um desequilíbrio significativo entre a quantidade de spams e não spams, métricas como\n",
        "F1-Score e AUC são mais informativas do que a acurácia.\n",
        "Custos de classificação: Dependendo da aplicação, o custo de um falso positivo (classificar um e-mail legítimo como spam) pode ser diferente\n",
        "do custo de um falso negativo (classificar um spam como legítimo). Isso pode influenciar a escolha do algoritmo.\n",
        "Interpretabilidade: Se a interpretabilidade do modelo for importante, a Árvore de Decisão pode ser uma boa opção, pois suas regras de decisão\n",
        "são mais fáceis de entender.\n",
        "\n",
        "Recomendações para Próximas Análises:\n",
        "\n",
        "Análise de Erros: Analisar os exemplos classificados incorretamente pode fornecer insights sobre as dificuldades do modelo e como melhorá-lo.\n",
        "Otimização de Hiperparâmetros: Experimentar diferentes valores para os hiperparâmetros dos algoritmos pode melhorar o desempenho.\n",
        "Combinação de Modelos: A combinação de diferentes modelos (ensemble learning) pode levar a resultados ainda melhores.\n",
        "Considerar outras Métricas: Dependendo da aplicação, outras métricas como especificidade e NPV podem ser relevantes.\n",
        "\n",
        "Em síntese, a Regressão Logística se destaca como a melhor opção para este conjunto de dados específico, mas é importante considerar as características do problema e as necessidades do negócio ao tomar a decisão final.\n",
        "\n"
      ],
      "metadata": {
        "id": "iHzX451PFIas"
      }
    }
  ]
}