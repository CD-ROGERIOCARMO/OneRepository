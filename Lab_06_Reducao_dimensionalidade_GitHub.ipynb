{
  "nbformat": 4,
  "nbformat_minor": 0,
  "metadata": {
    "colab": {
      "provenance": []
    },
    "kernelspec": {
      "name": "python3",
      "display_name": "Python 3"
    },
    "language_info": {
      "name": "python"
    }
  },
  "cells": [
    {
      "cell_type": "markdown",
      "metadata": {
        "id": "R_l32WylNm96"
      },
      "source": [
        "---\n",
        "<img src=\"https://ead.ufes.br/pluginfile.php/188418/course/summary/Banner%20IA%20e%20CD.png\" style=\"float: right;\">\n",
        "\n",
        "\n",
        "# Redução de dimensionalidade\n",
        "\n",
        "\n",
        "Não se apegue aqui com os detalhes da linguagem, você verá Python na próxima disciplina.\n",
        "\n",
        "**Objetivos**\n",
        "\n",
        "A intenção dessa aula é que você se familiarize com os principais conceitos do algoritmo PCA. Entendender o algoritmo não é trivial. Desta forma, nesta aula focaremos em entender o conceito de variância explicada.\n",
        "\n",
        "**Resultados Esperados**\n",
        "\n",
        "1. Entender o pipeline para redução de dimensionalidade\n",
        "1. Utilizar o PCA do Sci-kit learn\n",
        "1. Carregar um conjunto de dados padrão: a base de dados  *Wine*\n",
        "1. Comparar uma regressão realizada com os dados brutos versus uma com os componentes principais.\n"
      ]
    },
    {
      "cell_type": "markdown",
      "metadata": {
        "id": "a27x1gbDkWve"
      },
      "source": [
        "# Introdução\n",
        "\n"
      ]
    },
    {
      "cell_type": "markdown",
      "source": [
        "**Redução de dimensionalidade** é uma técnica utilizada em ciência de dados e aprendizado de máquina para diminuir o número de variáveis ou características em um conjunto de dados, mantendo ao máximo possível a quantidade de informação original. O objetivo principal é simplificar os dados, facilitar a visualização, acelerar o processamento e evitar o problema de **overfitting** (excesso de ajuste).\n",
        "\n",
        "### Por que reduzir a dimensionalidade?\n",
        "\n",
        "- **Dimensionalidade alta causa complexidade**: Muitos conjuntos de dados possuem dezenas, centenas ou até milhares de variáveis (dimensões). Isso torna os algoritmos de aprendizado de máquina mais difíceis de treinar e pode reduzir a performance. Em problemas de alta dimensionalidade, a complexidade aumenta exponencialmente, o que é chamado de \"maldição da dimensionalidade\".\n",
        "  \n",
        "- **Reduzir ruído**: Muitas variáveis em um conjunto de dados podem ser irrelevantes ou redundantes, e a redução de dimensionalidade pode ajudar a remover esses fatores, mantendo apenas os componentes mais importantes.\n",
        "  \n",
        "- **Visualização de dados**: Para conjuntos de dados de alta dimensionalidade, pode ser impossível visualizá-los diretamente. Técnicas de redução de dimensionalidade, como PCA, podem ajudar a projetar os dados em 2 ou 3 dimensões para facilitar a visualização.\n",
        "\n",
        "### Métodos de Redução de Dimensionalidade\n",
        "\n",
        "1. **Métodos Lineares**\n",
        "   - **PCA (Análise de Componentes Principais)**: PCA é uma técnica que transforma os dados em uma nova base de componentes principais que capturam a maior parte da variância dos dados. Os componentes principais são ordenados de acordo com a quantidade de variância que explicam, e as dimensões menos relevantes (que explicam menos variância) podem ser descartadas.\n",
        "   \n",
        "   - **LDA (Análise Discriminante Linear)**: Similar ao PCA, mas o objetivo do LDA é maximizar a separação entre diferentes classes, tornando-o útil para problemas de classificação.\n",
        "\n",
        "2. **Métodos Não-Lineares**\n",
        "   - **t-SNE (T-Distributed Stochastic Neighbor Embedding)**: t-SNE é uma técnica não-linear frequentemente usada para visualização em 2D ou 3D. Ele preserva as relações locais dos dados, o que significa que pontos semelhantes nos dados originais continuarão próximos uns dos outros na projeção reduzida.\n",
        "   \n",
        "   - **UMAP (Uniform Manifold Approximation and Projection)**: UMAP é uma técnica não-linear mais recente, usada para visualização de alta dimensionalidade, que preserva tanto a estrutura global quanto a local dos dados.\n",
        "\n",
        "3. **Seleção de Características (Feature Selection)**: Diferente das técnicas de transformação, a seleção de características tenta escolher um subconjunto das características originais. Métodos como eliminação recursiva de características ou uso de técnicas de regularização (como Lasso) podem ser aplicados.\n",
        "\n",
        "### Exemplo de Redução de Dimensionalidade\n",
        "\n",
        "Vamos considerar um conjunto de dados com 100 variáveis (dimensões). Aplicando PCA, podemos descobrir que apenas os primeiros 10 componentes principais explicam 95% da variância dos dados. Neste caso, podemos reduzir as 100 variáveis originais para apenas 10 componentes principais sem perder muito da informação dos dados originais.\n",
        "\n",
        "### Desvantagens\n",
        "\n",
        "- **Perda de informação**: Embora a redução de dimensionalidade tente preservar o máximo de informação, inevitavelmente haverá alguma perda.\n",
        "- **Escolha do método**: Diferentes métodos podem levar a diferentes resultados, e a escolha da técnica certa depende dos dados e do problema em questão."
      ],
      "metadata": {
        "id": "5Lzw0u_ISpqS"
      }
    },
    {
      "cell_type": "markdown",
      "source": [
        "## Scikit-Learn - Mapa de algoritmos disponíves\n",
        "\n",
        "[<img src=\"https://scikit-learn.org/1.3/_static/ml_map.png\" style=\"float: right;\">](https://scikit-learn.org/1.3/tutorial/machine_learning_map/index.html)\n"
      ],
      "metadata": {
        "id": "rwlyIP0IunYe"
      }
    },
    {
      "cell_type": "markdown",
      "source": [
        "# PCA"
      ],
      "metadata": {
        "id": "6ihAYQ5rTeGN"
      }
    },
    {
      "cell_type": "markdown",
      "source": [
        "O PCA transforma os dados em uma nova base de coordenadas chamada **componentes principais**. Cada um desses componentes principais é uma combinação linear das variáveis originais e é ordenado de acordo com a quantidade de variância que explica.\n",
        "\n",
        "A **variância explicada** por cada componente principal é uma medida da quantidade de informação dos dados originais que aquele componente retém. O primeiro componente principal explica a maior parte da variância, o segundo explica a segunda maior parte (sujeito à restrição de ser ortogonal ao primeiro), e assim por diante.\n",
        "\n",
        "\n",
        "A biblioteca ``scikit-learn`` possui a classe ``PCA`` que encapsula todos os detalhes de implementação do ``PCA``   (https://scikit-learn.org/stable/modules/generated/sklearn.decomposition.PCA.html).\n",
        "\n",
        "Após executado, o `PCA` retorna uma lista contendo a proporção da variância total dos dados originais que é explicada por cada um dos componentes principais (`explained_variance_ratio_`.).\n",
        "\n",
        "### Exemplo prático:\n",
        "\n",
        "Se tivermos um dataset com 10 variáveis, e após aplicar o PCA, os primeiros três componentes principais explicam, respectivamente, 50%, 30%, e 10% da variância, o atributo `explained_variance_ratio_` poderia ser algo assim:\n",
        "\n",
        "```python\n",
        "explained_variance_ratio_ = [0.50, 0.30, 0.10, ...]\n",
        "```\n",
        "\n",
        "Aqui, os três primeiros componentes principais explicariam 90% da variância total (0.50 + 0.30 + 0.10 = 0.90). Isso nos diz que podemos reduzir as 10 variáveis originais para 3 componentes sem perder muita informação."
      ],
      "metadata": {
        "id": "zOAwIp-PTgZ_"
      }
    },
    {
      "cell_type": "markdown",
      "source": [
        "## Exemplo neste Colab - PCA com o Wine Dataset\n",
        "\n",
        "\n",
        "Um conjunto de dados real comumente utilizado para PCA e outras tarefas de aprendizado de máquina é o **Wine Dataset** da UCI Machine Learning Repository. Ele contém análises químicas de vinhos cultivados na mesma região da Itália, mas derivados de três diferentes cultivadores.\n",
        "\n",
        "\n",
        "**[Wine Dataset - UCI Machine Learning Repository](https://archive.ics.uci.edu/ml/datasets/wine)**\n",
        "\n",
        "Este conjunto de dados possui 13 características (propriedades químicas) para 178 amostras de vinho.\n",
        "\n",
        "\n",
        "O Wine dataset é disponibilizado como um *Toy dataset* pelo scikitlearn."
      ],
      "metadata": {
        "id": "5noQFS2vUenZ"
      }
    },
    {
      "cell_type": "code",
      "metadata": {
        "id": "2TkypXAet7n2",
        "colab": {
          "base_uri": "https://localhost:8080/",
          "height": 206
        },
        "outputId": "e30c53b2-0201-4300-9372-12a0953869df",
        "cellView": "form"
      },
      "source": [
        "#@title Carregando as bibliotecas e o dataset wine\n",
        "\n",
        "from sklearn.preprocessing import StandardScaler\n",
        "from sklearn.decomposition import PCA\n",
        "from sklearn.model_selection import train_test_split\n",
        "from sklearn.datasets import load_wine\n",
        "import pandas as pd\n",
        "\n",
        "X, y = load_wine(return_X_y=True, as_frame = True);\n",
        "\n",
        "X.head()"
      ],
      "execution_count": null,
      "outputs": [
        {
          "output_type": "execute_result",
          "data": {
            "text/plain": [
              "   alcohol  malic_acid   ash  alcalinity_of_ash  magnesium  total_phenols  \\\n",
              "0    14.23        1.71  2.43               15.6      127.0           2.80   \n",
              "1    13.20        1.78  2.14               11.2      100.0           2.65   \n",
              "2    13.16        2.36  2.67               18.6      101.0           2.80   \n",
              "3    14.37        1.95  2.50               16.8      113.0           3.85   \n",
              "4    13.24        2.59  2.87               21.0      118.0           2.80   \n",
              "\n",
              "   flavanoids  nonflavanoid_phenols  proanthocyanins  color_intensity   hue  \\\n",
              "0        3.06                  0.28             2.29             5.64  1.04   \n",
              "1        2.76                  0.26             1.28             4.38  1.05   \n",
              "2        3.24                  0.30             2.81             5.68  1.03   \n",
              "3        3.49                  0.24             2.18             7.80  0.86   \n",
              "4        2.69                  0.39             1.82             4.32  1.04   \n",
              "\n",
              "   od280/od315_of_diluted_wines  proline  \n",
              "0                          3.92   1065.0  \n",
              "1                          3.40   1050.0  \n",
              "2                          3.17   1185.0  \n",
              "3                          3.45   1480.0  \n",
              "4                          2.93    735.0  "
            ],
            "text/html": [
              "\n",
              "  <div id=\"df-08e71e17-343e-4249-8e1a-18a7a7282c95\" class=\"colab-df-container\">\n",
              "    <div>\n",
              "<style scoped>\n",
              "    .dataframe tbody tr th:only-of-type {\n",
              "        vertical-align: middle;\n",
              "    }\n",
              "\n",
              "    .dataframe tbody tr th {\n",
              "        vertical-align: top;\n",
              "    }\n",
              "\n",
              "    .dataframe thead th {\n",
              "        text-align: right;\n",
              "    }\n",
              "</style>\n",
              "<table border=\"1\" class=\"dataframe\">\n",
              "  <thead>\n",
              "    <tr style=\"text-align: right;\">\n",
              "      <th></th>\n",
              "      <th>alcohol</th>\n",
              "      <th>malic_acid</th>\n",
              "      <th>ash</th>\n",
              "      <th>alcalinity_of_ash</th>\n",
              "      <th>magnesium</th>\n",
              "      <th>total_phenols</th>\n",
              "      <th>flavanoids</th>\n",
              "      <th>nonflavanoid_phenols</th>\n",
              "      <th>proanthocyanins</th>\n",
              "      <th>color_intensity</th>\n",
              "      <th>hue</th>\n",
              "      <th>od280/od315_of_diluted_wines</th>\n",
              "      <th>proline</th>\n",
              "    </tr>\n",
              "  </thead>\n",
              "  <tbody>\n",
              "    <tr>\n",
              "      <th>0</th>\n",
              "      <td>14.23</td>\n",
              "      <td>1.71</td>\n",
              "      <td>2.43</td>\n",
              "      <td>15.6</td>\n",
              "      <td>127.0</td>\n",
              "      <td>2.80</td>\n",
              "      <td>3.06</td>\n",
              "      <td>0.28</td>\n",
              "      <td>2.29</td>\n",
              "      <td>5.64</td>\n",
              "      <td>1.04</td>\n",
              "      <td>3.92</td>\n",
              "      <td>1065.0</td>\n",
              "    </tr>\n",
              "    <tr>\n",
              "      <th>1</th>\n",
              "      <td>13.20</td>\n",
              "      <td>1.78</td>\n",
              "      <td>2.14</td>\n",
              "      <td>11.2</td>\n",
              "      <td>100.0</td>\n",
              "      <td>2.65</td>\n",
              "      <td>2.76</td>\n",
              "      <td>0.26</td>\n",
              "      <td>1.28</td>\n",
              "      <td>4.38</td>\n",
              "      <td>1.05</td>\n",
              "      <td>3.40</td>\n",
              "      <td>1050.0</td>\n",
              "    </tr>\n",
              "    <tr>\n",
              "      <th>2</th>\n",
              "      <td>13.16</td>\n",
              "      <td>2.36</td>\n",
              "      <td>2.67</td>\n",
              "      <td>18.6</td>\n",
              "      <td>101.0</td>\n",
              "      <td>2.80</td>\n",
              "      <td>3.24</td>\n",
              "      <td>0.30</td>\n",
              "      <td>2.81</td>\n",
              "      <td>5.68</td>\n",
              "      <td>1.03</td>\n",
              "      <td>3.17</td>\n",
              "      <td>1185.0</td>\n",
              "    </tr>\n",
              "    <tr>\n",
              "      <th>3</th>\n",
              "      <td>14.37</td>\n",
              "      <td>1.95</td>\n",
              "      <td>2.50</td>\n",
              "      <td>16.8</td>\n",
              "      <td>113.0</td>\n",
              "      <td>3.85</td>\n",
              "      <td>3.49</td>\n",
              "      <td>0.24</td>\n",
              "      <td>2.18</td>\n",
              "      <td>7.80</td>\n",
              "      <td>0.86</td>\n",
              "      <td>3.45</td>\n",
              "      <td>1480.0</td>\n",
              "    </tr>\n",
              "    <tr>\n",
              "      <th>4</th>\n",
              "      <td>13.24</td>\n",
              "      <td>2.59</td>\n",
              "      <td>2.87</td>\n",
              "      <td>21.0</td>\n",
              "      <td>118.0</td>\n",
              "      <td>2.80</td>\n",
              "      <td>2.69</td>\n",
              "      <td>0.39</td>\n",
              "      <td>1.82</td>\n",
              "      <td>4.32</td>\n",
              "      <td>1.04</td>\n",
              "      <td>2.93</td>\n",
              "      <td>735.0</td>\n",
              "    </tr>\n",
              "  </tbody>\n",
              "</table>\n",
              "</div>\n",
              "    <div class=\"colab-df-buttons\">\n",
              "\n",
              "  <div class=\"colab-df-container\">\n",
              "    <button class=\"colab-df-convert\" onclick=\"convertToInteractive('df-08e71e17-343e-4249-8e1a-18a7a7282c95')\"\n",
              "            title=\"Convert this dataframe to an interactive table.\"\n",
              "            style=\"display:none;\">\n",
              "\n",
              "  <svg xmlns=\"http://www.w3.org/2000/svg\" height=\"24px\" viewBox=\"0 -960 960 960\">\n",
              "    <path d=\"M120-120v-720h720v720H120Zm60-500h600v-160H180v160Zm220 220h160v-160H400v160Zm0 220h160v-160H400v160ZM180-400h160v-160H180v160Zm440 0h160v-160H620v160ZM180-180h160v-160H180v160Zm440 0h160v-160H620v160Z\"/>\n",
              "  </svg>\n",
              "    </button>\n",
              "\n",
              "  <style>\n",
              "    .colab-df-container {\n",
              "      display:flex;\n",
              "      gap: 12px;\n",
              "    }\n",
              "\n",
              "    .colab-df-convert {\n",
              "      background-color: #E8F0FE;\n",
              "      border: none;\n",
              "      border-radius: 50%;\n",
              "      cursor: pointer;\n",
              "      display: none;\n",
              "      fill: #1967D2;\n",
              "      height: 32px;\n",
              "      padding: 0 0 0 0;\n",
              "      width: 32px;\n",
              "    }\n",
              "\n",
              "    .colab-df-convert:hover {\n",
              "      background-color: #E2EBFA;\n",
              "      box-shadow: 0px 1px 2px rgba(60, 64, 67, 0.3), 0px 1px 3px 1px rgba(60, 64, 67, 0.15);\n",
              "      fill: #174EA6;\n",
              "    }\n",
              "\n",
              "    .colab-df-buttons div {\n",
              "      margin-bottom: 4px;\n",
              "    }\n",
              "\n",
              "    [theme=dark] .colab-df-convert {\n",
              "      background-color: #3B4455;\n",
              "      fill: #D2E3FC;\n",
              "    }\n",
              "\n",
              "    [theme=dark] .colab-df-convert:hover {\n",
              "      background-color: #434B5C;\n",
              "      box-shadow: 0px 1px 3px 1px rgba(0, 0, 0, 0.15);\n",
              "      filter: drop-shadow(0px 1px 2px rgba(0, 0, 0, 0.3));\n",
              "      fill: #FFFFFF;\n",
              "    }\n",
              "  </style>\n",
              "\n",
              "    <script>\n",
              "      const buttonEl =\n",
              "        document.querySelector('#df-08e71e17-343e-4249-8e1a-18a7a7282c95 button.colab-df-convert');\n",
              "      buttonEl.style.display =\n",
              "        google.colab.kernel.accessAllowed ? 'block' : 'none';\n",
              "\n",
              "      async function convertToInteractive(key) {\n",
              "        const element = document.querySelector('#df-08e71e17-343e-4249-8e1a-18a7a7282c95');\n",
              "        const dataTable =\n",
              "          await google.colab.kernel.invokeFunction('convertToInteractive',\n",
              "                                                    [key], {});\n",
              "        if (!dataTable) return;\n",
              "\n",
              "        const docLinkHtml = 'Like what you see? Visit the ' +\n",
              "          '<a target=\"_blank\" href=https://colab.research.google.com/notebooks/data_table.ipynb>data table notebook</a>'\n",
              "          + ' to learn more about interactive tables.';\n",
              "        element.innerHTML = '';\n",
              "        dataTable['output_type'] = 'display_data';\n",
              "        await google.colab.output.renderOutput(dataTable, element);\n",
              "        const docLink = document.createElement('div');\n",
              "        docLink.innerHTML = docLinkHtml;\n",
              "        element.appendChild(docLink);\n",
              "      }\n",
              "    </script>\n",
              "  </div>\n",
              "\n",
              "\n",
              "<div id=\"df-18b36016-4dcc-4c31-8fa6-4e00660913a1\">\n",
              "  <button class=\"colab-df-quickchart\" onclick=\"quickchart('df-18b36016-4dcc-4c31-8fa6-4e00660913a1')\"\n",
              "            title=\"Suggest charts\"\n",
              "            style=\"display:none;\">\n",
              "\n",
              "<svg xmlns=\"http://www.w3.org/2000/svg\" height=\"24px\"viewBox=\"0 0 24 24\"\n",
              "     width=\"24px\">\n",
              "    <g>\n",
              "        <path d=\"M19 3H5c-1.1 0-2 .9-2 2v14c0 1.1.9 2 2 2h14c1.1 0 2-.9 2-2V5c0-1.1-.9-2-2-2zM9 17H7v-7h2v7zm4 0h-2V7h2v10zm4 0h-2v-4h2v4z\"/>\n",
              "    </g>\n",
              "</svg>\n",
              "  </button>\n",
              "\n",
              "<style>\n",
              "  .colab-df-quickchart {\n",
              "      --bg-color: #E8F0FE;\n",
              "      --fill-color: #1967D2;\n",
              "      --hover-bg-color: #E2EBFA;\n",
              "      --hover-fill-color: #174EA6;\n",
              "      --disabled-fill-color: #AAA;\n",
              "      --disabled-bg-color: #DDD;\n",
              "  }\n",
              "\n",
              "  [theme=dark] .colab-df-quickchart {\n",
              "      --bg-color: #3B4455;\n",
              "      --fill-color: #D2E3FC;\n",
              "      --hover-bg-color: #434B5C;\n",
              "      --hover-fill-color: #FFFFFF;\n",
              "      --disabled-bg-color: #3B4455;\n",
              "      --disabled-fill-color: #666;\n",
              "  }\n",
              "\n",
              "  .colab-df-quickchart {\n",
              "    background-color: var(--bg-color);\n",
              "    border: none;\n",
              "    border-radius: 50%;\n",
              "    cursor: pointer;\n",
              "    display: none;\n",
              "    fill: var(--fill-color);\n",
              "    height: 32px;\n",
              "    padding: 0;\n",
              "    width: 32px;\n",
              "  }\n",
              "\n",
              "  .colab-df-quickchart:hover {\n",
              "    background-color: var(--hover-bg-color);\n",
              "    box-shadow: 0 1px 2px rgba(60, 64, 67, 0.3), 0 1px 3px 1px rgba(60, 64, 67, 0.15);\n",
              "    fill: var(--button-hover-fill-color);\n",
              "  }\n",
              "\n",
              "  .colab-df-quickchart-complete:disabled,\n",
              "  .colab-df-quickchart-complete:disabled:hover {\n",
              "    background-color: var(--disabled-bg-color);\n",
              "    fill: var(--disabled-fill-color);\n",
              "    box-shadow: none;\n",
              "  }\n",
              "\n",
              "  .colab-df-spinner {\n",
              "    border: 2px solid var(--fill-color);\n",
              "    border-color: transparent;\n",
              "    border-bottom-color: var(--fill-color);\n",
              "    animation:\n",
              "      spin 1s steps(1) infinite;\n",
              "  }\n",
              "\n",
              "  @keyframes spin {\n",
              "    0% {\n",
              "      border-color: transparent;\n",
              "      border-bottom-color: var(--fill-color);\n",
              "      border-left-color: var(--fill-color);\n",
              "    }\n",
              "    20% {\n",
              "      border-color: transparent;\n",
              "      border-left-color: var(--fill-color);\n",
              "      border-top-color: var(--fill-color);\n",
              "    }\n",
              "    30% {\n",
              "      border-color: transparent;\n",
              "      border-left-color: var(--fill-color);\n",
              "      border-top-color: var(--fill-color);\n",
              "      border-right-color: var(--fill-color);\n",
              "    }\n",
              "    40% {\n",
              "      border-color: transparent;\n",
              "      border-right-color: var(--fill-color);\n",
              "      border-top-color: var(--fill-color);\n",
              "    }\n",
              "    60% {\n",
              "      border-color: transparent;\n",
              "      border-right-color: var(--fill-color);\n",
              "    }\n",
              "    80% {\n",
              "      border-color: transparent;\n",
              "      border-right-color: var(--fill-color);\n",
              "      border-bottom-color: var(--fill-color);\n",
              "    }\n",
              "    90% {\n",
              "      border-color: transparent;\n",
              "      border-bottom-color: var(--fill-color);\n",
              "    }\n",
              "  }\n",
              "</style>\n",
              "\n",
              "  <script>\n",
              "    async function quickchart(key) {\n",
              "      const quickchartButtonEl =\n",
              "        document.querySelector('#' + key + ' button');\n",
              "      quickchartButtonEl.disabled = true;  // To prevent multiple clicks.\n",
              "      quickchartButtonEl.classList.add('colab-df-spinner');\n",
              "      try {\n",
              "        const charts = await google.colab.kernel.invokeFunction(\n",
              "            'suggestCharts', [key], {});\n",
              "      } catch (error) {\n",
              "        console.error('Error during call to suggestCharts:', error);\n",
              "      }\n",
              "      quickchartButtonEl.classList.remove('colab-df-spinner');\n",
              "      quickchartButtonEl.classList.add('colab-df-quickchart-complete');\n",
              "    }\n",
              "    (() => {\n",
              "      let quickchartButtonEl =\n",
              "        document.querySelector('#df-18b36016-4dcc-4c31-8fa6-4e00660913a1 button');\n",
              "      quickchartButtonEl.style.display =\n",
              "        google.colab.kernel.accessAllowed ? 'block' : 'none';\n",
              "    })();\n",
              "  </script>\n",
              "</div>\n",
              "\n",
              "    </div>\n",
              "  </div>\n"
            ],
            "application/vnd.google.colaboratory.intrinsic+json": {
              "type": "dataframe",
              "variable_name": "X",
              "summary": "{\n  \"name\": \"X\",\n  \"rows\": 178,\n  \"fields\": [\n    {\n      \"column\": \"alcohol\",\n      \"properties\": {\n        \"dtype\": \"number\",\n        \"std\": 0.8118265380058575,\n        \"min\": 11.03,\n        \"max\": 14.83,\n        \"num_unique_values\": 126,\n        \"samples\": [\n          11.62,\n          13.64,\n          13.69\n        ],\n        \"semantic_type\": \"\",\n        \"description\": \"\"\n      }\n    },\n    {\n      \"column\": \"malic_acid\",\n      \"properties\": {\n        \"dtype\": \"number\",\n        \"std\": 1.1171460976144627,\n        \"min\": 0.74,\n        \"max\": 5.8,\n        \"num_unique_values\": 133,\n        \"samples\": [\n          1.21,\n          2.83,\n          1.8\n        ],\n        \"semantic_type\": \"\",\n        \"description\": \"\"\n      }\n    },\n    {\n      \"column\": \"ash\",\n      \"properties\": {\n        \"dtype\": \"number\",\n        \"std\": 0.27434400906081485,\n        \"min\": 1.36,\n        \"max\": 3.23,\n        \"num_unique_values\": 79,\n        \"samples\": [\n          2.31,\n          2.43,\n          2.52\n        ],\n        \"semantic_type\": \"\",\n        \"description\": \"\"\n      }\n    },\n    {\n      \"column\": \"alcalinity_of_ash\",\n      \"properties\": {\n        \"dtype\": \"number\",\n        \"std\": 3.339563767173505,\n        \"min\": 10.6,\n        \"max\": 30.0,\n        \"num_unique_values\": 63,\n        \"samples\": [\n          25.5,\n          28.5,\n          15.6\n        ],\n        \"semantic_type\": \"\",\n        \"description\": \"\"\n      }\n    },\n    {\n      \"column\": \"magnesium\",\n      \"properties\": {\n        \"dtype\": \"number\",\n        \"std\": 14.282483515295665,\n        \"min\": 70.0,\n        \"max\": 162.0,\n        \"num_unique_values\": 53,\n        \"samples\": [\n          126.0,\n          85.0,\n          162.0\n        ],\n        \"semantic_type\": \"\",\n        \"description\": \"\"\n      }\n    },\n    {\n      \"column\": \"total_phenols\",\n      \"properties\": {\n        \"dtype\": \"number\",\n        \"std\": 0.6258510488339893,\n        \"min\": 0.98,\n        \"max\": 3.88,\n        \"num_unique_values\": 97,\n        \"samples\": [\n          1.68,\n          2.11,\n          1.35\n        ],\n        \"semantic_type\": \"\",\n        \"description\": \"\"\n      }\n    },\n    {\n      \"column\": \"flavanoids\",\n      \"properties\": {\n        \"dtype\": \"number\",\n        \"std\": 0.9988586850169467,\n        \"min\": 0.34,\n        \"max\": 5.08,\n        \"num_unique_values\": 132,\n        \"samples\": [\n          3.18,\n          2.5,\n          3.17\n        ],\n        \"semantic_type\": \"\",\n        \"description\": \"\"\n      }\n    },\n    {\n      \"column\": \"nonflavanoid_phenols\",\n      \"properties\": {\n        \"dtype\": \"number\",\n        \"std\": 0.12445334029667937,\n        \"min\": 0.13,\n        \"max\": 0.66,\n        \"num_unique_values\": 39,\n        \"samples\": [\n          0.58,\n          0.41,\n          0.39\n        ],\n        \"semantic_type\": \"\",\n        \"description\": \"\"\n      }\n    },\n    {\n      \"column\": \"proanthocyanins\",\n      \"properties\": {\n        \"dtype\": \"number\",\n        \"std\": 0.5723588626747613,\n        \"min\": 0.41,\n        \"max\": 3.58,\n        \"num_unique_values\": 101,\n        \"samples\": [\n          0.75,\n          1.77,\n          1.42\n        ],\n        \"semantic_type\": \"\",\n        \"description\": \"\"\n      }\n    },\n    {\n      \"column\": \"color_intensity\",\n      \"properties\": {\n        \"dtype\": \"number\",\n        \"std\": 2.318285871822413,\n        \"min\": 1.28,\n        \"max\": 13.0,\n        \"num_unique_values\": 132,\n        \"samples\": [\n          2.95,\n          3.3,\n          5.1\n        ],\n        \"semantic_type\": \"\",\n        \"description\": \"\"\n      }\n    },\n    {\n      \"column\": \"hue\",\n      \"properties\": {\n        \"dtype\": \"number\",\n        \"std\": 0.22857156582982338,\n        \"min\": 0.48,\n        \"max\": 1.71,\n        \"num_unique_values\": 78,\n        \"samples\": [\n          1.22,\n          1.04,\n          1.45\n        ],\n        \"semantic_type\": \"\",\n        \"description\": \"\"\n      }\n    },\n    {\n      \"column\": \"od280/od315_of_diluted_wines\",\n      \"properties\": {\n        \"dtype\": \"number\",\n        \"std\": 0.7099904287650504,\n        \"min\": 1.27,\n        \"max\": 4.0,\n        \"num_unique_values\": 122,\n        \"samples\": [\n          4.0,\n          1.82,\n          1.59\n        ],\n        \"semantic_type\": \"\",\n        \"description\": \"\"\n      }\n    },\n    {\n      \"column\": \"proline\",\n      \"properties\": {\n        \"dtype\": \"number\",\n        \"std\": 314.9074742768491,\n        \"min\": 278.0,\n        \"max\": 1680.0,\n        \"num_unique_values\": 121,\n        \"samples\": [\n          1375.0,\n          1270.0,\n          735.0\n        ],\n        \"semantic_type\": \"\",\n        \"description\": \"\"\n      }\n    }\n  ]\n}"
            }
          },
          "metadata": {},
          "execution_count": 4
        }
      ]
    },
    {
      "cell_type": "markdown",
      "metadata": {
        "id": "O2IvBLP7V82C"
      },
      "source": [
        "## Reduzindo os componentes com PCA\n",
        "\n",
        "Necessário informar quantas dimensões deseja.\n",
        "\n",
        "`pca.explained_variance_ratio_`  explica a variância de cada componente"
      ]
    },
    {
      "cell_type": "code",
      "metadata": {
        "id": "YG9D2JMLTDJF",
        "colab": {
          "base_uri": "https://localhost:8080/"
        },
        "outputId": "354e4b6d-fc42-48e2-9988-5386cdfbad7f"
      },
      "source": [
        "pca = PCA(n_components = 13)\n",
        "pca.fit(X);\n",
        "pca.explained_variance_ratio_"
      ],
      "execution_count": null,
      "outputs": [
        {
          "output_type": "execute_result",
          "data": {
            "text/plain": [
              "array([9.98091230e-01, 1.73591562e-03, 9.49589576e-05, 5.02173562e-05,\n",
              "       1.23636847e-05, 8.46213034e-06, 2.80681456e-06, 1.52308053e-06,\n",
              "       1.12783044e-06, 7.21415811e-07, 3.78060267e-07, 2.12013755e-07,\n",
              "       8.25392788e-08])"
            ]
          },
          "metadata": {},
          "execution_count": 5
        }
      ]
    },
    {
      "cell_type": "code",
      "metadata": {
        "colab": {
          "base_uri": "https://localhost:8080/",
          "height": 470
        },
        "id": "nSS3a8SOUvCQ",
        "outputId": "109b9637-373e-40d4-a15c-096eade37a0e"
      },
      "source": [
        "#@title\n",
        "import matplotlib.pyplot as plt\n",
        "import numpy as np\n",
        "fig = plt.figure(figsize=(7, 5))\n",
        "plt.plot([i for i in range(1, pca.n_components + 1)], np.cumsum(pca.explained_variance_ratio_))\n",
        "plt.xlabel(r'$k$ - Número de componentes principais')\n",
        "plt.ylabel(r'$f(k)$ - Fração cumulativa da variância explicada');"
      ],
      "execution_count": null,
      "outputs": [
        {
          "output_type": "display_data",
          "data": {
            "text/plain": [
              "<Figure size 700x500 with 1 Axes>"
            ],
            "image/png": "[encoded data removed]"
          },
          "metadata": {}
        }
      ]
    },
    {
      "cell_type": "markdown",
      "source": [
        "Aparentemente,  2 dimensões explicariam 99% dos dados.\n",
        "\n",
        "Vamos reduzir para 2 componentes e plotar as classe."
      ],
      "metadata": {
        "id": "htjvmnqcXNH3"
      }
    },
    {
      "cell_type": "code",
      "metadata": {
        "id": "j-gb3YkCW7j9"
      },
      "source": [
        "pca = PCA(n_components = 2)\n",
        "X2 = pca.fit_transform(X)"
      ],
      "execution_count": null,
      "outputs": []
    },
    {
      "cell_type": "code",
      "metadata": {
        "colab": {
          "base_uri": "https://localhost:8080/",
          "height": 619
        },
        "id": "RSrHf6-TYWxE",
        "outputId": "4ec05ed8-d909-4c38-ca54-6aaeb6fcf44f"
      },
      "source": [
        "#@title\n",
        "plt.figure(figsize=(7, 7))\n",
        "for l, c, m in zip(range(0, 3), (\"blue\", \"red\", \"green\"), (\"^\", \"s\", \"o\")):\n",
        "  plt.scatter(X2[y == l, 0], X2[y == l, 1], color=c, label=\"classe %s\" % l, alpha=0.5, marker=m)\n",
        "plt.xlabel('Primeira Componente');\n",
        "plt.ylabel('Segunda Componente');\n",
        "plt.legend(loc = 'best');"
      ],
      "execution_count": null,
      "outputs": [
        {
          "output_type": "display_data",
          "data": {
            "text/plain": [
              "<Figure size 700x700 with 1 Axes>"
            ],
            "image/png": "[encoded data removed]"
          },
          "metadata": {}
        }
      ]
    },
    {
      "cell_type": "markdown",
      "source": [
        "## Normalizando os dados\n",
        "Como podemos observar,  as classes  (vermelho, verde e azul) não estão bem definidas.\n",
        "\n",
        "O que fizemos está correto.  No entanto, repare que as colunas  têm unidades de medidas diferentes. Por isso, os valores de colunas estão em ordens de grandezas diferentes.\n",
        "\n",
        "Vamos então gerar uma cópia normalizada para transformar os valores das colunas para que todas tenham a \"mesma ordem de grandeza\".\n"
      ],
      "metadata": {
        "id": "WHcpEjycY1r9"
      }
    },
    {
      "cell_type": "code",
      "metadata": {
        "colab": {
          "base_uri": "https://localhost:8080/",
          "height": 300
        },
        "id": "BHV8aXOsYeJv",
        "outputId": "132e452d-7e6e-4077-e144-f16aab3d3414"
      },
      "source": [
        "Z = X.copy()\n",
        "scaler = StandardScaler(with_mean=True, with_std=True)\n",
        "\n",
        "# Colunas de Z terão média 0 e desvio padrão 1\n",
        "Z[Z.columns] = scaler.fit_transform(Z)\n",
        "Z.describe()"
      ],
      "execution_count": null,
      "outputs": [
        {
          "output_type": "execute_result",
          "data": {
            "text/plain": [
              "            alcohol    malic_acid           ash  alcalinity_of_ash  \\\n",
              "count  1.780000e+02  1.780000e+02  1.780000e+02       1.780000e+02   \n",
              "mean  -8.382808e-16 -1.197544e-16 -8.370333e-16      -3.991813e-17   \n",
              "std    1.002821e+00  1.002821e+00  1.002821e+00       1.002821e+00   \n",
              "min   -2.434235e+00 -1.432983e+00 -3.679162e+00      -2.671018e+00   \n",
              "25%   -7.882448e-01 -6.587486e-01 -5.721225e-01      -6.891372e-01   \n",
              "50%    6.099988e-02 -4.231120e-01 -2.382132e-02       1.518295e-03   \n",
              "75%    8.361286e-01  6.697929e-01  6.981085e-01       6.020883e-01   \n",
              "max    2.259772e+00  3.109192e+00  3.156325e+00       3.154511e+00   \n",
              "\n",
              "          magnesium  total_phenols    flavanoids  nonflavanoid_phenols  \\\n",
              "count  1.780000e+02     178.000000  1.780000e+02          1.780000e+02   \n",
              "mean  -3.991813e-17       0.000000 -3.991813e-16          3.592632e-16   \n",
              "std    1.002821e+00       1.002821  1.002821e+00          1.002821e+00   \n",
              "min   -2.088255e+00      -2.107246 -1.695971e+00         -1.868234e+00   \n",
              "25%   -8.244151e-01      -0.885468 -8.275393e-01         -7.401412e-01   \n",
              "50%   -1.222817e-01       0.095960  1.061497e-01         -1.760948e-01   \n",
              "75%    5.096384e-01       0.808997  8.490851e-01          6.095413e-01   \n",
              "max    4.371372e+00       2.539515  3.062832e+00          2.402403e+00   \n",
              "\n",
              "       proanthocyanins  color_intensity           hue  \\\n",
              "count     1.780000e+02     1.780000e+02  1.780000e+02   \n",
              "mean     -1.197544e-16     2.494883e-17  1.995907e-16   \n",
              "std       1.002821e+00     1.002821e+00  1.002821e+00   \n",
              "min      -2.069034e+00    -1.634288e+00 -2.094732e+00   \n",
              "25%      -5.972835e-01    -7.951025e-01 -7.675624e-01   \n",
              "50%      -6.289785e-02    -1.592246e-01  3.312687e-02   \n",
              "75%       6.291754e-01     4.939560e-01  7.131644e-01   \n",
              "max       3.485073e+00     3.435432e+00  3.301694e+00   \n",
              "\n",
              "       od280/od315_of_diluted_wines       proline  \n",
              "count                  1.780000e+02  1.780000e+02  \n",
              "mean                   3.193450e-16 -1.596725e-16  \n",
              "std                    1.002821e+00  1.002821e+00  \n",
              "min                   -1.895054e+00 -1.493188e+00  \n",
              "25%                   -9.522483e-01 -7.846378e-01  \n",
              "50%                    2.377348e-01 -2.337204e-01  \n",
              "75%                    7.885875e-01  7.582494e-01  \n",
              "max                    1.960915e+00  2.971473e+00  "
            ],
            "text/html": [
              "\n",
              "  <div id=\"df-a68fe8f7-13ac-4146-8ad4-a7524aa9ddc3\" class=\"colab-df-container\">\n",
              "    <div>\n",
              "<style scoped>\n",
              "    .dataframe tbody tr th:only-of-type {\n",
              "        vertical-align: middle;\n",
              "    }\n",
              "\n",
              "    .dataframe tbody tr th {\n",
              "        vertical-align: top;\n",
              "    }\n",
              "\n",
              "    .dataframe thead th {\n",
              "        text-align: right;\n",
              "    }\n",
              "</style>\n",
              "<table border=\"1\" class=\"dataframe\">\n",
              "  <thead>\n",
              "    <tr style=\"text-align: right;\">\n",
              "      <th></th>\n",
              "      <th>alcohol</th>\n",
              "      <th>malic_acid</th>\n",
              "      <th>ash</th>\n",
              "      <th>alcalinity_of_ash</th>\n",
              "      <th>magnesium</th>\n",
              "      <th>total_phenols</th>\n",
              "      <th>flavanoids</th>\n",
              "      <th>nonflavanoid_phenols</th>\n",
              "      <th>proanthocyanins</th>\n",
              "      <th>color_intensity</th>\n",
              "      <th>hue</th>\n",
              "      <th>od280/od315_of_diluted_wines</th>\n",
              "      <th>proline</th>\n",
              "    </tr>\n",
              "  </thead>\n",
              "  <tbody>\n",
              "    <tr>\n",
              "      <th>count</th>\n",
              "      <td>1.780000e+02</td>\n",
              "      <td>1.780000e+02</td>\n",
              "      <td>1.780000e+02</td>\n",
              "      <td>1.780000e+02</td>\n",
              "      <td>1.780000e+02</td>\n",
              "      <td>178.000000</td>\n",
              "      <td>1.780000e+02</td>\n",
              "      <td>1.780000e+02</td>\n",
              "      <td>1.780000e+02</td>\n",
              "      <td>1.780000e+02</td>\n",
              "      <td>1.780000e+02</td>\n",
              "      <td>1.780000e+02</td>\n",
              "      <td>1.780000e+02</td>\n",
              "    </tr>\n",
              "    <tr>\n",
              "      <th>mean</th>\n",
              "      <td>-8.382808e-16</td>\n",
              "      <td>-1.197544e-16</td>\n",
              "      <td>-8.370333e-16</td>\n",
              "      <td>-3.991813e-17</td>\n",
              "      <td>-3.991813e-17</td>\n",
              "      <td>0.000000</td>\n",
              "      <td>-3.991813e-16</td>\n",
              "      <td>3.592632e-16</td>\n",
              "      <td>-1.197544e-16</td>\n",
              "      <td>2.494883e-17</td>\n",
              "      <td>1.995907e-16</td>\n",
              "      <td>3.193450e-16</td>\n",
              "      <td>-1.596725e-16</td>\n",
              "    </tr>\n",
              "    <tr>\n",
              "      <th>std</th>\n",
              "      <td>1.002821e+00</td>\n",
              "      <td>1.002821e+00</td>\n",
              "      <td>1.002821e+00</td>\n",
              "      <td>1.002821e+00</td>\n",
              "      <td>1.002821e+00</td>\n",
              "      <td>1.002821</td>\n",
              "      <td>1.002821e+00</td>\n",
              "      <td>1.002821e+00</td>\n",
              "      <td>1.002821e+00</td>\n",
              "      <td>1.002821e+00</td>\n",
              "      <td>1.002821e+00</td>\n",
              "      <td>1.002821e+00</td>\n",
              "      <td>1.002821e+00</td>\n",
              "    </tr>\n",
              "    <tr>\n",
              "      <th>min</th>\n",
              "      <td>-2.434235e+00</td>\n",
              "      <td>-1.432983e+00</td>\n",
              "      <td>-3.679162e+00</td>\n",
              "      <td>-2.671018e+00</td>\n",
              "      <td>-2.088255e+00</td>\n",
              "      <td>-2.107246</td>\n",
              "      <td>-1.695971e+00</td>\n",
              "      <td>-1.868234e+00</td>\n",
              "      <td>-2.069034e+00</td>\n",
              "      <td>-1.634288e+00</td>\n",
              "      <td>-2.094732e+00</td>\n",
              "      <td>-1.895054e+00</td>\n",
              "      <td>-1.493188e+00</td>\n",
              "    </tr>\n",
              "    <tr>\n",
              "      <th>25%</th>\n",
              "      <td>-7.882448e-01</td>\n",
              "      <td>-6.587486e-01</td>\n",
              "      <td>-5.721225e-01</td>\n",
              "      <td>-6.891372e-01</td>\n",
              "      <td>-8.244151e-01</td>\n",
              "      <td>-0.885468</td>\n",
              "      <td>-8.275393e-01</td>\n",
              "      <td>-7.401412e-01</td>\n",
              "      <td>-5.972835e-01</td>\n",
              "      <td>-7.951025e-01</td>\n",
              "      <td>-7.675624e-01</td>\n",
              "      <td>-9.522483e-01</td>\n",
              "      <td>-7.846378e-01</td>\n",
              "    </tr>\n",
              "    <tr>\n",
              "      <th>50%</th>\n",
              "      <td>6.099988e-02</td>\n",
              "      <td>-4.231120e-01</td>\n",
              "      <td>-2.382132e-02</td>\n",
              "      <td>1.518295e-03</td>\n",
              "      <td>-1.222817e-01</td>\n",
              "      <td>0.095960</td>\n",
              "      <td>1.061497e-01</td>\n",
              "      <td>-1.760948e-01</td>\n",
              "      <td>-6.289785e-02</td>\n",
              "      <td>-1.592246e-01</td>\n",
              "      <td>3.312687e-02</td>\n",
              "      <td>2.377348e-01</td>\n",
              "      <td>-2.337204e-01</td>\n",
              "    </tr>\n",
              "    <tr>\n",
              "      <th>75%</th>\n",
              "      <td>8.361286e-01</td>\n",
              "      <td>6.697929e-01</td>\n",
              "      <td>6.981085e-01</td>\n",
              "      <td>6.020883e-01</td>\n",
              "      <td>5.096384e-01</td>\n",
              "      <td>0.808997</td>\n",
              "      <td>8.490851e-01</td>\n",
              "      <td>6.095413e-01</td>\n",
              "      <td>6.291754e-01</td>\n",
              "      <td>4.939560e-01</td>\n",
              "      <td>7.131644e-01</td>\n",
              "      <td>7.885875e-01</td>\n",
              "      <td>7.582494e-01</td>\n",
              "    </tr>\n",
              "    <tr>\n",
              "      <th>max</th>\n",
              "      <td>2.259772e+00</td>\n",
              "      <td>3.109192e+00</td>\n",
              "      <td>3.156325e+00</td>\n",
              "      <td>3.154511e+00</td>\n",
              "      <td>4.371372e+00</td>\n",
              "      <td>2.539515</td>\n",
              "      <td>3.062832e+00</td>\n",
              "      <td>2.402403e+00</td>\n",
              "      <td>3.485073e+00</td>\n",
              "      <td>3.435432e+00</td>\n",
              "      <td>3.301694e+00</td>\n",
              "      <td>1.960915e+00</td>\n",
              "      <td>2.971473e+00</td>\n",
              "    </tr>\n",
              "  </tbody>\n",
              "</table>\n",
              "</div>\n",
              "    <div class=\"colab-df-buttons\">\n",
              "\n",
              "  <div class=\"colab-df-container\">\n",
              "    <button class=\"colab-df-convert\" onclick=\"convertToInteractive('df-a68fe8f7-13ac-4146-8ad4-a7524aa9ddc3')\"\n",
              "            title=\"Convert this dataframe to an interactive table.\"\n",
              "            style=\"display:none;\">\n",
              "\n",
              "  <svg xmlns=\"http://www.w3.org/2000/svg\" height=\"24px\" viewBox=\"0 -960 960 960\">\n",
              "    <path d=\"M120-120v-720h720v720H120Zm60-500h600v-160H180v160Zm220 220h160v-160H400v160Zm0 220h160v-160H400v160ZM180-400h160v-160H180v160Zm440 0h160v-160H620v160ZM180-180h160v-160H180v160Zm440 0h160v-160H620v160Z\"/>\n",
              "  </svg>\n",
              "    </button>\n",
              "\n",
              "  <style>\n",
              "    .colab-df-container {\n",
              "      display:flex;\n",
              "      gap: 12px;\n",
              "    }\n",
              "\n",
              "    .colab-df-convert {\n",
              "      background-color: #E8F0FE;\n",
              "      border: none;\n",
              "      border-radius: 50%;\n",
              "      cursor: pointer;\n",
              "      display: none;\n",
              "      fill: #1967D2;\n",
              "      height: 32px;\n",
              "      padding: 0 0 0 0;\n",
              "      width: 32px;\n",
              "    }\n",
              "\n",
              "    .colab-df-convert:hover {\n",
              "      background-color: #E2EBFA;\n",
              "      box-shadow: 0px 1px 2px rgba(60, 64, 67, 0.3), 0px 1px 3px 1px rgba(60, 64, 67, 0.15);\n",
              "      fill: #174EA6;\n",
              "    }\n",
              "\n",
              "    .colab-df-buttons div {\n",
              "      margin-bottom: 4px;\n",
              "    }\n",
              "\n",
              "    [theme=dark] .colab-df-convert {\n",
              "      background-color: #3B4455;\n",
              "      fill: #D2E3FC;\n",
              "    }\n",
              "\n",
              "    [theme=dark] .colab-df-convert:hover {\n",
              "      background-color: #434B5C;\n",
              "      box-shadow: 0px 1px 3px 1px rgba(0, 0, 0, 0.15);\n",
              "      filter: drop-shadow(0px 1px 2px rgba(0, 0, 0, 0.3));\n",
              "      fill: #FFFFFF;\n",
              "    }\n",
              "  </style>\n",
              "\n",
              "    <script>\n",
              "      const buttonEl =\n",
              "        document.querySelector('#df-a68fe8f7-13ac-4146-8ad4-a7524aa9ddc3 button.colab-df-convert');\n",
              "      buttonEl.style.display =\n",
              "        google.colab.kernel.accessAllowed ? 'block' : 'none';\n",
              "\n",
              "      async function convertToInteractive(key) {\n",
              "        const element = document.querySelector('#df-a68fe8f7-13ac-4146-8ad4-a7524aa9ddc3');\n",
              "        const dataTable =\n",
              "          await google.colab.kernel.invokeFunction('convertToInteractive',\n",
              "                                                    [key], {});\n",
              "        if (!dataTable) return;\n",
              "\n",
              "        const docLinkHtml = 'Like what you see? Visit the ' +\n",
              "          '<a target=\"_blank\" href=https://colab.research.google.com/notebooks/data_table.ipynb>data table notebook</a>'\n",
              "          + ' to learn more about interactive tables.';\n",
              "        element.innerHTML = '';\n",
              "        dataTable['output_type'] = 'display_data';\n",
              "        await google.colab.output.renderOutput(dataTable, element);\n",
              "        const docLink = document.createElement('div');\n",
              "        docLink.innerHTML = docLinkHtml;\n",
              "        element.appendChild(docLink);\n",
              "      }\n",
              "    </script>\n",
              "  </div>\n",
              "\n",
              "\n",
              "<div id=\"df-0f92df22-b5b4-4b74-a5c4-a01291449f1c\">\n",
              "  <button class=\"colab-df-quickchart\" onclick=\"quickchart('df-0f92df22-b5b4-4b74-a5c4-a01291449f1c')\"\n",
              "            title=\"Suggest charts\"\n",
              "            style=\"display:none;\">\n",
              "\n",
              "<svg xmlns=\"http://www.w3.org/2000/svg\" height=\"24px\"viewBox=\"0 0 24 24\"\n",
              "     width=\"24px\">\n",
              "    <g>\n",
              "        <path d=\"M19 3H5c-1.1 0-2 .9-2 2v14c0 1.1.9 2 2 2h14c1.1 0 2-.9 2-2V5c0-1.1-.9-2-2-2zM9 17H7v-7h2v7zm4 0h-2V7h2v10zm4 0h-2v-4h2v4z\"/>\n",
              "    </g>\n",
              "</svg>\n",
              "  </button>\n",
              "\n",
              "<style>\n",
              "  .colab-df-quickchart {\n",
              "      --bg-color: #E8F0FE;\n",
              "      --fill-color: #1967D2;\n",
              "      --hover-bg-color: #E2EBFA;\n",
              "      --hover-fill-color: #174EA6;\n",
              "      --disabled-fill-color: #AAA;\n",
              "      --disabled-bg-color: #DDD;\n",
              "  }\n",
              "\n",
              "  [theme=dark] .colab-df-quickchart {\n",
              "      --bg-color: #3B4455;\n",
              "      --fill-color: #D2E3FC;\n",
              "      --hover-bg-color: #434B5C;\n",
              "      --hover-fill-color: #FFFFFF;\n",
              "      --disabled-bg-color: #3B4455;\n",
              "      --disabled-fill-color: #666;\n",
              "  }\n",
              "\n",
              "  .colab-df-quickchart {\n",
              "    background-color: var(--bg-color);\n",
              "    border: none;\n",
              "    border-radius: 50%;\n",
              "    cursor: pointer;\n",
              "    display: none;\n",
              "    fill: var(--fill-color);\n",
              "    height: 32px;\n",
              "    padding: 0;\n",
              "    width: 32px;\n",
              "  }\n",
              "\n",
              "  .colab-df-quickchart:hover {\n",
              "    background-color: var(--hover-bg-color);\n",
              "    box-shadow: 0 1px 2px rgba(60, 64, 67, 0.3), 0 1px 3px 1px rgba(60, 64, 67, 0.15);\n",
              "    fill: var(--button-hover-fill-color);\n",
              "  }\n",
              "\n",
              "  .colab-df-quickchart-complete:disabled,\n",
              "  .colab-df-quickchart-complete:disabled:hover {\n",
              "    background-color: var(--disabled-bg-color);\n",
              "    fill: var(--disabled-fill-color);\n",
              "    box-shadow: none;\n",
              "  }\n",
              "\n",
              "  .colab-df-spinner {\n",
              "    border: 2px solid var(--fill-color);\n",
              "    border-color: transparent;\n",
              "    border-bottom-color: var(--fill-color);\n",
              "    animation:\n",
              "      spin 1s steps(1) infinite;\n",
              "  }\n",
              "\n",
              "  @keyframes spin {\n",
              "    0% {\n",
              "      border-color: transparent;\n",
              "      border-bottom-color: var(--fill-color);\n",
              "      border-left-color: var(--fill-color);\n",
              "    }\n",
              "    20% {\n",
              "      border-color: transparent;\n",
              "      border-left-color: var(--fill-color);\n",
              "      border-top-color: var(--fill-color);\n",
              "    }\n",
              "    30% {\n",
              "      border-color: transparent;\n",
              "      border-left-color: var(--fill-color);\n",
              "      border-top-color: var(--fill-color);\n",
              "      border-right-color: var(--fill-color);\n",
              "    }\n",
              "    40% {\n",
              "      border-color: transparent;\n",
              "      border-right-color: var(--fill-color);\n",
              "      border-top-color: var(--fill-color);\n",
              "    }\n",
              "    60% {\n",
              "      border-color: transparent;\n",
              "      border-right-color: var(--fill-color);\n",
              "    }\n",
              "    80% {\n",
              "      border-color: transparent;\n",
              "      border-right-color: var(--fill-color);\n",
              "      border-bottom-color: var(--fill-color);\n",
              "    }\n",
              "    90% {\n",
              "      border-color: transparent;\n",
              "      border-bottom-color: var(--fill-color);\n",
              "    }\n",
              "  }\n",
              "</style>\n",
              "\n",
              "  <script>\n",
              "    async function quickchart(key) {\n",
              "      const quickchartButtonEl =\n",
              "        document.querySelector('#' + key + ' button');\n",
              "      quickchartButtonEl.disabled = true;  // To prevent multiple clicks.\n",
              "      quickchartButtonEl.classList.add('colab-df-spinner');\n",
              "      try {\n",
              "        const charts = await google.colab.kernel.invokeFunction(\n",
              "            'suggestCharts', [key], {});\n",
              "      } catch (error) {\n",
              "        console.error('Error during call to suggestCharts:', error);\n",
              "      }\n",
              "      quickchartButtonEl.classList.remove('colab-df-spinner');\n",
              "      quickchartButtonEl.classList.add('colab-df-quickchart-complete');\n",
              "    }\n",
              "    (() => {\n",
              "      let quickchartButtonEl =\n",
              "        document.querySelector('#df-0f92df22-b5b4-4b74-a5c4-a01291449f1c button');\n",
              "      quickchartButtonEl.style.display =\n",
              "        google.colab.kernel.accessAllowed ? 'block' : 'none';\n",
              "    })();\n",
              "  </script>\n",
              "</div>\n",
              "\n",
              "    </div>\n",
              "  </div>\n"
            ],
            "application/vnd.google.colaboratory.intrinsic+json": {
              "type": "dataframe",
              "summary": "{\n  \"name\": \"Z\",\n  \"rows\": 8,\n  \"fields\": [\n    {\n      \"column\": \"alcohol\",\n      \"properties\": {\n        \"dtype\": \"number\",\n        \"std\": 62.90019857165794,\n        \"min\": -2.4342353470856977,\n        \"max\": 178.0,\n        \"num_unique_values\": 8,\n        \"samples\": [\n          -8.382807556720283e-16,\n          0.060999882261548254,\n          178.0\n        ],\n        \"semantic_type\": \"\",\n        \"description\": \"\"\n      }\n    },\n    {\n      \"column\": \"malic_acid\",\n      \"properties\": {\n        \"dtype\": \"number\",\n        \"std\": 62.832845754936514,\n        \"min\": -1.4329830495567168,\n        \"max\": 178.0,\n        \"num_unique_values\": 8,\n        \"samples\": [\n          -1.197543936674326e-16,\n          -0.42311201076124766,\n          178.0\n        ],\n        \"semantic_type\": \"\",\n        \"description\": \"\"\n      }\n    },\n    {\n      \"column\": \"ash\",\n      \"properties\": {\n        \"dtype\": \"number\",\n        \"std\": 62.931790222285315,\n        \"min\": -3.6791622340370105,\n        \"max\": 178.0,\n        \"num_unique_values\": 8,\n        \"samples\": [\n          -8.370333140713259e-16,\n          -0.023821322792381975,\n          178.0\n        ],\n        \"semantic_type\": \"\",\n        \"description\": \"\"\n      }\n    },\n    {\n      \"column\": \"alcalinity_of_ash\",\n      \"properties\": {\n        \"dtype\": \"number\",\n        \"std\": 62.88293913234557,\n        \"min\": -2.6710181364687173,\n        \"max\": 178.0,\n        \"num_unique_values\": 8,\n        \"samples\": [\n          -3.991813122247754e-17,\n          0.00151829490483276,\n          178.0\n        ],\n        \"semantic_type\": \"\",\n        \"description\": \"\"\n      }\n    },\n    {\n      \"column\": \"magnesium\",\n      \"properties\": {\n        \"dtype\": \"number\",\n        \"std\": 62.81621724885315,\n        \"min\": -2.0882551982316313,\n        \"max\": 178.0,\n        \"num_unique_values\": 8,\n        \"samples\": [\n          -3.991813122247754e-17,\n          -0.12228166064446655,\n          178.0\n        ],\n        \"semantic_type\": \"\",\n        \"description\": \"\"\n      }\n    },\n    {\n      \"column\": \"total_phenols\",\n      \"properties\": {\n        \"dtype\": \"number\",\n        \"std\": 62.87385302206317,\n        \"min\": -2.107246023249296,\n        \"max\": 178.0,\n        \"num_unique_values\": 8,\n        \"samples\": [\n          0.0,\n          0.09595985564457041,\n          178.0\n        ],\n        \"semantic_type\": \"\",\n        \"description\": \"\"\n      }\n    },\n    {\n      \"column\": \"flavanoids\",\n      \"properties\": {\n        \"dtype\": \"number\",\n        \"std\": 62.822046883060246,\n        \"min\": -1.6959705266274119,\n        \"max\": 178.0,\n        \"num_unique_values\": 8,\n        \"samples\": [\n          -3.9918131222477537e-16,\n          0.10614973996849836,\n          178.0\n        ],\n        \"semantic_type\": \"\",\n        \"description\": \"\"\n      }\n    },\n    {\n      \"column\": \"nonflavanoid_phenols\",\n      \"properties\": {\n        \"dtype\": \"number\",\n        \"std\": 62.882862185792966,\n        \"min\": -1.8682340238414565,\n        \"max\": 178.0,\n        \"num_unique_values\": 8,\n        \"samples\": [\n          3.5926318100229784e-16,\n          -0.17609475049050752,\n          178.0\n        ],\n        \"semantic_type\": \"\",\n        \"description\": \"\"\n      }\n    },\n    {\n      \"column\": \"proanthocyanins\",\n      \"properties\": {\n        \"dtype\": \"number\",\n        \"std\": 62.8316533614459,\n        \"min\": -2.0690341807257084,\n        \"max\": 178.0,\n        \"num_unique_values\": 8,\n        \"samples\": [\n          -1.197543936674326e-16,\n          -0.0628978516405199,\n          178.0\n        ],\n        \"semantic_type\": \"\",\n        \"description\": \"\"\n      }\n    },\n    {\n      \"column\": \"color_intensity\",\n      \"properties\": {\n        \"dtype\": \"number\",\n        \"std\": 62.83186613292978,\n        \"min\": -1.634288275894709,\n        \"max\": 178.0,\n        \"num_unique_values\": 8,\n        \"samples\": [\n          2.494883201404846e-17,\n          -0.15922463399488132,\n          178.0\n        ],\n        \"semantic_type\": \"\",\n        \"description\": \"\"\n      }\n    },\n    {\n      \"column\": \"hue\",\n      \"properties\": {\n        \"dtype\": \"number\",\n        \"std\": 62.84096267786177,\n        \"min\": -2.0947324050170844,\n        \"max\": 178.0,\n        \"num_unique_values\": 8,\n        \"samples\": [\n          1.9959065611238769e-16,\n          0.03312687210061617,\n          178.0\n        ],\n        \"semantic_type\": \"\",\n        \"description\": \"\"\n      }\n    },\n    {\n      \"column\": \"od280/od315_of_diluted_wines\",\n      \"properties\": {\n        \"dtype\": \"number\",\n        \"std\": 62.88596409218731,\n        \"min\": -1.8950538941648851,\n        \"max\": 178.0,\n        \"num_unique_values\": 8,\n        \"samples\": [\n          3.193450497798203e-16,\n          0.2377347570102168,\n          178.0\n        ],\n        \"semantic_type\": \"\",\n        \"description\": \"\"\n      }\n    },\n    {\n      \"column\": \"proline\",\n      \"properties\": {\n        \"dtype\": \"number\",\n        \"std\": 62.83465735989049,\n        \"min\": -1.493187645535251,\n        \"max\": 178.0,\n        \"num_unique_values\": 8,\n        \"samples\": [\n          -1.5967252488991015e-16,\n          -0.23372037191656814,\n          178.0\n        ],\n        \"semantic_type\": \"\",\n        \"description\": \"\"\n      }\n    }\n  ]\n}"
            }
          },
          "metadata": {},
          "execution_count": 9
        }
      ]
    },
    {
      "cell_type": "markdown",
      "source": [],
      "metadata": {
        "id": "SPN4KtiVU9VF"
      }
    },
    {
      "cell_type": "code",
      "metadata": {
        "id": "v1rlBve0YeJ4",
        "colab": {
          "base_uri": "https://localhost:8080/"
        },
        "outputId": "865d580c-66a8-4799-ccae-5852077f1766"
      },
      "source": [
        "pca = PCA(n_components =2)\n",
        "pca.fit(Z.values);\n",
        "pca.explained_variance_ratio_"
      ],
      "execution_count": null,
      "outputs": [
        {
          "output_type": "execute_result",
          "data": {
            "text/plain": [
              "array([0.36198848, 0.1920749 ])"
            ]
          },
          "metadata": {},
          "execution_count": 63
        }
      ]
    },
    {
      "cell_type": "code",
      "metadata": {
        "colab": {
          "base_uri": "https://localhost:8080/",
          "height": 470
        },
        "cellView": "form",
        "id": "7gGZrEfwYeJ5",
        "outputId": "3cb9c559-d784-4590-f7be-24eaffdede45"
      },
      "source": [
        "#@title\n",
        "fig = plt.figure(figsize=(7, 5))\n",
        "plt.plot([i for i in range(1, pca.n_components + 1)], np.cumsum(pca.explained_variance_ratio_))\n",
        "plt.xlabel(r'$k$ - Número de componentes principais')\n",
        "plt.ylabel(r'$f(k)$ - Fração cumulativa da variância explicada');"
      ],
      "execution_count": null,
      "outputs": [
        {
          "output_type": "display_data",
          "data": {
            "text/plain": [
              "<Figure size 700x500 with 1 Axes>"
            ],
            "image/png": "[encoded data removed]"
          },
          "metadata": {}
        }
      ]
    },
    {
      "cell_type": "markdown",
      "source": [
        "### Redefindo o número de componentes\n"
      ],
      "metadata": {
        "id": "TefPz192VbUq"
      }
    },
    {
      "cell_type": "code",
      "metadata": {
        "id": "fvG1-IBfYeJ5"
      },
      "source": [
        "pca = PCA(n_components = 2)\n",
        "X2 = pca.fit_transform(Z)"
      ],
      "execution_count": null,
      "outputs": []
    },
    {
      "cell_type": "code",
      "metadata": {
        "colab": {
          "base_uri": "https://localhost:8080/",
          "height": 619
        },
        "id": "q8WAUy3QZpLZ",
        "outputId": "252efc9c-6d36-4fc9-abd1-b8c1aeee7b07",
        "cellView": "form"
      },
      "source": [
        "#@title Plotando o resultado\n",
        "plt.figure(figsize=(7, 7))\n",
        "\n",
        "for l, c, m in zip(range(0, 3), (\"blue\", \"red\", \"green\"), (\"^\", \"s\", \"o\")):\n",
        "  plt.scatter(X2[y == l, 0], X2[y == l, 1], color=c, label=\"classe %s\" % l, alpha=0.5, marker=m)\n",
        "\n",
        "plt.xlabel('Primeira Componente');\n",
        "plt.ylabel('Segunda Componente');\n",
        "plt.legend(loc = 'best');"
      ],
      "execution_count": null,
      "outputs": [
        {
          "output_type": "display_data",
          "data": {
            "text/plain": [
              "<Figure size 700x700 with 1 Axes>"
            ],
            "image/png": "[encoded data removed]"
          },
          "metadata": {}
        }
      ]
    },
    {
      "cell_type": "markdown",
      "source": [
        "Agora temos um resultado que usando apenas 2 componentes consegue distinguir e fazer uma melhor separação das classes de vinho.\n"
      ],
      "metadata": {
        "id": "1HuD3XIBaRtw"
      }
    },
    {
      "cell_type": "markdown",
      "source": [
        "## Efeitos da escala dos atributos no PCA\n",
        "\n",
        "Se um atributo varia mais do que  outros somente por causa de suas respectivas escalas, o PCA determinaria que tal atributo domina a direção dos componentes principais.\n",
        "\n",
        "Podemos inspecionar os primeiros componentes principais usando os atributos originais:"
      ],
      "metadata": {
        "id": "7WHt-B2sbHhr"
      }
    },
    {
      "cell_type": "code",
      "source": [
        "#@title sem normalizar vs normalizando os atributos\n",
        "pca = PCA(n_components=2).fit(X)\n",
        "scaled_pca = PCA(n_components=2).fit(Z)\n",
        "X_train_transformed = pca.transform(X)\n",
        "X_train_std_transformed = scaled_pca.transform(Z)\n",
        "\n",
        "first_pca_component = pd.DataFrame(\n",
        "    pca.components_[0], index=X.columns, columns=[\"Sem normalizar a escala\"]\n",
        ")\n",
        "first_pca_component[\"Normalizando\"] = scaled_pca.components_[0]\n",
        "first_pca_component.plot.bar(\n",
        "    title=\"Peso de cada atributo no primeiro componente principal\", figsize=(6, 8)\n",
        ")\n",
        "\n",
        "_ = plt.tight_layout()"
      ],
      "metadata": {
        "colab": {
          "base_uri": "https://localhost:8080/",
          "height": 807
        },
        "cellView": "form",
        "id": "WF4Uw5p5bY6T",
        "outputId": "a214ab2c-9144-453d-ff0b-76c49d9a0989"
      },
      "execution_count": null,
      "outputs": [
        {
          "output_type": "display_data",
          "data": {
            "text/plain": [
              "<Figure size 600x800 with 1 Axes>"
            ],
            "image/png": "[encoded data removed]"
          },
          "metadata": {}
        }
      ]
    },
    {
      "cell_type": "markdown",
      "source": [
        "# Impacto na acurácia na escala dos componentes principais\n"
      ],
      "metadata": {
        "id": "6cFxoIet7HU9"
      }
    },
    {
      "cell_type": "code",
      "execution_count": null,
      "metadata": {
        "id": "b2ILE8A04M7H"
      },
      "outputs": [],
      "source": [
        "#@title Separando em treino e teste\n",
        "from sklearn.model_selection import train_test_split\n",
        "\n",
        "X_train, X_test, y_train, y_test = train_test_split(\n",
        "    X, y, test_size=0.30, random_state=42\n",
        ")"
      ]
    },
    {
      "cell_type": "code",
      "source": [
        "#@title  cria um modelo de regressão logística\n",
        "import numpy as np\n",
        "\n",
        "from sklearn.linear_model import LogisticRegressionCV\n",
        "from sklearn.linear_model import LinearRegression\n",
        "from sklearn.pipeline import make_pipeline\n",
        "\n",
        "Cs = np.logspace(-5, 5, 20)\n",
        "\n",
        "unscaled_clf = make_pipeline(pca, LogisticRegressionCV(Cs=Cs))\n",
        "unscaled_clf.fit(X_train, y_train)\n",
        "\n",
        "scaled_clf = make_pipeline(scaler, pca, LogisticRegressionCV(Cs=Cs))\n",
        "scaled_clf.fit(X_train, y_train)"
      ],
      "metadata": {
        "colab": {
          "base_uri": "https://localhost:8080/",
          "height": 162
        },
        "id": "1FBeBBIceWju",
        "outputId": "914af695-3a6c-4195-b53d-facfc6431b8c"
      },
      "execution_count": null,
      "outputs": [
        {
          "output_type": "execute_result",
          "data": {
            "text/plain": [
              "Pipeline(steps=[('standardscaler', StandardScaler()),\n",
              "                ('pca', PCA(n_components=2)),\n",
              "                ('logisticregressioncv',\n",
              "                 LogisticRegressionCV(Cs=array([1.00000000e-05, 3.35981829e-05, 1.12883789e-04, 3.79269019e-04,\n",
              "       1.27427499e-03, 4.28133240e-03, 1.43844989e-02, 4.83293024e-02,\n",
              "       1.62377674e-01, 5.45559478e-01, 1.83298071e+00, 6.15848211e+00,\n",
              "       2.06913808e+01, 6.95192796e+01, 2.33572147e+02, 7.84759970e+02,\n",
              "       2.63665090e+03, 8.85866790e+03, 2.97635144e+04, 1.00000000e+05])))])"
            ],
            "text/html": [
              "<style>#sk-container-id-8 {color: black;}#sk-container-id-8 pre{padding: 0;}#sk-container-id-8 div.sk-toggleable {background-color: white;}#sk-container-id-8 label.sk-toggleable__label {cursor: pointer;display: block;width: 100%;margin-bottom: 0;padding: 0.3em;box-sizing: border-box;text-align: center;}#sk-container-id-8 label.sk-toggleable__label-arrow:before {content: \"▸\";float: left;margin-right: 0.25em;color: #696969;}#sk-container-id-8 label.sk-toggleable__label-arrow:hover:before {color: black;}#sk-container-id-8 div.sk-estimator:hover label.sk-toggleable__label-arrow:before {color: black;}#sk-container-id-8 div.sk-toggleable__content {max-height: 0;max-width: 0;overflow: hidden;text-align: left;background-color: #f0f8ff;}#sk-container-id-8 div.sk-toggleable__content pre {margin: 0.2em;color: black;border-radius: 0.25em;background-color: #f0f8ff;}#sk-container-id-8 input.sk-toggleable__control:checked~div.sk-toggleable__content {max-height: 200px;max-width: 100%;overflow: auto;}#sk-container-id-8 input.sk-toggleable__control:checked~label.sk-toggleable__label-arrow:before {content: \"▾\";}#sk-container-id-8 div.sk-estimator input.sk-toggleable__control:checked~label.sk-toggleable__label {background-color: #d4ebff;}#sk-container-id-8 div.sk-label input.sk-toggleable__control:checked~label.sk-toggleable__label {background-color: #d4ebff;}#sk-container-id-8 input.sk-hidden--visually {border: 0;clip: rect(1px 1px 1px 1px);clip: rect(1px, 1px, 1px, 1px);height: 1px;margin: -1px;overflow: hidden;padding: 0;position: absolute;width: 1px;}#sk-container-id-8 div.sk-estimator {font-family: monospace;background-color: #f0f8ff;border: 1px dotted black;border-radius: 0.25em;box-sizing: border-box;margin-bottom: 0.5em;}#sk-container-id-8 div.sk-estimator:hover {background-color: #d4ebff;}#sk-container-id-8 div.sk-parallel-item::after {content: \"\";width: 100%;border-bottom: 1px solid gray;flex-grow: 1;}#sk-container-id-8 div.sk-label:hover label.sk-toggleable__label {background-color: #d4ebff;}#sk-container-id-8 div.sk-serial::before {content: \"\";position: absolute;border-left: 1px solid gray;box-sizing: border-box;top: 0;bottom: 0;left: 50%;z-index: 0;}#sk-container-id-8 div.sk-serial {display: flex;flex-direction: column;align-items: center;background-color: white;padding-right: 0.2em;padding-left: 0.2em;position: relative;}#sk-container-id-8 div.sk-item {position: relative;z-index: 1;}#sk-container-id-8 div.sk-parallel {display: flex;align-items: stretch;justify-content: center;background-color: white;position: relative;}#sk-container-id-8 div.sk-item::before, #sk-container-id-8 div.sk-parallel-item::before {content: \"\";position: absolute;border-left: 1px solid gray;box-sizing: border-box;top: 0;bottom: 0;left: 50%;z-index: -1;}#sk-container-id-8 div.sk-parallel-item {display: flex;flex-direction: column;z-index: 1;position: relative;background-color: white;}#sk-container-id-8 div.sk-parallel-item:first-child::after {align-self: flex-end;width: 50%;}#sk-container-id-8 div.sk-parallel-item:last-child::after {align-self: flex-start;width: 50%;}#sk-container-id-8 div.sk-parallel-item:only-child::after {width: 0;}#sk-container-id-8 div.sk-dashed-wrapped {border: 1px dashed gray;margin: 0 0.4em 0.5em 0.4em;box-sizing: border-box;padding-bottom: 0.4em;background-color: white;}#sk-container-id-8 div.sk-label label {font-family: monospace;font-weight: bold;display: inline-block;line-height: 1.2em;}#sk-container-id-8 div.sk-label-container {text-align: center;}#sk-container-id-8 div.sk-container {/* jupyter's `normalize.less` sets `[hidden] { display: none; }` but bootstrap.min.css set `[hidden] { display: none !important; }` so we also need the `!important` here to be able to override the default hidden behavior on the sphinx rendered scikit-learn.org. See: https://github.com/scikit-learn/scikit-learn/issues/21755 */display: inline-block !important;position: relative;}#sk-container-id-8 div.sk-text-repr-fallback {display: none;}</style><div id=\"sk-container-id-8\" class=\"sk-top-container\"><div class=\"sk-text-repr-fallback\"><pre>Pipeline(steps=[(&#x27;standardscaler&#x27;, StandardScaler()),\n",
              "                (&#x27;pca&#x27;, PCA(n_components=2)),\n",
              "                (&#x27;logisticregressioncv&#x27;,\n",
              "                 LogisticRegressionCV(Cs=array([1.00000000e-05, 3.35981829e-05, 1.12883789e-04, 3.79269019e-04,\n",
              "       1.27427499e-03, 4.28133240e-03, 1.43844989e-02, 4.83293024e-02,\n",
              "       1.62377674e-01, 5.45559478e-01, 1.83298071e+00, 6.15848211e+00,\n",
              "       2.06913808e+01, 6.95192796e+01, 2.33572147e+02, 7.84759970e+02,\n",
              "       2.63665090e+03, 8.85866790e+03, 2.97635144e+04, 1.00000000e+05])))])</pre><b>In a Jupyter environment, please rerun this cell to show the HTML representation or trust the notebook. <br />On GitHub, the HTML representation is unable to render, please try loading this page with nbviewer.org.</b></div><div class=\"sk-container\" hidden><div class=\"sk-item sk-dashed-wrapped\"><div class=\"sk-label-container\"><div class=\"sk-label sk-toggleable\"><input class=\"sk-toggleable__control sk-hidden--visually\" id=\"sk-estimator-id-29\" type=\"checkbox\" ><label for=\"sk-estimator-id-29\" class=\"sk-toggleable__label sk-toggleable__label-arrow\">Pipeline</label><div class=\"sk-toggleable__content\"><pre>Pipeline(steps=[(&#x27;standardscaler&#x27;, StandardScaler()),\n",
              "                (&#x27;pca&#x27;, PCA(n_components=2)),\n",
              "                (&#x27;logisticregressioncv&#x27;,\n",
              "                 LogisticRegressionCV(Cs=array([1.00000000e-05, 3.35981829e-05, 1.12883789e-04, 3.79269019e-04,\n",
              "       1.27427499e-03, 4.28133240e-03, 1.43844989e-02, 4.83293024e-02,\n",
              "       1.62377674e-01, 5.45559478e-01, 1.83298071e+00, 6.15848211e+00,\n",
              "       2.06913808e+01, 6.95192796e+01, 2.33572147e+02, 7.84759970e+02,\n",
              "       2.63665090e+03, 8.85866790e+03, 2.97635144e+04, 1.00000000e+05])))])</pre></div></div></div><div class=\"sk-serial\"><div class=\"sk-item\"><div class=\"sk-estimator sk-toggleable\"><input class=\"sk-toggleable__control sk-hidden--visually\" id=\"sk-estimator-id-30\" type=\"checkbox\" ><label for=\"sk-estimator-id-30\" class=\"sk-toggleable__label sk-toggleable__label-arrow\">StandardScaler</label><div class=\"sk-toggleable__content\"><pre>StandardScaler()</pre></div></div></div><div class=\"sk-item\"><div class=\"sk-estimator sk-toggleable\"><input class=\"sk-toggleable__control sk-hidden--visually\" id=\"sk-estimator-id-31\" type=\"checkbox\" ><label for=\"sk-estimator-id-31\" class=\"sk-toggleable__label sk-toggleable__label-arrow\">PCA</label><div class=\"sk-toggleable__content\"><pre>PCA(n_components=2)</pre></div></div></div><div class=\"sk-item\"><div class=\"sk-estimator sk-toggleable\"><input class=\"sk-toggleable__control sk-hidden--visually\" id=\"sk-estimator-id-32\" type=\"checkbox\" ><label for=\"sk-estimator-id-32\" class=\"sk-toggleable__label sk-toggleable__label-arrow\">LogisticRegressionCV</label><div class=\"sk-toggleable__content\"><pre>LogisticRegressionCV(Cs=array([1.00000000e-05, 3.35981829e-05, 1.12883789e-04, 3.79269019e-04,\n",
              "       1.27427499e-03, 4.28133240e-03, 1.43844989e-02, 4.83293024e-02,\n",
              "       1.62377674e-01, 5.45559478e-01, 1.83298071e+00, 6.15848211e+00,\n",
              "       2.06913808e+01, 6.95192796e+01, 2.33572147e+02, 7.84759970e+02,\n",
              "       2.63665090e+03, 8.85866790e+03, 2.97635144e+04, 1.00000000e+05]))</pre></div></div></div></div></div></div></div>"
            ]
          },
          "metadata": {},
          "execution_count": 60
        }
      ]
    },
    {
      "cell_type": "code",
      "source": [
        "from sklearn.metrics import accuracy_score, log_loss\n",
        "\n",
        "y_pred = unscaled_clf.predict(X_test)\n",
        "y_pred_scaled = scaled_clf.predict(X_test)\n",
        "y_proba = unscaled_clf.predict_proba(X_test)\n",
        "y_proba_scaled = scaled_clf.predict_proba(X_test)\n",
        "\n",
        "print(\"Acurácia para o PCA sem escala\")\n",
        "print(f\"{accuracy_score(y_test, y_pred):.2%}\\n\")\n",
        "print(\"Acurácia para o PCA com escala\")\n",
        "print(f\"{accuracy_score(y_test, y_pred_scaled):.2%}\\n\")\n"
      ],
      "metadata": {
        "colab": {
          "base_uri": "https://localhost:8080/"
        },
        "id": "i58gWa15ebAl",
        "outputId": "43c9f40d-4fc4-4e7c-fffc-00a0695820b4"
      },
      "execution_count": null,
      "outputs": [
        {
          "output_type": "stream",
          "name": "stdout",
          "text": [
            "Acurácia para o PCA sem escala\n",
            "35.19%\n",
            "\n",
            "Acurácia para o PCA com escala\n",
            "96.30%\n",
            "\n"
          ]
        },
        {
          "output_type": "stream",
          "name": "stderr",
          "text": [
            "/usr/local/lib/python3.10/dist-packages/sklearn/base.py:458: UserWarning: X has feature names, but PCA was fitted without feature names\n",
            "  warnings.warn(\n",
            "/usr/local/lib/python3.10/dist-packages/sklearn/base.py:458: UserWarning: X has feature names, but PCA was fitted without feature names\n",
            "  warnings.warn(\n"
          ]
        }
      ]
    },
    {
      "cell_type": "markdown",
      "source": [
        "#Exercícios  \n",
        "\n",
        "O objetivo deste exercício é ilustrar a do número de componentes principais e a variância explicada utilizados na acurácia do algoritmo.\n",
        "\n",
        "Explique com suas palavras a saída do  código a seguir. Altere o `n_components` para elaborar sua resposta.\n",
        "\n",
        "Lembrando que $1 \\leq \\text{n_components} \\leq 13$.\n",
        "\n",
        "A explicação deverá ser realizada na própria atividade do Moodle."
      ],
      "metadata": {
        "id": "GtMMvS3TUPRZ"
      }
    },
    {
      "cell_type": "code",
      "source": [
        "pca = PCA(n_components =2)\n",
        "pca.fit(Z.values);\n",
        "pca.explained_variance_ratio_"
      ],
      "metadata": {
        "colab": {
          "base_uri": "https://localhost:8080/"
        },
        "id": "fiLTOkScV-X2",
        "outputId": "6e975df8-093c-436a-d3ca-ad5d78414623"
      },
      "execution_count": null,
      "outputs": [
        {
          "output_type": "execute_result",
          "data": {
            "text/plain": [
              "array([0.36198848, 0.1920749 ])"
            ]
          },
          "metadata": {},
          "execution_count": 64
        }
      ]
    },
    {
      "cell_type": "markdown",
      "source": [
        "Analisando a saída do código PCA e explicando a variação\n",
        "\n",
        "O código Python apresentado realiza uma análise de componentes principais (PCA) em um conjunto de dados\n",
        "representado pela matriz Z.values. PCA é uma técnica estatística usada para reduzir a dimensionalidade\n",
        "dos dados, transformando um conjunto de variáveis ​​possivelmente correlacionadas em um conjunto menor de\n",
        "novas variáveis ​​não correlacionadas, chamadas componentes principais.\n",
        "\n",
        "Analisando partes do código:\n",
        "\n",
        "pca = PCA(n_components = 2): Cria um objeto PCA informando que queremos reduzir a dimensionalidade dos\n",
        "dados para apenas 2 componentes principais.\n",
        "\n",
        "pca.fit(Z.values): ajusta um modelo PCA aos dados e calcula os componentes principais.\n",
        "\n",
        "pca.explained_variance_ratio_: Retorna uma matriz da proporção da variância total explicada por cada\n",
        "componente principal.\n",
        "\n",
        "Interpretação da saída\n",
        "\n",
        "O output ([0,36198848, 0,1920749]) indica que:\n",
        "\n",
        "Primeiro Componente Principal: Explica 36,19% da variância total nos dados originais.\n",
        "Segundo componente principal: Explica 19,21% da variância total dos dados originais.\n",
        "\n",
        "Os dois primeiros componentes principais juntos explicam 36,19% + 19,21% = 55,4% da\n",
        "variância total dos dados.\n",
        "\n",
        "Alterando n_components\n",
        "\n",
        "O que acontece quando se altera n_components?\n",
        "\n",
        "Aumentando n_components:\n",
        "\n",
        "Explicando mais variação: Ao incluir mais componentes, captura se mais variabilidade nos dados originais.\n",
        "No entanto, a interpretação dos componentes pode ser mais complicada.\n",
        "Dimensionalidade aumentada: A dimensionalidade dos dados transformados é aumentada, o que pode não ser desejável\n",
        "em alguns casos, especialmente se a interpretabilidade for importante.\n",
        "\n",
        "Reduzindo n_components:\n",
        "\n",
        "Menos variação explicada: perde se algumas das informações originais, mas a interpretação dos componentes\n",
        "pode ser mais fácil.\n",
        "Maior redução da dimensionalidade: A dimensionalidade dos dados transformados é reduzida mais drasticamente.\n",
        "\n",
        "Exemplo:\n",
        "\n",
        "Se você definir n_components = 3, a matriz de saída terá três valores que representam a proporção da variação\n",
        "explicada por cada um dos três primeiros componentes principais. A soma desses valores será maior que 55,4%\n",
        "porque se está capturando mais da variância total dos dados.\n",
        "\n",
        "Considerações\n",
        "\n",
        "Escolha do número de componentes: A escolha do número ideal de componentes é um compromisso entre a capacidade\n",
        "de explicar a variância e a facilidade de interpretação.\n",
        "\n",
        "Critérios de seleção: Existem vários critérios para seleção do número de componentes, como o critério de Kaiser\n",
        "(preservação de componentes com autovalor maior que 1), o scree plot (elbow plot) e a explicação da variância\n",
        "acumulada.\n",
        "\n",
        "Interpretação dos componentes: Cada componente principal é uma combinação linear das variáveis ​​originais.\n",
        "A interpretação de componentes pode ser desafiadora, especialmente em grandes dimensões.\n",
        "\n",
        "PCA é uma ferramenta poderosa para reduzir a dimensionalidade dos dados e extrair os recursos mais importantes.\n",
        "Ao alterar o número de componentes, controla-se o equilíbrio entre a capacidade de explicar a variação e a\n",
        "complexidade do modelo. A interpretação da variância explicada por cada componente permite avaliar a qualidade\n",
        "da redução da dimensionalidade."
      ],
      "metadata": {
        "id": "26xuikHhxD8r"
      }
    }
  ]
}